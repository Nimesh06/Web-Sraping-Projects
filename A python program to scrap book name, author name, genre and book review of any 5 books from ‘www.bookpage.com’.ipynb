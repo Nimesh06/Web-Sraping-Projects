{
 "cells": [
  {
   "cell_type": "code",
   "execution_count": 83,
   "metadata": {},
   "outputs": [],
   "source": [
    "from bs4 import BeautifulSoup\n",
    "import requests\n",
    "import pandas as pd"
   ]
  },
  {
   "cell_type": "code",
   "execution_count": 1,
   "metadata": {},
   "outputs": [
    {
     "data": {
      "text/plain": [
       "b'<!DOCTYPE html>\\n<html lang=\\'en\\' xmlns:fb=\\'http://www.facebook.com/2008/fbml\\' xmlns:og=\\'http://opengraphprotocol.org/schema/\\'>\\n<head>\\n<title>Book Reviews | BookPage</title>\\n<meta name=\"description\" content=\"Book recommendations of the best new books by genre and more.\">\\n<meta name=\"keywords\" content=\"book reviews, books and literature, writing and writers\">\\n<link rel=\"canonical\" href=\"https://bookpage.com/reviews\">\\n<meta property=\"og:site_name\" content=\"BookPage.com\">\\n<meta property=\"og:title\" content=\"Book Reviews\">\\n<meta property=\"og:description\" content=\"Book recommendations of the best new books by genre and more.\">\\n<meta property=\"og:type\" content=\"website\">\\n<meta property=\"og:url\" content=\"https://bookpage.com/reviews\">\\n<meta property=\"og:image\" content=\"//www.bookpage.com/default_image.jpg\">\\n<meta name=\"twitter:card\" content=\"summary\">\\n<meta name=\"twitter:site\" content=\"@bookpage\">\\n<meta name=\"twitter:creator\" content=\"@bookpage\">\\n<meta name=\"robots\" content=\"index,follow\">\\n<meta name=\"application-name\" content=\"BookPage\">\\n<meta name=\"msapplication-tooltip\" content=\"BookPage\">\\n<meta name=\"msapplication-starturl\" content=\"https://bookpage.com/\">\\n<meta name=\"msapplication-task\" content=\"name=BookPage;action-uri=https://bookpage.com;icon-uri=https://bookpage.com/favicon.ico\">\\n<meta name=\"msapplication-task\" content=\"name=BookPage on Twitter;action-uri=http://twitter.com/bookpage;icon-uri=http://twitter.com/favicon.ico\">\\n<meta name=\"msapplication-task\" content=\"name=BookPage on Facebook;action-uri=https://www.facebook.com/pages/BookPage/116675947874;icon-uri=https://s-static.ak.facebook.com/rsrc.php/yi/r/q9U99v3_saj.ico\">\\n<meta name=\"msapplication-task\" content=\"name=BookPage on Pinterest;action-uri=http://www.pinterest.com/bookpage/;icon-uri=http://www.pinterest.com/favicon.ico\">\\n<meta name=\"msapplication-task\" content=\"name=BookPage on YouTube;action-uri=http://www.youtube.com/BookPagedotcom;icon-uri=http://www.youtube.com/favicon.ico\">\\n<meta charset=\\'utf-8\\'>\\n<meta content=\\'IE=Edge,chrome=1\\' http-equiv=\\'X-UA-Compatible\\'>\\n<meta content=\\'width=device-width, initial-scale=1.0\\' name=\\'viewport\\'>\\n<meta name=\"csrf-param\" content=\"authenticity_token\" />\\n<meta name=\"csrf-token\" content=\"Wjxk6iYbcLPkOYuDatIgiWB+KKMajH+81h0ftF5swoTWIopUHF9RI+CITNaacknYa9/Fc2jSOiVUJ0n9qnFpcw==\" />\\n<!-- Le HTML5 shim, for IE6-8 support of HTML elements -->\\n<!--[if lt IE 9]>\\n<script src=\"//html5shim.googlecode.com/svn/trunk/html5.js\"></script>\\n<![endif]-->\\n<link rel=\"stylesheet\" media=\"all\" href=\"/assets/application-d65a90e052a2d61ba87795acc24f13a44c3e10568595711f4d3520815752c897.css\" />\\n<link href=\\'/apple-touch-icon-180x180.png\\' rel=\\'apple-touch-icon\\' sizes=\\'180x180\\'>\\n<link href=\\'/apple-touch-icon-152x152.png\\' rel=\\'apple-touch-icon\\' sizes=\\'152x152\\'>\\n<link href=\\'/apple-touch-icon-144x144.png\\' rel=\\'apple-touch-icon\\' sizes=\\'144x144\\'>\\n<link href=\\'/apple-touch-icon-120x120.png\\' rel=\\'apple-touch-icon\\' sizes=\\'120x120\\'>\\n<link href=\\'/apple-touch-icon-114x114.png\\' rel=\\'apple-touch-icon\\' sizes=\\'114x114\\'>\\n<link href=\\'/apple-touch-icon-76x76.png\\' rel=\\'apple-touch-icon\\' sizes=\\'76x76\\'>\\n<link href=\\'/apple-touch-icon-72x72.png\\' rel=\\'apple-touch-icon\\' sizes=\\'72x72\\'>\\n<link href=\\'/apple-touch-icon.png\\' rel=\\'apple-touch-icon\\'>\\n<link href=\\'/favicon.ico\\' rel=\\'shortcut icon\\'>\\n<meta content=\\'BookPage\\' name=\\'apple-mobile-web-app-title\\'>\\n<link rel=\"alternate\" type=\"application/atom+xml\" title=\"ATOM\" href=\"/feed\" />\\n<link rel=\"alternate\" type=\"application/rss+xml\" title=\"RSS\" href=\"/feed.rss\" />\\n<link href=\\'//fonts.googleapis.com/css?family=Open+Sans:400,600,700,800\\' rel=\\'stylesheet\\' type=\\'text/css\\'>\\n<link href=\\'//fonts.googleapis.com/css?family=Open+Sans+Condensed:700\\' rel=\\'stylesheet\\' type=\\'text/css\\'>\\n<script async=\\'async\\' src=\\'https://www.googletagservices.com/tag/js/gpt.js\\'></script>\\n<script>\\n var googletag = googletag || {};\\n googletag.cmd = googletag.cmd || [];\\n</script>\\n\\n<script>\\n googletag.cmd.push(function() {\\n   googletag.defineSlot(\\'/4655871/ATL\\', [970, 250], \\'div-gpt-ad-1515619791087-0\\').addService(googletag.pubads());\\n   googletag.pubads().enableSingleRequest();\\n   googletag.enableServices();\\n });\\n</script>\\n\\n<script src=\\'//d3c3cq33003psk.cloudfront.net/opentag-123939-1670854.js\\' async defer></script><script type=\"text/javascript\">\\n var googletag = googletag || {};\\ngoogletag.cmd = googletag.cmd || [];\\n(function() {\\nvar gads = document.createElement(\"script\");\\ngads.async = true;\\ngads.type = \"text/javascript\";\\nvar useSSL = \"https:\" == document.location.protocol;\\ngads.src = (useSSL ? \"https:\" : \"http:\") + \"//www.googletagservices.com/tag/js/gpt.js\";\\nvar node =document.getElementsByTagName(\"script\")[0];\\nnode.parentNode.insertBefore(gads, node);\\n})();\\n</script>\\n\\n<!-- Global site tag (gtag.js) - Google Analytics -->\\n<script async src=\"https://www.googletagmanager.com/gtag/js?id=GTM-P85NP22\"></script>\\n<script>\\n  window.dataLayer = window.dataLayer || [];\\n  function gtag(){dataLayer.push(arguments);}\\n  gtag(\\'js\\', new Date());\\n\\n  gtag(\\'config\\', \\'GTM-P85NP22\\');\\n</script>\\n\\n<script>\\n  (function(i,s,o,g,r,a,m){i[\\'GoogleAnalyticsObject\\']=r;i[r]=i[r]||function(){\\n  (i[r].q=i[r].q||[]).push(arguments)},i[r].l=1*new Date();a=s.createElement(o),\\n  m=s.getElementsByTagName(o)[0];a.async=1;a.src=g;m.parentNode.insertBefore(a,m)\\n  })(window,document,\\'script\\',\\'//www.google-analytics.com/analytics.js\\',\\'ga\\');\\n\\n  ga(\\'create\\', \\'UA-9261499-1\\', \\'auto\\');\\n  ga(\\'send\\', \\'pageview\\');\\n</script>\\n<!-- Google Tag Manager -->\\n<script>(function(w,d,s,l,i){w[l]=w[l]||[];w[l].push({\\'gtm.start\\':\\nnew Date().getTime(),event:\\'gtm.js\\'});var f=d.getElementsByTagName(s)[0],\\nj=d.createElement(s),dl=l!=\\'dataLayer\\'?\\'&l=\\'+l:\\'\\';j.async=true;j.src=\\n\\'https://www.googletagmanager.com/gtm.js?id=\\'+i+dl;f.parentNode.insertBefore(j,f);\\n})(window,document,\\'script\\',\\'dataLayer\\',\\'GTM-P85NP22\\');</script>\\n<!-- End Google Tag Manager -->\\n\\n<!-- Facebook Pixel Code -->\\n<script>\\n!function(f,b,e,v,n,t,s){if(f.fbq)return;n=f.fbq=function(){n.callMethod?\\nn.callMethod.apply(n,arguments):n.queue.push(arguments)};if(!f._fbq)f._fbq=n;\\nn.push=n;n.loaded=!0;n.version=\\'2.0\\';n.queue=[];t=b.createElement(e);t.async=!0;\\nt.src=v;s=b.getElementsByTagName(e)[0];s.parentNode.insertBefore(t,s)}(window,\\ndocument,\\'script\\',\\'//connect.facebook.net/en_US/fbevents.js\\');\\n\\nfbq(\\'init\\', \\'1746518832242335\\');\\nfbq(\\'track\\', \"PageView\");</script>\\n<noscript><img height=\"1\" width=\"1\" style=\"display:none\"\\nsrc=\"https://www.facebook.com/tr?id=1746518832242335&ev=PageView&noscript=1\"\\n/></noscript>\\n<!-- End Facebook Pixel Code -->\\n\\n<script>\\n    (function(h,o,t,j,a,r){\\n        h.hj=h.hj||function(){(h.hj.q=h.hj.q||[]).push(arguments)};\\n        h._hjSettings={hjid:1209228,hjsv:6};\\n        a=o.getElementsByTagName(\\'head\\')[0];\\n        r=o.createElement(\\'script\\');r.async=1;\\n        r.src=t+h._hjSettings.hjid+j+h._hjSettings.hjsv;\\n        a.appendChild(r);\\n    })(window,document,\\'https://static.hotjar.com/c/hotjar-\\',\\'.js?sv=\\');\\n</script>\\n\\n<!-- Facebook Pixel Code -->\\n<script>(function(){var s = document.createElement(\\'script\\'),e = ! document.body ? document.querySelector(\\'head\\') : document.body;s.src = \\'https://acsbapp.com/apps/app/assets/js/acsb.js\\';s.async = s.defer = true;s.onload = function(){acsbJS.init({statementLink : \\'\\',feedbackLink : \\'\\',footerHtml : \\'\\',hideMobile : false,hideTrigger : false,language : \\'en\\',position : \\'right\\',leadColor : \\'#146FF8\\',triggerColor : \\'#146FF8\\',triggerRadius : \\'50%\\',triggerPositionX : \\'right\\',triggerPositionY : \\'bottom\\',triggerIcon : \\'default\\',triggerSize : \\'medium\\',triggerOffsetX : 20,triggerOffsetY : 20,mobile : {triggerSize : \\'small\\',triggerPositionX : \\'right\\',triggerPositionY : \\'center\\',triggerOffsetX : 0,triggerOffsetY : 0,triggerRadius : \\'50%\\'}});};e.appendChild(s);}());</script>\\n<!-- End Facebook Pixel Code -->\\n\\n</head>\\n\\n<body>\\n<!-- Google Tag Manager -->\\n<noscript><iframe src=\"//www.googletagmanager.com/ns.html?id=GTM-T5GJ4V\"\\nheight=\"0\" width=\"0\" style=\"display:none;visibility:hidden\"></iframe></noscript>\\n<script>(function(w,d,s,l,i){w[l]=w[l]||[];w[l].push({\\'gtm.start\\':\\nnew Date().getTime(),event:\\'gtm.js\\'});var f=d.getElementsByTagName(s)[0],\\nj=d.createElement(s),dl=l!=\\'dataLayer\\'?\\'&l=\\'+l:\\'\\';j.async=true;j.src=\\n\\'//www.googletagmanager.com/gtm.js?id=\\'+i+dl;f.parentNode.insertBefore(j,f);\\n})(window,document,\\'script\\',\\'dataLayer\\',\\'GTM-T5GJ4V\\');</script>\\n<!-- End Google Tag Manager -->\\n\\n<!-- Google Tag Manager (noscript) -->\\n<noscript><iframe src=\"https://www.googletagmanager.com/ns.html?id=GTM-P85NP22\"\\nheight=\"0\" width=\"0\" style=\"display:none;visibility:hidden\"></iframe></noscript>\\n<!-- End Google Tag Manager (noscript) -->\\n\\n<!-- google ads -->\\n<script data-ad-client=\"ca-pub-1933750090033622\" async src=\"https://pagead2.googlesyndication.com/pagead/js/adsbygoogle.js\"></script>\\n\\n<div class=\\'container-fluid\\'>\\n<div class=\\'header\\'>\\n<div class=\\'navbar navbar-default navbar-fixed-top bp-nav\\'>\\n<div class=\\'row-fluid subscribe\\'>\\n<a class=\\'button\\' href=\\'https://signup.e2ma.net/signup/1896962/28888/\\' onclick=\"window.open(\\'https://signup.e2ma.net/signup/1896962/28888/\\', \\'signup\\', \\'menubar=no, location=no, toolbar=no, scrollbars=yes, height=800, width=500\\'); return false;\">Sign up for our newsletters!</a>\\n</div>\\n<div class=\\'navbar-inner\\'>\\n<a class=\\'btn btn-navbar\\' data-target=\\'.nav-collapse\\' data-toggle=\\'collapse\\'>\\n<i class=\\'zmdi zmdi-menu\\'></i>\\n</a>\\n<a href=\\'/\\'>\\n<img class=\"brand\" src=\"/assets/logos/logo_large-d48d8b33b2656c699a6815c500d328a7d0ee40edfde8536e957bfb739cfbf611.png\" alt=\"Logo large\" />\\n</a>\\n<div class=\\'nav-collapse\\'>\\n<ul class=\\'nav bp-navtext\\'>\\n<li class=\\'\\'><a href=\"/print-edition\">Print Edition</a></li>\\n<li class=\\'current dropdown\\'>\\n<a aria-expanded=\\'false\\' aria-haspopup=\\'true\\' class=\\'dropdown-toggle\\' data-toggle=\\'dropdown\\' href=\\'/reviews\\' role=\\'button\\'>Book Reviews</a>\\n<ul class=\\'dropdown-menu\\'>\\n<li><a href=\"/reviews\">All Reviews</a></li>\\n<li><a href=\"/reviews?book_genre=fiction&amp;page=1\">Fiction</a></li>\\n<li><a href=\"/reviews?book_genre=nonfiction&amp;page=1\">Nonfiction</a></li>\\n<li><a href=\"/reviews?book_genre=children_s&amp;page=1\">Children&#39;s</a></li>\\n<li><a href=\"/reviews?book_genre=ya&amp;page=1\">YA</a></li>\\n<li><a href=\"/reviews?book_genre=mystery_suspense&amp;page=1\">Mystery</a></li>\\n<li><a href=\"/reviews?book_genre=romance&amp;page=1\">Romance</a></li>\\n</ul>\\n</li>\\n<li class=\\'\\'><a href=\"/interviews\">Interviews</a></li>\\n<li class=\\'\\'><a href=\"/features\">Features</a></li>\\n<li class=\\'nav-last dropdown\\'>\\n<a aria-expanded=\\'false\\' aria-haspopup=\\'true\\' class=\\'dropdown-toggle\\' data-toggle=\\'dropdown\\' href=\\'/reviews\\' role=\\'button\\'>Subscribe</a>\\n<ul class=\\'dropdown-menu\\'>\\n<li><a target=\"_blank\" href=\"http://www.subscriptions.bookpage.com/library\">Library</a></li>\\n<li><a target=\"_blank\" href=\"http://www.subscriptions.bookpage.com/bookstore\">Bookstore</a></li>\\n<li><a target=\"_blank\" href=\"http://MIurl.cc/Z6eD1pmI\">Individual</a></li>\\n</ul>\\n</li>\\n<div class=\\'search-box\\'>\\n<form class=\"search-form\" action=\"/search/\" accept-charset=\"UTF-8\" method=\"get\"><input name=\"utf8\" type=\"hidden\" value=\"&#x2713;\" />\\n<div class=\\'input-prepend\\'>\\n<span class=\\'add-on add-on-custom\\'>\\n<i class=\\'fa fa-search\\'></i>\\n</span>\\n<input type=\"text\" name=\"query\" id=\"query\" class=\"input-medium query-input\" placeholder=\"Search BookPage\" />\\n</div>\\n</form>\\n\\n</div>\\n\\n</ul>\\n</div>\\n</div>\\n</div>\\n\\n</div>\\n<div class=\\'page-content\\'>\\n<!-- Main Content -->\\n<div class=\\'row-fluid articles-index\\'>\\n<div class=\\'row-fluid\\'>\\n<div class=\\'search-bar\\'>\\n<div class=\\'breadcrumbs\\'>\\n<p>\\n<a href=\"/\">Home</a>\\n&nbsp;<i class=\\'zmdi zmdi-chevron-right\\'></i>\\n<h1 class=\\'sans\\'>\\nBook reviews\\n</h1>\\n</p>\\n</div>\\n<br class=\\'clear\\'>\\n</div>\\n\\n</div>\\n<div class=\\'row-fluid\\'>\\n<!-- Articles Column -->\\n<div class=\\'span9\\'>\\n<div class=\\'bp-well\\'>\\n<div class=\\'row-fluid article-row\\'>\\n<div class=\\'bp-block article-info\\'>\\n<div class=\\'article-list-left\\'>\\n<a href=\"/reviews/26641-phoebe-robinson-please-dont-sit-my-bed-your-outside-clothes-nonfiction\"><img src=\"https://t1.bookpage.com/books/images/f246dbd5becfa2b3b6540fd0df63865e/medium.jpg\" alt=\"Medium\" /></a>\\n</div>\\n<div class=\\'flex-article-content\\'>\\n<h4 class=\\'italic\\'>\\n<a href=\"/reviews/26641-phoebe-robinson-please-dont-sit-my-bed-your-outside-clothes-nonfiction\">Please Don\\'t Sit on My Bed in Your Outside Clothes</a>\\n</h4>\\n<p class=\\'sans bold\\'>\\nPhoebe Robinson\\n</p>\\n<p class=\\'genre-links hidden-phone\\'>\\n<a href=\"/search?book_genre=nonfiction\">Nonfiction</a>\\n / \\n<a href=\"/search?book_genre=essays\">Essays</a>\\n / \\n<a href=\"/search?book_genre=humor\">Humor</a>\\n</p>\\n\\n<p class=\\'excerpt\\'>\\nNot only are Phoebe Robinson&rsquo;s essays super funny, they&rsquo;re also enlightening and thought-provoking, dotted with hits of poetry, anger and revelation.\\n</p>\\n<div class=\\'read-full\\'>\\n<a href=\"/reviews/26641-phoebe-robinson-please-dont-sit-my-bed-your-outside-clothes-nonfiction\">Read the Review <i class=\\'zmdi zmdi-chevron-right\\'></i></a>\\n</div>\\n</div>\\n<br class=\\'clear\\'>\\n</div>\\n\\n</div>\\n<div class=\\'row-fluid article-row\\'>\\n<div class=\\'bp-block article-info\\'>\\n<div class=\\'article-list-left\\'>\\n<a href=\"/reviews/26686-christina-henry-horseman-science-fiction-fantasy\"><img src=\"https://t1.bookpage.com/books/images/a36f4b187070e70fa2baa33ea4e2db5d/medium.jpg\" alt=\"Medium\" /></a>\\n</div>\\n<div class=\\'flex-article-content\\'>\\n<h4 class=\\'italic\\'>\\n<a href=\"/reviews/26686-christina-henry-horseman-science-fiction-fantasy\">Horseman</a>\\n</h4>\\n<p class=\\'sans bold\\'>\\nChristina Henry\\n</p>\\n<p class=\\'genre-links hidden-phone\\'>\\n<a href=\"/search?book_genre=science_fiction_fantasy\">Science Fiction &amp; Fantasy</a>\\n / \\n<a href=\"/search?book_genre=fantasy\">Fantasy</a>\\n / \\n<a href=\"/search?book_genre=historical_fantasy\">Historical Fantasy</a>\\n</p>\\n\\n<p class=\\'excerpt\\'>\\n<p>Christina Henry&rsquo;s <strong>Horseman</strong> is an atmospheric and haunting reimagining of Washington Irving&rsquo;s &ldquo;The Legend of Sleepy Hollow,&rdquo; perfect for both fans of classic horror and those new to the tale of the Headless Horseman.</p>\\n</p>\\n<div class=\\'read-full\\'>\\n<a href=\"/reviews/26686-christina-henry-horseman-science-fiction-fantasy\">Read the Review <i class=\\'zmdi zmdi-chevron-right\\'></i></a>\\n</div>\\n</div>\\n<br class=\\'clear\\'>\\n</div>\\n\\n</div>\\n<div class=\\'row-fluid article-row\\'>\\n<div class=\\'bp-block article-info\\'>\\n<div class=\\'article-list-left\\'>\\n<a href=\"/reviews/26660-anthony-doerr-cloud-cuckoo-land-fiction\"><img src=\"https://t1.bookpage.com/books/images/c07a6a9881ff075df71a7f67acebbeb6/medium.jpg\" alt=\"Medium\" /></a>\\n</div>\\n<div class=\\'flex-article-content\\'>\\n<h4 class=\\'italic\\'>\\n<a href=\"/reviews/26660-anthony-doerr-cloud-cuckoo-land-fiction\"> <span style=\\'font-style:normal;\\'>&#x2605 </span>Cloud Cuckoo Land</a>\\n</h4>\\n<p class=\\'sans bold\\'>\\nAnthony Doerr\\n</p>\\n<p class=\\'genre-links hidden-phone\\'>\\n<a href=\"/search?book_genre=fiction\">Fiction</a>\\n / \\n<a href=\"/search?book_genre=literary_fiction\">Literary Fiction</a>\\n</p>\\n\\n<p class=\\'excerpt\\'>\\nSorrow and violence play large roles in the latest novel from Anthony Doerr, but so does tenderness.\\n</p>\\n<div class=\\'read-full\\'>\\n<a href=\"/reviews/26660-anthony-doerr-cloud-cuckoo-land-fiction\">Read the Review <i class=\\'zmdi zmdi-chevron-right\\'></i></a>\\n</div>\\n</div>\\n<br class=\\'clear\\'>\\n</div>\\n\\n</div>\\n<div class=\\'row-fluid article-row\\'>\\n<div class=\\'bp-block article-info\\'>\\n<div class=\\'article-list-left\\'>\\n<a href=\"/reviews/26696-sharon-cameron-bluebird-ya\"><img src=\"https://t1.bookpage.com/books/images/f0090258b6bdc0691fa23f8fac904005/medium.jpg\" alt=\"Medium\" /></a>\\n</div>\\n<div class=\\'flex-article-content\\'>\\n<h4 class=\\'italic\\'>\\n<a href=\"/reviews/26696-sharon-cameron-bluebird-ya\"> <span style=\\'font-style:normal;\\'>&#x2605 </span>Bluebird</a>\\n</h4>\\n<p class=\\'sans bold\\'>\\nSharon Cameron\\n</p>\\n<p class=\\'genre-links hidden-phone\\'>\\n<a href=\"/search?book_genre=ya\">YA</a>\\n / \\n<a href=\"/search?book_genre=ya_fiction\">YA Fiction</a>\\n</p>\\n\\n<p class=\\'excerpt\\'>\\n<p>In <strong>Bluebird</strong>, author Sharon Cameron (<em>The Light in Hidden Places</em>) dives deep into the dark, little-recognized period immediately following WWII, when the U.S. raced to secure German technology, including Nazi expertise, equipment and strategy, both for its personal use and to keep it out of Soviet...</p>\\n</p>\\n<div class=\\'read-full\\'>\\n<a href=\"/reviews/26696-sharon-cameron-bluebird-ya\">Read the Review <i class=\\'zmdi zmdi-chevron-right\\'></i></a>\\n</div>\\n</div>\\n<br class=\\'clear\\'>\\n</div>\\n\\n</div>\\n<div class=\\'row-fluid article-row\\'>\\n<div class=\\'bp-block article-info\\'>\\n<div class=\\'article-list-left\\'>\\n<a href=\"/reviews/26671-nicholas-sparks-wish-fiction\"><img src=\"https://t1.bookpage.com/books/images/1066c54ba38266b828ba8008c3249631/medium.jpg\" alt=\"Medium\" /></a>\\n</div>\\n<div class=\\'flex-article-content\\'>\\n<h4 class=\\'italic\\'>\\n<a href=\"/reviews/26671-nicholas-sparks-wish-fiction\">The Wish</a>\\n</h4>\\n<p class=\\'sans bold\\'>\\nNicholas Sparks\\n</p>\\n<p class=\\'genre-links hidden-phone\\'>\\n<a href=\"/search?book_genre=fiction\">Fiction</a>\\n / \\n<a href=\"/search?book_genre=popular_fiction\">Popular Fiction</a>\\n</p>\\n\\n<p class=\\'excerpt\\'>\\nHeuristic and dazzling, Nicholas Sparks\\xe2\\x80\\x99 novel convinces its reader to believe, in spite of everything, in love.\\n</p>\\n<div class=\\'read-full\\'>\\n<a href=\"/reviews/26671-nicholas-sparks-wish-fiction\">Read the Review <i class=\\'zmdi zmdi-chevron-right\\'></i></a>\\n</div>\\n</div>\\n<br class=\\'clear\\'>\\n</div>\\n\\n</div>\\n<div class=\\'row-fluid article-row\\'>\\n<div class=\\'bp-block article-info\\'>\\n<div class=\\'article-list-left\\'>\\n<a href=\"/reviews/26676-kao-kalia-yang-from-tops-trees-childrens\"><img src=\"https://t1.bookpage.com/books/images/f501cc5631e0a470aa3fcd0f317fecb7/medium.jpg\" alt=\"Medium\" /></a>\\n</div>\\n<div class=\\'flex-article-content\\'>\\n<h4 class=\\'italic\\'>\\n<a href=\"/reviews/26676-kao-kalia-yang-from-tops-trees-childrens\">From the Tops of the Trees</a>\\n</h4>\\n<p class=\\'sans bold\\'>\\nKao Kalia Yang, Rachel Wada\\n</p>\\n<p class=\\'genre-links hidden-phone\\'>\\n<a href=\"/search?book_genre=children_s\">Children&#39;s</a>\\n / \\n<a href=\"/search?book_genre=picture_book\">Picture Book</a>\\n</p>\\n\\n<p class=\\'excerpt\\'>\\n<p>With realism and a strong thread of empowerment, author Kao Kalia Yang shares a story based on events she experienced as a child living at Thailand&rsquo;s Ban Vinai Refugee Camp in <strong>From the Tops of the Trees</strong>.</p>\\n</p>\\n<div class=\\'read-full\\'>\\n<a href=\"/reviews/26676-kao-kalia-yang-from-tops-trees-childrens\">Read the Review <i class=\\'zmdi zmdi-chevron-right\\'></i></a>\\n</div>\\n</div>\\n<br class=\\'clear\\'>\\n</div>\\n\\n</div>\\n<div class=\\'row-fluid article-row\\'>\\n<div class=\\'bp-block article-info\\'>\\n<div class=\\'article-list-left\\'>\\n<a href=\"/reviews/26718-margaret-rogerson-vespertine-ya\"><img src=\"https://t1.bookpage.com/books/images/205171b01b9ce30866831d9a95c3609f/medium.jpg\" alt=\"Medium\" /></a>\\n</div>\\n<div class=\\'flex-article-content\\'>\\n<h4 class=\\'italic\\'>\\n<a href=\"/reviews/26718-margaret-rogerson-vespertine-ya\">Vespertine</a>\\n</h4>\\n<p class=\\'sans bold\\'>\\nMargaret Rogerson\\n</p>\\n<p class=\\'genre-links hidden-phone\\'>\\n<a href=\"/search?book_genre=ya\">YA</a>\\n / \\n<a href=\"/search?book_genre=ya_fiction\">YA Fiction</a>\\n</p>\\n\\n<p class=\\'excerpt\\'>\\n<p><strong>Vespertine</strong> blends darkness, thrills and satisfying characterization for an engrossing fantasy tale.</p>\\n</p>\\n<div class=\\'read-full\\'>\\n<a href=\"/reviews/26718-margaret-rogerson-vespertine-ya\">Read the Review <i class=\\'zmdi zmdi-chevron-right\\'></i></a>\\n</div>\\n</div>\\n<br class=\\'clear\\'>\\n</div>\\n\\n</div>\\n<div class=\\'row-fluid article-row\\'>\\n<div class=\\'bp-block article-info\\'>\\n<div class=\\'article-list-left\\'>\\n<a href=\"/reviews/26653-christine-platt-afrominimalists-guide-to-living-with-less-audio\"><img src=\"https://t1.bookpage.com/books/images/d4d41848c4bf87a4c8a69a276872ea58/medium.jpg\" alt=\"Medium\" /></a>\\n</div>\\n<div class=\\'flex-article-content\\'>\\n<h4 class=\\'italic\\'>\\n<a href=\"/reviews/26653-christine-platt-afrominimalists-guide-to-living-with-less-audio\">The Afrominimalist\\xe2\\x80\\x99s Guide to Living With Less</a>\\n</h4>\\n<p class=\\'sans bold\\'>\\nChristine Platt, Cast\\n</p>\\n<p class=\\'genre-links hidden-phone\\'>\\n<a href=\"/search?book_genre=audio\">Audio</a>\\n / \\n<a href=\"/search?book_genre=nonfiction\">Nonfiction</a>\\n / \\n<a href=\"/search?book_genre=lifestyles\">Lifestyles</a>\\n</p>\\n\\n<p class=\\'excerpt\\'>\\nAfrominimalist Christine Platt\\xe2\\x80\\x99s calm, careful narration of her journey toward living with less is both relatable and reassuring.\\n</p>\\n<div class=\\'read-full\\'>\\n<a href=\"/reviews/26653-christine-platt-afrominimalists-guide-to-living-with-less-audio\">Read the Review <i class=\\'zmdi zmdi-chevron-right\\'></i></a>\\n</div>\\n</div>\\n<br class=\\'clear\\'>\\n</div>\\n\\n</div>\\n<div class=\\'row-fluid article-row\\'>\\n<div class=\\'bp-block article-info\\'>\\n<div class=\\'article-list-left\\'>\\n<a href=\"/reviews/26646-amia-srinivasan-right-to-sex-nonfiction\"><img src=\"https://t1.bookpage.com/books/images/c3f4a9abc9cc4eceb4c8a43675e5b028/medium.jpg\" alt=\"Medium\" /></a>\\n</div>\\n<div class=\\'flex-article-content\\'>\\n<h4 class=\\'italic\\'>\\n<a href=\"/reviews/26646-amia-srinivasan-right-to-sex-nonfiction\"> <span style=\\'font-style:normal;\\'>&#x2605 </span>The Right to Sex</a>\\n</h4>\\n<p class=\\'sans bold\\'>\\nAmia Srinivasan\\n</p>\\n<p class=\\'genre-links hidden-phone\\'>\\n<a href=\"/search?book_genre=nonfiction\">Nonfiction</a>\\n / \\n<a href=\"/search?book_genre=social_science\">Social Science</a>\\n</p>\\n\\n<p class=\\'excerpt\\'>\\nAmia Srinivasan&rsquo;s book about sex and consent is invaluable for readers interested in intelligent, clear and nuanced analysis rather than hasty clickbait.\\n</p>\\n<div class=\\'read-full\\'>\\n<a href=\"/reviews/26646-amia-srinivasan-right-to-sex-nonfiction\">Read the Review <i class=\\'zmdi zmdi-chevron-right\\'></i></a>\\n</div>\\n</div>\\n<br class=\\'clear\\'>\\n</div>\\n\\n</div>\\n<div class=\\'row-fluid article-row\\'>\\n<div class=\\'bp-block article-info\\'>\\n<div class=\\'article-list-left\\'>\\n<a href=\"/reviews/26656-brandy-colbert-black-birds-sky-ya\"><img src=\"https://t1.bookpage.com/books/images/04f5fd410b03a584c91e434fdf4bb865/medium.jpg\" alt=\"Medium\" /></a>\\n</div>\\n<div class=\\'flex-article-content\\'>\\n<h4 class=\\'italic\\'>\\n<a href=\"/reviews/26656-brandy-colbert-black-birds-sky-ya\"> <span style=\\'font-style:normal;\\'>&#x2605 </span>Black Birds in the Sky</a>\\n</h4>\\n<p class=\\'sans bold\\'>\\nBrandy Colbert\\n</p>\\n<p class=\\'genre-links hidden-phone\\'>\\n<a href=\"/search?book_genre=ya\">YA</a>\\n / \\n<a href=\"/search?book_genre=ya_nonfiction\">YA Nonfiction</a>\\n</p>\\n\\n<p class=\\'excerpt\\'>\\n<strong>Black Birds in the Sky</strong> tells the truth about an event that every American should know about. It&rsquo;s a horrifying account told with great care.</p>\\n</p>\\n<div class=\\'read-full\\'>\\n<a href=\"/reviews/26656-brandy-colbert-black-birds-sky-ya\">Read the Review <i class=\\'zmdi zmdi-chevron-right\\'></i></a>\\n</div>\\n</div>\\n<br class=\\'clear\\'>\\n</div>\\n\\n</div>\\n<div class=\\'pagination\\'>\\n<ul>\\n\\n\\n<li class=\\'active\\'>\\n<a href=\"#\">1</a>\\n</li>\\n\\n<li class=\\'\\'>\\n<a rel=\"next\" href=\"/reviews?page=2\">2</a>\\n</li>\\n\\n<li class=\\'\\'>\\n<a href=\"/reviews?page=3\">3</a>\\n</li>\\n\\n<li class=\\'disabled\\'>\\n<a href=\"#\">&hellip;</a>\\n</li>\\n\\n<li>\\n<a rel=\"next\" href=\"/reviews?page=2\">Next &rsaquo;</a>\\n</li>\\n\\n<li>\\n<a href=\"/reviews?page=1000\">Last &raquo;</a>\\n</li>\\n\\n</ul>\\n</div>\\n\\n</div>\\n</div>\\n<!-- Refinements Column -->\\n<div class=\\'span3\\'>\\n<div id=\\'facet-box\\'>\\n<div class=\\'hidden-phone\\'>\\n<div class=\\'sidebar-header facet-header\\'>\\n<span>\\nBrowse Book reviews\\n</span>\\n</div>\\n<div class=\\'sidebar-body\\'>\\n<div class=\\'facets\\'>\\n<p aria-controls=\\'Genres\\' aria-expanded=\\'false\\' data-target=\\'#Genres\\' data-toggle=\\'collapse\\'>\\nGenres <i class=\\'zmdi zmdi-chevron-down\\'></i>\\n</p>\\n<ul class=\\'collapse\\' id=\\'Genres\\'>\\n<li>\\n<a href=\"/reviews?book_genre=fiction&amp;page=1\">Fiction</a>\\n</li>\\n<li>\\n<a href=\"/reviews?book_genre=children_s&amp;page=1\">Children&#39;s</a>\\n</li>\\n<li>\\n<a href=\"/reviews?book_genre=nonfiction&amp;page=1\">Nonfiction</a>\\n</li>\\n<li>\\n<a href=\"/reviews?book_genre=biography_memoir&amp;page=1\">Biography Memoir</a>\\n</li>\\n<li>\\n<a href=\"/reviews?book_genre=ya&amp;page=1\">YA</a>\\n</li>\\n<li>\\n<a href=\"/reviews?book_genre=ya_fiction&amp;page=1\">YA Fiction</a>\\n</li>\\n<li>\\n<a href=\"/reviews?book_genre=memoir&amp;page=1\">Memoir</a>\\n</li>\\n<li>\\n<a href=\"/reviews?book_genre=mystery_suspense&amp;page=1\">Mystery Suspense</a>\\n</li>\\n<li>\\n<a href=\"/reviews?book_genre=middle_grade&amp;page=1\">Middle Grade</a>\\n</li>\\n<li>\\n<a href=\"/reviews?book_genre=history&amp;page=1\">History</a>\\n</li>\\n<li>\\n<a href=\"/reviews?book_genre=children_s_picture&amp;page=1\">Children&#39;s Picture</a>\\n</li>\\n<li>\\n<a href=\"/reviews?book_genre=historical_fiction&amp;page=1\">Historical Fiction</a>\\n</li>\\n<li>\\n<a href=\"/reviews?book_genre=children_s_chapter&amp;page=1\">Children&#39;s Chapter</a>\\n</li>\\n<li>\\n<a href=\"/reviews?book_genre=biography&amp;page=1\">Biography</a>\\n</li>\\n<li>\\n<a href=\"/reviews?book_genre=literary_fiction&amp;page=1\">Literary Fiction</a>\\n</li>\\n<li>\\n<a href=\"/reviews?book_genre=debut_fiction&amp;page=1\">Debut Fiction</a>\\n</li>\\n<li>\\n<a href=\"/reviews?book_genre=science_fiction_fantasy&amp;page=1\">Science Fiction Fantasy</a>\\n</li>\\n<li>\\n<a href=\"/reviews?book_genre=business_finance&amp;page=1\">Business Finance</a>\\n</li>\\n<li>\\n<a href=\"/reviews?book_genre=suspense&amp;page=1\">Suspense</a>\\n</li>\\n<li>\\n<a href=\"/reviews?book_genre=mystery&amp;page=1\">Mystery</a>\\n</li>\\n<li>\\n<a href=\"/reviews?book_genre=science_nature&amp;page=1\">Science Nature</a>\\n</li>\\n<li>\\n<a href=\"/reviews?book_genre=arts_culture&amp;page=1\">Arts Culture</a>\\n</li>\\n<li>\\n<a href=\"/reviews?book_genre=lifestyles&amp;page=1\">Lifestyles</a>\\n</li>\\n<li>\\n<a href=\"/reviews?book_genre=romance&amp;page=1\">Romance</a>\\n</li>\\n<li>\\n<a href=\"/reviews?book_genre=fantasy&amp;page=1\">Fantasy</a>\\n</li>\\n<li>\\n<a href=\"/reviews?book_genre=women_s_fiction&amp;page=1\">Women&#39;s Fiction</a>\\n</li>\\n<li>\\n<a href=\"/reviews?book_genre=science&amp;page=1\">Science</a>\\n</li>\\n<li>\\n<a href=\"/reviews?book_genre=sports&amp;page=1\">Sports</a>\\n</li>\\n<li>\\n<a href=\"/reviews?book_genre=family_relationships&amp;page=1\">Family Relationships</a>\\n</li>\\n<li>\\n<a href=\"/reviews?book_genre=contemporary_romance&amp;page=1\">Contemporary Romance</a>\\n</li>\\n</ul>\\n</div>\\n\\n\\n</div>\\n\\n</div>\\n<div class=\\'bp-well email-bar sidebar\\'>\\n<div class=\\'row-fluid text-content\\'>\\n<div class=\\'col\\'>\\n<a class=\\'button\\' href=\\'https://signup.e2ma.net/signup/1896962/28888/\\' onclick=\"window.open(\\'https://signup.e2ma.net/signup/1896962/28888/\\', \\'signup\\', \\'menubar=no, location=no, toolbar=no, scrollbars=yes, height=800, width=500\\'); return false;\">\\n<p>Sign up for our newsletters!</p>\\n</a>\\n</div>\\n</div>\\n</div>\\n\\n\\n</div>\\n<div class=\\'sq-ad btm-margin\\'>\\n<script type=\"text/javascript\" language=\"JavaScript\">\\n aj_server = \\'https://litbreaker.nui.media/pipeline/\\'; aj_tagver = \\'1.0\\';\\n aj_zone = \\'litbreaker\\'; aj_adspot = \\'519024\\'; aj_page = \\'0\\'; aj_dim =\\'514841\\'; aj_ch = \\'\\'; aj_ct = \\'\\'; aj_kw = \\'\\';\\n aj_pv = true; aj_click = \\'\\';\\n</script><script type=\"text/javascript\" language=\"JavaScript\" src=\"https://img.nui.media/banners/ajtg.js\"></script>\\n\\n</div>\\n</div>\\n</div>\\n<div class=\\'row-fluid button-row\\'>\\n\\n<!-- billboard size -->\\n<script type=\"text/javascript\" language=\"JavaScript\">\\nif (window.innerWidth <= 600) {\\nvar aj_dim = 514841;\\n} else if (window.innerWidth >= 1000) {\\nvar aj_dim = \\'514838,514839\\';\\n} else {\\nvar aj_dim = 514839;\\n};\\naj_server = \\'https://litbreaker.nui.media/pipeline/\\'; aj_tagver = \\'1.0\\';\\naj_zone = \\'litbreaker\\'; aj_adspot = \\'518299\\'; aj_page = \\'0\\'; aj_ch = \\'\\'; aj_kw = \\'\\';\\naj_pv = true; aj_click = \\'\\';\\n</script><script type=\"text/javascript\" language=\"JavaScript\" src=\"https://img.nui.media/banners/ajtg.js\"></script>\\n\\n<!-- <script type=\"text/javascript\" language=\"JavaScript\">\\naj_server = \\'https://litbreaker.nui.media/pipeline/\\'; aj_tagver = \\'1.0\\';\\naj_zone = \\'litbreaker\\'; aj_adspot = \\'518299\\'; aj_page = \\'0\\'; aj_dim =\\'514838,514839\\'; aj_ch = \\'\\'; aj_ct = \\'\\'; aj_kw = \\'\\';\\naj_pv = true; aj_click = \\'\\';\\n</script><script type=\"text/javascript\" language=\"JavaScript\" src=\"https://img.nui.media/banners/ajtg.js\"></script>\\n-->\\n\\n<!-- <script type=\"text/javascript\" language=\"JavaScript\">\\naj_server = \\'https://litbreaker.nui.media/pipeline/\\'; aj_tagver = \\'1.0\\';\\naj_zone = \\'litbreaker\\'; aj_adspot = \\'557205\\'; aj_page = \\'0\\'; aj_dim =\\'514838\\'; aj_ch = \\'\\'; aj_ct = \\'\\'; aj_kw = \\'\\';\\naj_pv = true; aj_click = \\'\\';\\n</script><script type=\"text/javascript\" language=\"JavaScript\" src=\"https://img.nui.media/banners/ajtg.js\"></script> -->\\n\\n</div>\\n</div>\\n\\n</div>\\n</div>\\n<div class=\\'container-fluid no-padding\\'>\\n<div class=\\'footer row-fluid\\'>\\n<div class=\\'dark-block span12\\'>\\n<footer>\\n<div class=\\'row-fluid brand\\'>\\n<div class=\\'span3\\'></div>\\n<div class=\\'span6 middle\\'>\\n<img width=\"156\" height=\"36\" class=\"brand\" src=\"/assets/logos/logo_gray-895f864507d68e549bee2b02a0872a197ce42fe59b407ad4651db8acf446f06b.png\" alt=\"Logo gray\" />\\n</div>\\n</div>\\n<div class=\\'row-fluid\\'>\\n<p class=\\'list-header\\'>Subscriptions</p>\\n<p class=\\'sitemap\\'>\\n<a target=\"_blank\" href=\"http://www.subscriptions.bookpage.com/bookstore\">Bookstore</a>\\n\\xe2\\x80\\xa2\\n<a target=\"_blank\" href=\"http://www.subscriptions.bookpage.com/library\">Library</a>\\n\\xe2\\x80\\xa2\\n<a target=\"_blank\" href=\"http://MIurl.cc/Z6eD1pmI\">Individual</a>\\n\\xe2\\x80\\xa2\\n<a href=\"https://www.amazon.com/BookPage/dp/B00ATRKG30/ref=sr_1_1?ie=UTF8&amp;qid=1533306733&amp;sr=8-1&amp;keywords=bookpage\">Digital\\n</a>\\xe2\\x80\\xa2\\n<a href=\"/content/locations\">Find BookPage\\n</a></p>\\n</div>\\n<div class=\\'row-fluid\\'>\\n<p class=\\'list-header\\'>Company</p>\\n<p class=\\'sitemap\\'>\\n<a href=\"/content/about-us\">About BookPage\\n</a>\\xe2\\x80\\xa2\\n<a href=\"/content/advertise\">Advertise\\n</a>\\xe2\\x80\\xa2\\n<a href=\"/content/contact-us\">Contact Us\\n</a>\\xe2\\x80\\xa2\\n<a href=\"/content/privacy\">Privacy Policy\\n</a>\\xe2\\x80\\xa2\\n<a href=\"/content/submission-guidelines\">Submission Guidelines\\n</a></p>\\n</div>\\n<div class=\\'row-fluid\\'>\\n<div class=\\'social-block\\'>\\n<a href=\"https://www.facebook.com/pages/BookPage/116675947874\"><i class=\\'zmdi zmdi-facebook-box\\'></i></a>\\n<a href=\"https://twitter.com/bookpage\"><i class=\\'zmdi zmdi-twitter-box\\'></i></a>\\n<a href=\"https://www.instagram.com/readbookpage/?hl=en\"><i class=\\'zmdi zmdi-instagram\\'></i></a>\\n</div>\\n</div>\\n<div class=\\'row-fluid copyright\\'>\\n<p>&copy; 1996-2021 BookPage and ProMotion, inc. | 2143 Belcourt Avenue, Nashville, TN 37212</p>\\n</div>\\n</footer>\\n</div>\\n</div>\\n\\n</div>\\n<script src=\"/assets/application-8a7d9ed6d528157c163702ce8da91235bc386358e07d32fbb4658ae48c768826.js\"></script>\\n<script id=\"e2ma-embed\" type=\"text/javascript\">window.e2ma=window.e2ma||{};e2ma.accountId=\\'28888\\';</script>\\n<script src=\"//dk98ddgl0znzm.cloudfront.net/e2ma.js\" async=\"async\"></script>\\n\\n</body>\\n</html>\\n'"
      ]
     },
     "execution_count": 1,
     "metadata": {},
     "output_type": "execute_result"
    }
   ],
   "source": [
    "# importing all the required libraries\n",
    "\n",
    "\n",
    "# sending request to the web page to get the required information\n",
    "page=requests.get(\"https://bookpage.com/reviews\")                     # book, author, genere, review\n",
    "page.content"
   ]
  },
  {
   "cell_type": "code",
   "execution_count": 50,
   "metadata": {},
   "outputs": [
    {
     "data": {
      "text/plain": [
       "[<h4 class=\"italic\">\n",
       " <a href=\"/reviews/26641-phoebe-robinson-please-dont-sit-my-bed-your-outside-clothes-nonfiction\">Please Don't Sit on My Bed in Your Outside Clothes</a>\n",
       " </h4>,\n",
       " <h4 class=\"italic\">\n",
       " <a href=\"/reviews/26686-christina-henry-horseman-science-fiction-fantasy\">Horseman</a>\n",
       " </h4>,\n",
       " <h4 class=\"italic\">\n",
       " <a href=\"/reviews/26660-anthony-doerr-cloud-cuckoo-land-fiction\"> <span style=\"font-style:normal;\">★ </span>Cloud Cuckoo Land</a>\n",
       " </h4>,\n",
       " <h4 class=\"italic\">\n",
       " <a href=\"/reviews/26696-sharon-cameron-bluebird-ya\"> <span style=\"font-style:normal;\">★ </span>Bluebird</a>\n",
       " </h4>,\n",
       " <h4 class=\"italic\">\n",
       " <a href=\"/reviews/26671-nicholas-sparks-wish-fiction\">The Wish</a>\n",
       " </h4>,\n",
       " <h4 class=\"italic\">\n",
       " <a href=\"/reviews/26676-kao-kalia-yang-from-tops-trees-childrens\">From the Tops of the Trees</a>\n",
       " </h4>,\n",
       " <h4 class=\"italic\">\n",
       " <a href=\"/reviews/26718-margaret-rogerson-vespertine-ya\">Vespertine</a>\n",
       " </h4>,\n",
       " <h4 class=\"italic\">\n",
       " <a href=\"/reviews/26653-christine-platt-afrominimalists-guide-to-living-with-less-audio\">The Afrominimalist’s Guide to Living With Less</a>\n",
       " </h4>,\n",
       " <h4 class=\"italic\">\n",
       " <a href=\"/reviews/26646-amia-srinivasan-right-to-sex-nonfiction\"> <span style=\"font-style:normal;\">★ </span>The Right to Sex</a>\n",
       " </h4>,\n",
       " <h4 class=\"italic\">\n",
       " <a href=\"/reviews/26656-brandy-colbert-black-birds-sky-ya\"> <span style=\"font-style:normal;\">★ </span>Black Birds in the Sky</a>\n",
       " </h4>]"
      ]
     },
     "execution_count": 50,
     "metadata": {},
     "output_type": "execute_result"
    }
   ],
   "source": [
    "soup=BeautifulSoup(page.content,'html.parser')\n",
    "# extracting all the header tags\n",
    "# fetching all the header tiles from the website\n",
    "book=soup.find_all('h4',class_=\"italic\")\n",
    "book"
   ]
  },
  {
   "cell_type": "code",
   "execution_count": 51,
   "metadata": {},
   "outputs": [
    {
     "data": {
      "text/plain": [
       "[<p class=\"sans bold\">\n",
       " Phoebe Robinson\n",
       " </p>,\n",
       " <p class=\"sans bold\">\n",
       " Christina Henry\n",
       " </p>,\n",
       " <p class=\"sans bold\">\n",
       " Anthony Doerr\n",
       " </p>,\n",
       " <p class=\"sans bold\">\n",
       " Sharon Cameron\n",
       " </p>,\n",
       " <p class=\"sans bold\">\n",
       " Nicholas Sparks\n",
       " </p>,\n",
       " <p class=\"sans bold\">\n",
       " Kao Kalia Yang, Rachel Wada\n",
       " </p>,\n",
       " <p class=\"sans bold\">\n",
       " Margaret Rogerson\n",
       " </p>,\n",
       " <p class=\"sans bold\">\n",
       " Christine Platt, Cast\n",
       " </p>,\n",
       " <p class=\"sans bold\">\n",
       " Amia Srinivasan\n",
       " </p>,\n",
       " <p class=\"sans bold\">\n",
       " Brandy Colbert\n",
       " </p>]"
      ]
     },
     "execution_count": 51,
     "metadata": {},
     "output_type": "execute_result"
    }
   ],
   "source": [
    "author=soup.find_all('p',class_=\"sans bold\")\n",
    "author"
   ]
  },
  {
   "cell_type": "code",
   "execution_count": 52,
   "metadata": {},
   "outputs": [
    {
     "data": {
      "text/plain": [
       "[<p class=\"genre-links hidden-phone\">\n",
       " <a href=\"/search?book_genre=nonfiction\">Nonfiction</a>\n",
       "  / \n",
       " <a href=\"/search?book_genre=essays\">Essays</a>\n",
       "  / \n",
       " <a href=\"/search?book_genre=humor\">Humor</a>\n",
       " </p>,\n",
       " <p class=\"genre-links hidden-phone\">\n",
       " <a href=\"/search?book_genre=science_fiction_fantasy\">Science Fiction &amp; Fantasy</a>\n",
       "  / \n",
       " <a href=\"/search?book_genre=fantasy\">Fantasy</a>\n",
       "  / \n",
       " <a href=\"/search?book_genre=historical_fantasy\">Historical Fantasy</a>\n",
       " </p>,\n",
       " <p class=\"genre-links hidden-phone\">\n",
       " <a href=\"/search?book_genre=fiction\">Fiction</a>\n",
       "  / \n",
       " <a href=\"/search?book_genre=literary_fiction\">Literary Fiction</a>\n",
       " </p>,\n",
       " <p class=\"genre-links hidden-phone\">\n",
       " <a href=\"/search?book_genre=ya\">YA</a>\n",
       "  / \n",
       " <a href=\"/search?book_genre=ya_fiction\">YA Fiction</a>\n",
       " </p>,\n",
       " <p class=\"genre-links hidden-phone\">\n",
       " <a href=\"/search?book_genre=fiction\">Fiction</a>\n",
       "  / \n",
       " <a href=\"/search?book_genre=popular_fiction\">Popular Fiction</a>\n",
       " </p>,\n",
       " <p class=\"genre-links hidden-phone\">\n",
       " <a href=\"/search?book_genre=children_s\">Children's</a>\n",
       "  / \n",
       " <a href=\"/search?book_genre=picture_book\">Picture Book</a>\n",
       " </p>,\n",
       " <p class=\"genre-links hidden-phone\">\n",
       " <a href=\"/search?book_genre=ya\">YA</a>\n",
       "  / \n",
       " <a href=\"/search?book_genre=ya_fiction\">YA Fiction</a>\n",
       " </p>,\n",
       " <p class=\"genre-links hidden-phone\">\n",
       " <a href=\"/search?book_genre=audio\">Audio</a>\n",
       "  / \n",
       " <a href=\"/search?book_genre=nonfiction\">Nonfiction</a>\n",
       "  / \n",
       " <a href=\"/search?book_genre=lifestyles\">Lifestyles</a>\n",
       " </p>,\n",
       " <p class=\"genre-links hidden-phone\">\n",
       " <a href=\"/search?book_genre=nonfiction\">Nonfiction</a>\n",
       "  / \n",
       " <a href=\"/search?book_genre=social_science\">Social Science</a>\n",
       " </p>,\n",
       " <p class=\"genre-links hidden-phone\">\n",
       " <a href=\"/search?book_genre=ya\">YA</a>\n",
       "  / \n",
       " <a href=\"/search?book_genre=ya_nonfiction\">YA Nonfiction</a>\n",
       " </p>]"
      ]
     },
     "execution_count": 52,
     "metadata": {},
     "output_type": "execute_result"
    }
   ],
   "source": [
    "genre=soup.find_all('p',class_=\"genre-links hidden-phone\")\n",
    "genre"
   ]
  },
  {
   "cell_type": "code",
   "execution_count": 53,
   "metadata": {},
   "outputs": [
    {
     "data": {
      "text/plain": [
       "[<div class=\"read-full\">\n",
       " <a href=\"/reviews/26641-phoebe-robinson-please-dont-sit-my-bed-your-outside-clothes-nonfiction\">Read the Review <i class=\"zmdi zmdi-chevron-right\"></i></a>\n",
       " </div>,\n",
       " <div class=\"read-full\">\n",
       " <a href=\"/reviews/26686-christina-henry-horseman-science-fiction-fantasy\">Read the Review <i class=\"zmdi zmdi-chevron-right\"></i></a>\n",
       " </div>,\n",
       " <div class=\"read-full\">\n",
       " <a href=\"/reviews/26660-anthony-doerr-cloud-cuckoo-land-fiction\">Read the Review <i class=\"zmdi zmdi-chevron-right\"></i></a>\n",
       " </div>,\n",
       " <div class=\"read-full\">\n",
       " <a href=\"/reviews/26696-sharon-cameron-bluebird-ya\">Read the Review <i class=\"zmdi zmdi-chevron-right\"></i></a>\n",
       " </div>,\n",
       " <div class=\"read-full\">\n",
       " <a href=\"/reviews/26671-nicholas-sparks-wish-fiction\">Read the Review <i class=\"zmdi zmdi-chevron-right\"></i></a>\n",
       " </div>,\n",
       " <div class=\"read-full\">\n",
       " <a href=\"/reviews/26676-kao-kalia-yang-from-tops-trees-childrens\">Read the Review <i class=\"zmdi zmdi-chevron-right\"></i></a>\n",
       " </div>,\n",
       " <div class=\"read-full\">\n",
       " <a href=\"/reviews/26718-margaret-rogerson-vespertine-ya\">Read the Review <i class=\"zmdi zmdi-chevron-right\"></i></a>\n",
       " </div>,\n",
       " <div class=\"read-full\">\n",
       " <a href=\"/reviews/26653-christine-platt-afrominimalists-guide-to-living-with-less-audio\">Read the Review <i class=\"zmdi zmdi-chevron-right\"></i></a>\n",
       " </div>,\n",
       " <div class=\"read-full\">\n",
       " <a href=\"/reviews/26646-amia-srinivasan-right-to-sex-nonfiction\">Read the Review <i class=\"zmdi zmdi-chevron-right\"></i></a>\n",
       " </div>,\n",
       " <div class=\"read-full\">\n",
       " <a href=\"/reviews/26656-brandy-colbert-black-birds-sky-ya\">Read the Review <i class=\"zmdi zmdi-chevron-right\"></i></a>\n",
       " </div>]"
      ]
     },
     "execution_count": 53,
     "metadata": {},
     "output_type": "execute_result"
    }
   ],
   "source": [
    "review=soup.find_all('div',class_=\"read-full\")\n",
    "review"
   ]
  },
  {
   "cell_type": "code",
   "execution_count": 54,
   "metadata": {},
   "outputs": [
    {
     "data": {
      "text/plain": [
       "[\"Please Don't Sit on My Bed in Your Outside Clothes\",\n",
       " 'Horseman',\n",
       " ' ★ Cloud Cuckoo Land',\n",
       " ' ★ Bluebird',\n",
       " 'The Wish',\n",
       " 'From the Tops of the Trees',\n",
       " 'Vespertine',\n",
       " 'The Afrominimalist’s Guide to Living With Less',\n",
       " ' ★ The Right to Sex',\n",
       " ' ★ Black Birds in the Sky']"
      ]
     },
     "execution_count": 54,
     "metadata": {},
     "output_type": "execute_result"
    }
   ],
   "source": [
    "book_titles=[]\n",
    "for i in book:\n",
    "    book_titles.append(i.text.replace('\\n',''))\n",
    "book_titles"
   ]
  },
  {
   "cell_type": "code",
   "execution_count": 55,
   "metadata": {},
   "outputs": [
    {
     "data": {
      "text/plain": [
       "['Phoebe Robinson',\n",
       " 'Christina Henry',\n",
       " 'Anthony Doerr',\n",
       " 'Sharon Cameron',\n",
       " 'Nicholas Sparks',\n",
       " 'Kao Kalia Yang, Rachel Wada',\n",
       " 'Margaret Rogerson',\n",
       " 'Christine Platt, Cast',\n",
       " 'Amia Srinivasan',\n",
       " 'Brandy Colbert']"
      ]
     },
     "execution_count": 55,
     "metadata": {},
     "output_type": "execute_result"
    }
   ],
   "source": [
    "author_name=[]\n",
    "for i in author:\n",
    "    author_name.append(i.text.strip())\n",
    "author_name"
   ]
  },
  {
   "cell_type": "code",
   "execution_count": 56,
   "metadata": {},
   "outputs": [
    {
     "data": {
      "text/plain": [
       "['Nonfiction / Essays / Humor',\n",
       " 'Science Fiction & Fantasy / Fantasy / Historical Fantasy',\n",
       " 'Fiction / Literary Fiction',\n",
       " 'YA / YA Fiction',\n",
       " 'Fiction / Popular Fiction',\n",
       " \"Children's / Picture Book\",\n",
       " 'YA / YA Fiction',\n",
       " 'Audio / Nonfiction / Lifestyles',\n",
       " 'Nonfiction / Social Science',\n",
       " 'YA / YA Nonfiction']"
      ]
     },
     "execution_count": 56,
     "metadata": {},
     "output_type": "execute_result"
    }
   ],
   "source": [
    "genre_type=[]\n",
    "for i in genre:\n",
    "    genre_type.append(i.text.replace('\\n',''))\n",
    "genre_type"
   ]
  },
  {
   "cell_type": "code",
   "execution_count": 57,
   "metadata": {},
   "outputs": [
    {
     "data": {
      "text/plain": [
       "['Read the Review ',\n",
       " 'Read the Review ',\n",
       " 'Read the Review ',\n",
       " 'Read the Review ',\n",
       " 'Read the Review ',\n",
       " 'Read the Review ',\n",
       " 'Read the Review ',\n",
       " 'Read the Review ',\n",
       " 'Read the Review ',\n",
       " 'Read the Review ']"
      ]
     },
     "execution_count": 57,
     "metadata": {},
     "output_type": "execute_result"
    }
   ],
   "source": [
    "review_kind=[]\n",
    "for i in review:\n",
    "    review_kind.append(i.text.replace('\\n',''))\n",
    "review_kind"
   ]
  },
  {
   "cell_type": "code",
   "execution_count": 58,
   "metadata": {},
   "outputs": [
    {
     "name": "stdout",
     "output_type": "stream",
     "text": [
      "10 10 10 10\n"
     ]
    }
   ],
   "source": [
    "print(len(book_titles),len(author_name),len(genre_type),len(review_kind))"
   ]
  },
  {
   "cell_type": "code",
   "execution_count": 82,
   "metadata": {},
   "outputs": [
    {
     "data": {
      "text/html": [
       "<div>\n",
       "<style scoped>\n",
       "    .dataframe tbody tr th:only-of-type {\n",
       "        vertical-align: middle;\n",
       "    }\n",
       "\n",
       "    .dataframe tbody tr th {\n",
       "        vertical-align: top;\n",
       "    }\n",
       "\n",
       "    .dataframe thead th {\n",
       "        text-align: right;\n",
       "    }\n",
       "</style>\n",
       "<table border=\"1\" class=\"dataframe\">\n",
       "  <thead>\n",
       "    <tr style=\"text-align: right;\">\n",
       "      <th></th>\n",
       "      <th>Title of the Book</th>\n",
       "      <th>Author of the Book</th>\n",
       "      <th>Genre</th>\n",
       "      <th>Review</th>\n",
       "    </tr>\n",
       "  </thead>\n",
       "  <tbody>\n",
       "    <tr>\n",
       "      <th>0</th>\n",
       "      <td>Please Don't Sit on My Bed in Your Outside Clo...</td>\n",
       "      <td>Phoebe Robinson</td>\n",
       "      <td>Nonfiction / Essays / Humor</td>\n",
       "      <td>Read the Review</td>\n",
       "    </tr>\n",
       "    <tr>\n",
       "      <th>1</th>\n",
       "      <td>Horseman</td>\n",
       "      <td>Christina Henry</td>\n",
       "      <td>Science Fiction &amp; Fantasy / Fantasy / Historic...</td>\n",
       "      <td>Read the Review</td>\n",
       "    </tr>\n",
       "    <tr>\n",
       "      <th>2</th>\n",
       "      <td>★ Cloud Cuckoo Land</td>\n",
       "      <td>Anthony Doerr</td>\n",
       "      <td>Fiction / Literary Fiction</td>\n",
       "      <td>Read the Review</td>\n",
       "    </tr>\n",
       "    <tr>\n",
       "      <th>3</th>\n",
       "      <td>★ Bluebird</td>\n",
       "      <td>Sharon Cameron</td>\n",
       "      <td>YA / YA Fiction</td>\n",
       "      <td>Read the Review</td>\n",
       "    </tr>\n",
       "    <tr>\n",
       "      <th>4</th>\n",
       "      <td>The Wish</td>\n",
       "      <td>Nicholas Sparks</td>\n",
       "      <td>Fiction / Popular Fiction</td>\n",
       "      <td>Read the Review</td>\n",
       "    </tr>\n",
       "  </tbody>\n",
       "</table>\n",
       "</div>"
      ],
      "text/plain": [
       "                                   Title of the Book Author of the Book  \\\n",
       "0  Please Don't Sit on My Bed in Your Outside Clo...    Phoebe Robinson   \n",
       "1                                           Horseman    Christina Henry   \n",
       "2                                ★ Cloud Cuckoo Land      Anthony Doerr   \n",
       "3                                         ★ Bluebird     Sharon Cameron   \n",
       "4                                           The Wish    Nicholas Sparks   \n",
       "\n",
       "                                               Genre            Review  \n",
       "0                        Nonfiction / Essays / Humor  Read the Review   \n",
       "1  Science Fiction & Fantasy / Fantasy / Historic...  Read the Review   \n",
       "2                         Fiction / Literary Fiction  Read the Review   \n",
       "3                                    YA / YA Fiction  Read the Review   \n",
       "4                          Fiction / Popular Fiction  Read the Review   "
      ]
     },
     "execution_count": 82,
     "metadata": {},
     "output_type": "execute_result"
    }
   ],
   "source": [
    "info=pd.DataFrame({})\n",
    "info['Title of the Book']=book_titles\n",
    "info['Author of the Book']=author_name\n",
    "info['Genre']=genre_type\n",
    "info['Review']=review_kind\n",
    "\n",
    "info=info.iloc[:5,]\n",
    "info"
   ]
  },
  {
   "cell_type": "code",
   "execution_count": null,
   "metadata": {},
   "outputs": [],
   "source": []
  }
 ],
 "metadata": {
  "kernelspec": {
   "display_name": "Python 3",
   "language": "python",
   "name": "python3"
  },
  "language_info": {
   "codemirror_mode": {
    "name": "ipython",
    "version": 3
   },
   "file_extension": ".py",
   "mimetype": "text/x-python",
   "name": "python",
   "nbconvert_exporter": "python",
   "pygments_lexer": "ipython3",
   "version": "3.8.5"
  }
 },
 "nbformat": 4,
 "nbformat_minor": 4
}
