{
 "cells": [
  {
   "cell_type": "markdown",
   "metadata": {},
   "source": [
    "# Write a python program to scrape cricket rankings from ‘www.icc-cricket.com’. You have to scrape:\n",
    "\n",
    "i) Top 10 ODI teams in women’s cricket along with the records for matches, points and rating.\n",
    "\n",
    "ii) Top 10 women’s ODI players along with the records of their team and rating.\n",
    "\n",
    "iii) Top 10 women’s ODI all-rounder along with the records of their team and rating."
   ]
  },
  {
   "cell_type": "code",
   "execution_count": 1,
   "metadata": {},
   "outputs": [
    {
     "data": {
      "text/plain": [
       "b'<!DOCTYPE html>\\n<html lang=\"en\">\\n<head>\\n\\n    <meta name=\"twitter:title\" content=\"ICC Ranking for ODI teams International Cricket Council\"/>\\n<meta property=\"og:type\" content=\"website\"/>\\n<meta property=\"twitter:card\" content=\"summary_large_image\"/>\\n<meta name=\"description\" content=\"Official International Cricket Council rankings for test match cricket teams. Discover latest ICC rankings table, predict upcoming matches, see points and ratings for all teams.\"/>\\n<meta property=\"twitter:site\" content=\"@icc\"/>\\n<meta name=\"twitter:description\" content=\"Official International Cricket Council rankings for test match cricket teams. Discover latest ICC rankings table, predict upcoming matches, see points and ratings for all teams.\"/>\\n<meta name=\"twitter:image\" content=\"https://www.icc-cricket.com/resources/ver/i/elements/default-thumbnail.jpg\"/>\\n<meta property=\"og:title\" content=\"ICC Ranking for ODI teams International Cricket Council\"/>\\n<meta property=\"og:image\" content=\"https://www.icc-cricket.com/resources/ver/i/elements/default-thumbnail.jpg\"/>\\n<title>ICC Ranking for ODI teams International Cricket Council</title>\\n<meta property=\"og:description\" content=\"Official International Cricket Council rankings for test match cricket teams. Discover latest ICC rankings table, predict upcoming matches, see points and ratings for all teams.\"/>\\n\\n\\t<!-- Designed and built by Pulselive - www.pulselive.com -->\\n    \\n<script>\\n\\n    var dataLayer = [{\\n        \\'user_language\\':\\'English\\',\\n        \\'web_domain\\':\\'www.icc-cricket.com\\',\\n        \\'page_type\\':\\'/rankings/womens/team-rankings/odi\\'  \\n    }];\\n\\n</script>\\n\\n<!-- Google Tag Manager -->\\n<script>(function(w,d,s,l,i){w[l]=w[l]||[];w[l].push({\\'gtm.start\\':\\nnew Date().getTime(),event:\\'gtm.js\\'});var f=d.getElementsByTagName(s)[0],\\nj=d.createElement(s),dl=l!=\\'dataLayer\\'?\\'&l=\\'+l:\\'\\';j.async=true;j.src=\\n\\'https://www.googletagmanager.com/gtm.js?id=\\'+i+dl;f.parentNode.insertBefore(j,f);\\n})(window,document,\\'script\\',\\'dataLayer\\',\\'GTM-T7DPH24\\');</script>\\n<!-- End Google Tag Manager -->\\n\\n<script async src=https://securepubads.g.doubleclick.net/tag/js/gpt.js></script>\\n\\n\\n    <meta charset=\"UTF-8\">\\n    <meta name=\"viewport\" content=\"width=device-width, initial-scale=1\">\\n    <meta name=\"apple-itunes-app\" content=\"app-id=956440606\"/>\\n\\n    <link rel=\"manifest\" href=\"/resources/prod/v8.20.1/manifest.json\">\\n\\n    <link rel=\"shortcut icon\" href=\"/resources/prod/v8.20.1/i/elements/favicon.ico\" />\\n\\n    <link rel=\"publisher\" href=\"https://plus.google.com/+ICC\">\\n\\n    \\n\\n\\n\\n    <title>International Cricket Council</title>\\n\\n    \\n\\n<!-- google platform library -->\\n<script src=\"https://apis.google.com/js/api:client.js?onload=startApp\" async defer></script>\\n\\n<script>\\n\\n    var startApp = function() {\\n        gapi.load(\\'auth2\\', function(){\\n            // Retrieve the singleton for the GoogleAuth library and set up the client.\\n            auth2 = gapi.auth2.init({\\n                client_id: \\'844310787835-1rirg6e5plp2jou6v701br43iuo0lkcu.apps.googleusercontent.com\\'\\n                // Request scopes in addition to \\'profile\\' and \\'email\\'\\n                //scope: \\'additional_scope\\'\\n            });\\n        });\\n    };\\n</script>\\n\\n\\n    <link href=\"https://fonts.googleapis.com/css?family=Hind+Siliguri:300,400,500,600\" rel=\"stylesheet\">\\n\\n    <!-- Polyfill service provided by the FT - https://github.com/Financial-Times/polyfill-service -->\\n\\t<script src=\"https://cdn.polyfill.io/v2/polyfill.min.js?features=default,fetch\"></script>\\n\\n    <link rel=\"stylesheet\" href=\"/resources/prod/v8.20.1/styles/screen.css\" />\\n\\n    <script>\\n\\t\\twindow.RESOURCE_VERSION = \\'prod/v8.20.1\\';\\n\\t</script>\\n\\n</head>\\n<body>\\n\\n    \\n<!-- Google Tag Manager (noscript) -->\\n<noscript><iframe src=\"https://www.googletagmanager.com/ns.html?id=GTM-T7DPH24\"\\nheight=\"0\" width=\"0\" style=\"display:none;visibility:hidden\"></iframe></noscript>\\n<!-- End Google Tag Manager (noscript) -->\\n\\n<div class=\"u-hide\" data-widget=\"analytics-geolocation\" data-script=\"icc_analytics-geolocation\"></div>\\n\\n<!--\\n    Start of Floodlight Tag: Please do not removeActivity name of this tag: ICC Website - VisitationURL of the webpage where the tag is expected to be placed: This tag must be placed between the <body> and </body> tags, as close as possible to the opening tag. Creation Date: 10/01/2019\\n-->\\n\\n<iframe src=\"https://9282652.fls.doubleclick.net/activityi;src=9282652;type=iccre0;cat=iccwe0;u1=[user_language];u2=[user_country];u3=[page_type];u4=[web_domain];dc_lat=;dc_rdid=;tag_for_child_directed_treatment=;tfua=;npa=;ord=[SessionID]?\" width=\"1\" height=\"1\" frameborder=\"0\" style=\"display:none\"></iframe>\\n\\n<!-- End of Floodlight Tag: Please do not remove -->\\n\\n<script id=\"parsely-cfg\" src=\"//cdn.parsely.com/keys/icc-cricket.com/p.js\"></script>\\n\\n    \\n\\n<script>\\n    window.fbAsyncInit = function() {\\n        FB.init({\\n            appId            : 159513024983374,\\n            autoLogAppEvents : true,\\n            xfbml            : true,\\n            version          : \\'v3.0\\'\\n        });\\n    };\\n\\n    (function(d, s, id){\\n        var js, fjs = d.getElementsByTagName(s)[0];\\n        if (d.getElementById(id)) {return;}\\n        js = d.createElement(s); js.id = id;\\n        js.src = \"https://connect.facebook.net/en_US/sdk.js\";\\n        fjs.parentNode.insertBefore(js, fjs);\\n    }(document, \\'script\\', \\'facebook-jssdk\\'));\\n</script>\\n\\n\\n    \\n<div class=\"user-account-overlay js-user-account-overlay\"></div>\\n<section class=\"user-account js-user-account\" data-script=\"sso_user-account\" data-widget=\"user-account\">\\n\\n    <div class=\"user-account__wrapper js-panel-account u-hide\">\\n\\n        <div class=\"user-account__header\">\\n\\n            <div class=\"user-account__close js-account-slider-close-btn\" role=\"button\">\\n                <svg class=\"icon\"><use xmlns:xlink=\"http://www.w3.org/1999/xlink\" xlink:href=\"/resources/prod/v8.20.1/i/svg-output/icons.svg#icn-close\"></use></svg>\\n            </div>\\n\\n            <div class=\"user-account__user-wrapper\">\\n                <div class=\"user-account__image\">\\n                    <img src=\"#\" class=\"u-hide js-account-user-img\" alt=\"User Image\">\\n                </div>\\n                <div class=\"user-account__user-info\">\\n                    <p class=\"user-account__user-info__text js-account-user\">Name Lastname</p>\\n                    <p class=\"user-account__user-info__profile js-profile-completion-info u-hide\">\\n                        <svg class=\"icon\"><use xmlns:xlink=\"http://www.w3.org/1999/xlink\" xlink:href=\"/resources/prod/v8.20.1/i/svg-output/icons.svg#icn-alert\"></use></svg>\\n                        Profile <span class=\"js-profile-completion-percentage\"></span>% Complete\\n                    </p>\\n                </div>\\n            </div>\\n\\n            <div class=\"user-account__tabs-nav js-tabs-wrapper\"></div>\\n        </div>\\n\\n        <div class=\"account-message js-account-message\"></div>\\n\\n        <form id=\"user-account\" name=\"user-account\" autocomplete=\"off\">\\n\\n            <div data-ui-tab=\"My Account\" class=\"user-account__tab\">\\n                <div class=\"user-account__social-wrapper js-social-wrapper u-hide\"></div>\\n\\n<fieldset>\\n\\n    <div class=\"form-group-multiple\">\\n        <div class=\"form-group\">\\n            <label class=\"form-group__label\" for=\"given_name\">First name *</label>\\n            <input class=\"form-group__element\" type=\"text\" required name=\"given_name\" id=\"given_name\" pattern=\"^[A-Za-z-\\\\s]+$\" maxlength=\"50\"/>\\n            <p class=\"js-error form-error\"></p>\\n        </div>\\n\\n        <div class=\"form-group\">\\n            <label class=\"form-group__label\" for=\"family_name\">Last name *</label>\\n            <input class=\"form-group__element\" type=\"text\" required name=\"family_name\" id=\"family_name\" pattern=\"[A-Za-z-\\\\s]+$\" maxlength=\"50\"/>\\n            <p class=\"js-error form-error\"></p>\\n        </div>\\n    </div>\\n\\n    <div class=\"form-group-multiple form-group-multiple--with-button\">\\n        <div class=\"form-group is-disabled js-change-email-input\">\\n            <label class=\"form-group__label\" for=\"email\">Email address *</label>\\n            <input class=\"form-group__element\" type=\"email\" name=\"email\" id=\"email\" autocomplete=\"off\" maxlength=\"50\" disabled/>\\n            <p class=\"js-error form-error\"></p>\\n            <p class=\"js-email-exists form-error form-error--email\">Email address not available.</p>\\n        </div>\\n        <div class=\"form-group form-group--button\">\\n            <button class=\"form-btn form-btn--outlined js-change-email\" type=\"button\" novalidate>Change Email</button>\\n        </div>\\n    </div>\\n\\n    <div class=\"form-group-multiple form-group-multiple--with-button js-account-password\">\\n        <div class=\"form-group is-disabled js-change-password-input\">\\n            <label class=\"form-group__label\" for=\"password\">Password *</label>\\n            <input class=\"form-group__element\" type=\"password\" name=\"password\" id=\"password\" placeholder=\"******\" autocomplete=\"off\" disabled/>\\n            <p class=\"js-error form-error\"></p>\\n        </div>\\n        <div class=\"form-group form-group--button\">\\n            <button class=\"form-btn form-btn--outlined js-change-password\" type=\"button\" novalidate>Change Password</button>\\n        </div>\\n    </div>\\n\\n    <div class=\"form-block form-block\">\\n        <div class=\"form-block__label form-block__label--dob\">Date of Birth</div>\\n\\n        <div class=\"form-group-multiple\">\\n            <div class=\"form-group\">\\n                <label class=\"form-group__label\" for=\"day\">Day *</label>\\n                <input class=\"form-group__element\" type=\"number\" required name=\"day\" placeholder=\"dd\" id=\"day\" min=\"0\" />\\n                <p class=\"js-error form-error\"></p>\\n\\n            </div>\\n            <div class=\"form-group\">\\n                <label class=\"form-group__label\" for=\"month\">Month *</label>\\n                <input class=\"form-group__element\" type=\"number\" required name=\"month\" placeholder=\"mm\" id=\"month\" min=\"0\"/>\\n                <p class=\"js-error form-error\"></p>\\n            </div>\\n            <div class=\"form-group\">\\n                <label class=\"form-group__label\" for=\"year\">Year *</label>\\n                <input class=\"form-group__element\" type=\"number\" required name=\"year\" placeholder=\"yyyy\" id=\"year\" min=\"0\"/>\\n                <p class=\"js-error form-error\"></p>\\n            </div>\\n        </div>\\n        <p class=\"js-date-error form-error form-error--date\">The date of birth is not valid</p>\\n    </div>\\n\\n    <div class=\"form-block\" data-widget=\"form-dropdown\" data-dropdown-type=\"SSO_COUNTRY\">\\n        <div class=\"form-block__label\">Country of residence</div>\\n        <div class=\"form-dropdown js-dropdown-wrapper\"></div>\\n    </div>\\n\\n</fieldset>\\n\\n            </div>\\n            <div data-ui-tab=\"My Preferences\" class=\"user-account__tab\">\\n                <div class=\"js-account-prefs u-hide\">\\n    <fieldset>\\n\\n        <div class=\"form-block\" data-widget=\"form-dropdown\" data-dropdown-type=\"SSO_TEAM\">\\n            <div class=\"form-block__label\">Your favourite team</div>\\n            <div class=\"form-dropdown js-dropdown-wrapper\"></div>\\n        </div>\\n\\n        <div class=\"js-contact-prefs user-account__contact-prefs-wrapper\">\\n\\n            <div class=\"user-account__alert\">\\n                <svg class=\"icon\"><use xmlns:xlink=\"http://www.w3.org/1999/xlink\" xlink:href=\"/resources/prod/v8.20.1/i/svg-output/icons.svg#icn-alert\"></use></svg>\\n                <span>Sorry, but your contact preferences will take up to 24hrs to update</span>\\n            </div>\\n\\n            <div class=\"user-account__contact-prefs\">\\n                <div class=\"form-block form-block--no-margin\">\\n                    <div class=\"form-group form-group--checkbox\">\\n                        <input class=\"form-group__element\" type=\"checkbox\" name=\"allow-contacting\" id=\"allow-contacting\"/>\\n                        <label class=\"form-group__label\" for=\"allow-contacting\">I\\'m happy for the ICC to contact me</label>\\n                    </div>\\n                    <p class=\"js-error form-error\"></p>\\n                </div>\\n\\n                <div class=\"form-block form-block--no-margin\">\\n                    <div class=\"form-group form-group--checkbox\">\\n                        <input class=\"form-group__element\" type=\"checkbox\" name=\"allow-partner-contacting\" id=\"allow-partner-contacting\"/>\\n                        <label class=\"form-group__label\" for=\"allow-partner-contacting\">I\\'m happy for the ICC\\'s partners to contact me</label>\\n                    </div>\\n                    <p class=\"js-error form-error\"></p>\\n                </div>\\n            </div>\\n\\n        </div>\\n\\n    </fieldset>\\n</div>\\n\\n<div class=\"overlay__loader__small js-loader-prefs\">\\n    Hold on! Loading your preferences <div class=\"loader loader--small\"></div>\\n</div>\\n\\n            </div>\\n\\n            <div class=\"user-account__buttons-wrapper\">\\n                <div class=\"user-account__account-actions js-buttons-wrapper\">\\n                    <button class=\"form-btn form-btn--grey is-disabled js-cancel\" disabled>Cancel</button>\\n                    <button class=\"form-btn is-disabled js-submit\" type=\"submit\" disabled>Save Changes</button>\\n                    <div class=\"loader js-loader u-hide\"></div>\\n                </div>\\n                <button class=\"form-btn form-btn--grey js-account-signout u-show-tablet\">Sign Out<svg class=\"icon\"><use xmlns:xlink=\"http://www.w3.org/1999/xlink\" xlink:href=\"/resources/prod/v8.20.1/i/svg-output/icons.svg#icn-sign-out\"></use></svg></button>\\n            </div>\\n        </form>\\n\\n    </div>\\n\\n    <div class=\"user-account__wrapper js-panel-account-password u-hide\">\\n        <form id=\"account-edit-password\" name=\"account-edit-password\" novalidate>\\n    <div class=\"user-account__tabs-wrapper\">\\n\\n        <h1 class=\"overlay__title\">\\n            Edit your password\\n            <span class=\"overlay__title__option\"><a href=\"#\" class=\"form-cta js-cancel-password\">back</a></span>\\n        </h1>\\n\\n        <div class=\"form-group form-group--password\">\\n            <div class=\"form-group__password-action js-toggle-password\">Show</div>\\n            <label class=\"form-group__label\" for=\"current-password\">Current Password *</label>\\n            <input class=\"form-group__element\" type=\"password\" required name=\"current-password\" id=\"current-password\" />\\n            <p class=\"js-error form-error\"></p>\\n            <p class=\"js-current-pwd-error form-error form-error--email\">Invalid current password</p>\\n        </div>\\n\\n        <a class=\"form-cta form-cta--right\" href=\"/forgot-password\">Forgot password?</a>\\n\\n        <div class=\"form-block\">\\n            <div class=\"form-group form-group--password\">\\n                <div class=\"form-group__password-action js-toggle-password\">Show</div>\\n                <label class=\"form-group__label\" for=\"new-password\">New password *</label>\\n                <input class=\"form-group__element\" type=\"password\" required name=\"new-password\" id=\"new-password\" />\\n                <div class=\"form-block__verify-password form-block__verify-password--slider js-verify-password\">\\n                    Password must include...\\n                    <ul class=\"form-block__verify-list\">\\n                        <li class=\"js-verify-length\">8 or more characters</li>\\n                        <li class=\"js-verify-letters\">At least one upper and lower case letter</li>\\n                        <li class=\"js-verify-number\">At least one number or symbol</li>\\n                    </ul>\\n                </div>\\n                <p class=\"js-error form-error\"></p>\\n                <p class=\"js-new-pwd-error form-error form-error--email\">The new password needs to be different than the current one.</p>\\n            </div>\\n        </div>\\n\\n        <div class=\"form-group form-group--password\">\\n            <div class=\"form-group__password-action js-toggle-password\">Show</div>\\n            <label class=\"form-group__label\" for=\"confirm-password\">Confirm new password *</label>\\n            <input class=\"form-group__element\" type=\"password\" required name=\"confirm-password\" id=\"confirm-password\" />\\n            <p class=\"js-error form-error\"></p>\\n            <p class=\"js-confirm-pwd-error form-error form-error--email\">The confirmation does not match your new password</p>\\n        </div>\\n    </div>\\n\\n    <div class=\"user-account__buttons-wrapper\">\\n        <div class=\"user-account__account-actions\">\\n            <button class=\"form-btn form-btn--grey js-cancel-password\" type=\"button\">Cancel</button>\\n            <button class=\"form-btn is-disabled js-submit-password\" type=\"submit\" disabled>Change Password</button>\\n            <div class=\"loader js-password-loader u-hide\"></div>\\n        </div>\\n    </div>\\n</form>\\n\\n    </div>\\n\\n</section>\\n\\n\\n<div class=\"js-mobile-banner mobile-banner \" data-widget=\"mobile-banner\">\\n    <div class=\"wrapper\">\\n        <div class=\"col-12\">\\n            <div class=\"mobile-banner__wrapper\">\\n                <p class=\"mobile-banner__header\">Official ICC App</p>\\n                <p class=\"mobile-banner__subheader\"><strong>Your App for international cricket.</strong> The official ICC app provides coverage across all of the current international action including fixtures, results, videos, ICC news, rankings and more. Don\\xe2\\x80\\x99t miss a moment and keep up with the latest from around the world of cricket!</p>\\n                <div class=\"mobile-banner__app-buttons\">\\n                    <a target=\"_blank\" href=\"https://www.icc-cricket.com/mobile\" class=\"btn\">Find Out More</a>\\n                </div>\\n            </div>\\n        </div>\\n    </div>\\n    <a class=\"mobile-banner__close js-mobile-banner-close\">\\n        <svg class=\"icon\"><use xmlns:xlink=\"http://www.w3.org/1999/xlink\" xlink:href=\"/resources/prod/v8.20.1/i/svg-output/icons.svg#icn-close\"></use></svg>\\n    </a>\\n</div>\\n\\n\\t<div class=\"global-header \">\\n\\t\\t<ul class=\"global-header__list\">\\n                    <li class=\"global-header__item \">\\n            \\t\\t\\t<a href=\"http://www.icctravelandtours.com/\" class=\"global-header__link\"><svg class=\"icon plane\"><use xmlns:xlink=\"http://www.w3.org/1999/xlink\" xlink:href=\"/resources/prod/v8.20.1/i/svg-output/icons.svg#icn-plane\"></use></svg>ICC Travel & Tours</a>\\n            \\t\\t</li>\\n\\t\\t</ul>\\n\\t\\t\\n    <ul class=\"global-header-social__list\">\\n            <li class=\"global-header-social__item\">\\n                <a href=\"https://www.facebook.com/icc/\" class=\"global-header-social__link global-header-social__link--facebook-f\" target=\"_blank\">\\n                    <svg class=\"icon\"><use xmlns:xlink=\"http://www.w3.org/1999/xlink\" xlink:href=\"/resources/prod/v8.20.1/i/svg-output/icons.svg#icn-facebook-f\"></use></svg>\\n                </a>\\n            </li>\\n            <li class=\"global-header-social__item\">\\n                <a href=\"https://twitter.com/ICC\" class=\"global-header-social__link global-header-social__link--twitter\" target=\"_blank\">\\n                    <svg class=\"icon\"><use xmlns:xlink=\"http://www.w3.org/1999/xlink\" xlink:href=\"/resources/prod/v8.20.1/i/svg-output/icons.svg#icn-twitter\"></use></svg>\\n                </a>\\n            </li>\\n            <li class=\"global-header-social__item\">\\n                <a href=\"https://www.instagram.com/icc/\" class=\"global-header-social__link global-header-social__link--instagram\" target=\"_blank\">\\n                    <svg class=\"icon\"><use xmlns:xlink=\"http://www.w3.org/1999/xlink\" xlink:href=\"/resources/prod/v8.20.1/i/svg-output/icons.svg#icn-instagram\"></use></svg>\\n                </a>\\n            </li>\\n            <li class=\"global-header-social__item\">\\n                <a href=\"https://www.youtube.com/user/CricketICC\" class=\"global-header-social__link global-header-social__link--youtube\" target=\"_blank\">\\n                    <svg class=\"icon\"><use xmlns:xlink=\"http://www.w3.org/1999/xlink\" xlink:href=\"/resources/prod/v8.20.1/i/svg-output/icons.svg#icn-youtube\"></use></svg>\\n                </a>\\n            </li>\\n    </ul>\\n\\n\\t\\t<div class=\"global-header__sso\" data-script=\"icc_global-header\" data-widget=\"user-login\">\\n    <a href=\"/sign-in\" class=\"btn btn--account btn--icon js-nav-default is-transitioning\">\\n        <svg class=\"icon\"><use xmlns:xlink=\"http://www.w3.org/1999/xlink\" xlink:href=\"/resources/prod/v8.20.1/i/svg-output/icons.svg#icn-account\"></use></svg>\\n        Sign In / Create Account\\n        <span class=\"btn__loading-bar\"></span>\\n    </a>\\n    <div class=\"global-header__sign-in js-nav-signedin u-hide\">\\n\\n        <div class=\"global-header__user-message js-nav-user\" tabindex=\"0\" role=\"button\">\\n            <div class=\"global-header__image-container\">\\n                <img src=\"#\" class=\"u-hide js-nav-user-img\" alt=\"User Image\">\\n            </div>\\n            <div class=\"global-header__username\">Welcome back, <span class=\"js-nav-user-text\"></span></div>\\n        </div>\\n\\n        <ul class=\"global-header__dropdown global-header__user-dropdown js-dropdown\">\\n            <li class=\"global-header__dropdown-item\"><a href=\"#\" class=\"js-nav-account\">Account</a></li>\\n            <li class=\"global-header__dropdown-item global-header__dropdown-item--signout\">\\n                <a href=\"#\" class=\"js-nav-logout\">Sign Out</a>\\n                <svg class=\"icon\"><use xmlns:xlink=\"http://www.w3.org/1999/xlink\" xlink:href=\"/resources/prod/v8.20.1/i/svg-output/icons.svg#icn-sign-out\"></use></svg>\\n            </li>\\n        </ul>\\n\\n    </div>\\n</div>\\n\\n\\t</div>\\n\\n\\n\\n    <div class=\"global-navigation\">\\n        <div class=\"global-navigation__default-bg\"></div>\\n        <div class=\"global-navigation__fixed-container\" data-script=\"icc_global-navigation\" data-widget=\"global-navigation\">\\n        \\t<nav class=\"global-navigation__main js-global-navigation is-open\" data-widget=\"scroll-boundary\" data-active-class=\"is-fixed\">\\n        \\t\\t<a href=\"/home-page\" class=\"global-navigation__branding\">\\n        \\t\\t\\t<div class=\"icn icn-logo-icc\"></div>\\n        \\t\\t</a>\\n        \\t\\t<div role=\"button\" class=\"global-navigation__menu-button js-global-navigation-menu-button\">\\n        \\t\\t\\t<span class=\"global-navigation__menu-button-text global-navigation__menu-button-text--open\">Menu</span>\\n        \\t\\t\\t<span class=\"global-navigation__menu-button-text global-navigation__menu-button-text--close\">Close</span>\\n        \\t\\t\\t<div class=\"menu-button\">\\n        \\t            <div></div>\\n        \\t            <div></div>\\n        \\t            <div></div>\\n        \\t        </div>\\n        \\t\\t</div>\\n\\n        \\t\\t<div class=\"global-navigation__container js-global-navigation-container\">\\n        \\t\\t\\t<ul class=\"global-navigation__list\">\\n\\t<li tabindex=\"0\" class=\"global-navigation__item js-global-navigation-item #! global-navigation__item--home has-link \">\\n\\n\\t\\t<div role=\"button\" class=\"global-navigation__link\">\\n    \\t\\t\\t<a href=\"/\">Home\\n                </a>\\n\\t\\t</div>\\n\\t</li>\\n\\t<li tabindex=\"0\" class=\"global-navigation__item js-global-navigation-item #! global-navigation__item--live has-drop-down \">\\n\\n\\t\\t<div role=\"button\" class=\"global-navigation__link\">\\n\\t\\t         Live <svg class=\"icon\"><use xmlns:xlink=\"http://www.w3.org/1999/xlink\" xlink:href=\"/resources/prod/v8.20.1/i/svg-output/icons.svg#icn-chevron-down\"></use></svg>\\n\\t\\t\\t\\t<span class=\"global-navigation__live-counter js-match-counter-nav\"></span>\\n\\t\\t</div>\\n\\t\\t\\t<div class=\"global-navigation__drop-down\">\\n\\t\\t\\t\\t<ul class=\"global-navigation__drop-down-list\">\\n\\t\\t\\t\\t\\t\\t\\t<li class=\"global-navigation__drop-down-item \"><a href=\"/live-cricket/live\" class=\" global-navigation__drop-down-link js-global-navigation-drop-down-link \">Live Scores</a></li>\\n\\t\\t\\t\\t\\t\\t\\t<li class=\"global-navigation__drop-down-item \"><a href=\"/live-cricket/mens-results\" class=\" global-navigation__drop-down-link js-global-navigation-drop-down-link \">Men\\'s Results</a></li>\\n\\t\\t\\t\\t\\t\\t\\t<li class=\"global-navigation__drop-down-item \"><a href=\"/live-cricket/womens-results\" class=\" global-navigation__drop-down-link js-global-navigation-drop-down-link \">Women\\'s Results</a></li>\\n\\t\\t\\t\\t</ul>\\n\\t\\t\\t</div>\\n\\n\\t</li>\\n\\t<li tabindex=\"0\" class=\"global-navigation__item js-global-navigation-item #! has-drop-down \">\\n\\n\\t\\t<div role=\"button\" class=\"global-navigation__link\">\\n\\t\\t         Fixtures <svg class=\"icon\"><use xmlns:xlink=\"http://www.w3.org/1999/xlink\" xlink:href=\"/resources/prod/v8.20.1/i/svg-output/icons.svg#icn-chevron-down\"></use></svg>\\n\\t\\t</div>\\n\\t\\t\\t<div class=\"global-navigation__drop-down\">\\n\\t\\t\\t\\t<ul class=\"global-navigation__drop-down-list\">\\n\\t\\t\\t\\t\\t\\t\\t<li class=\"global-navigation__drop-down-item \"><a href=\"/mens-schedule/list\" class=\" global-navigation__drop-down-link js-global-navigation-drop-down-link \">Men\\'s Fixtures</a></li>\\n\\t\\t\\t\\t\\t\\t\\t<li class=\"global-navigation__drop-down-item \"><a href=\"/womens-schedule/list\" class=\" global-navigation__drop-down-link js-global-navigation-drop-down-link \">Women\\'s Fixtures</a></li>\\n\\t\\t\\t\\t</ul>\\n\\t\\t\\t</div>\\n\\n\\t</li>\\n\\t<li tabindex=\"0\" class=\"global-navigation__item js-global-navigation-item #! has-drop-down \">\\n\\n\\t\\t<div role=\"button\" class=\"global-navigation__link\">\\n\\t\\t         ICC Events <svg class=\"icon\"><use xmlns:xlink=\"http://www.w3.org/1999/xlink\" xlink:href=\"/resources/prod/v8.20.1/i/svg-output/icons.svg#icn-chevron-down\"></use></svg>\\n\\t\\t</div>\\n\\t\\t\\t<div class=\"global-navigation__drop-down\">\\n\\t\\t\\t\\t<ul class=\"global-navigation__drop-down-list\">\\n\\t\\t\\t\\t\\t\\t\\t<li class=\"global-navigation__drop-down-item \"><a href=\"https://www.t20worldcup.com\" class=\" global-navigation__drop-down-link js-global-navigation-drop-down-link \">ICC T20 World Cup</a></li>\\n\\t\\t\\t\\t\\t\\t\\t<li class=\"global-navigation__drop-down-item \"><a href=\"https://www.cricketworldcup.com/\" class=\" global-navigation__drop-down-link js-global-navigation-drop-down-link \">ICC Cricket World Cup</a></li>\\n\\t\\t\\t\\t\\t\\t\\t<li class=\"global-navigation__drop-down-item \"><a href=\"/world-test-championship\" class=\" global-navigation__drop-down-link js-global-navigation-drop-down-link \">ICC World Test Championship</a></li>\\n\\t\\t\\t\\t\\t\\t\\t<li class=\"global-navigation__drop-down-item \"><a href=\"/u19-world-cup/\" class=\" global-navigation__drop-down-link js-global-navigation-drop-down-link \">ICC U19 Cricket World Cup</a></li>\\n\\t\\t\\t\\t\\t\\t\\t<li class=\"global-navigation__drop-down-item \"><a href=\"/champions-trophy\" class=\" global-navigation__drop-down-link js-global-navigation-drop-down-link \">ICC Champions Trophy</a></li>\\n\\t\\t\\t\\t\\t\\t\\t<li class=\"global-navigation__drop-down-item \"><a href=\"/cricket-world-cup-super-league/fixtures\" class=\" global-navigation__drop-down-link js-global-navigation-drop-down-link \">ICC Men\\'s Cricket World Cup Super League</a></li>\\n\\t\\t\\t\\t\\t\\t\\t<li class=\"global-navigation__drop-down-item \"><a href=\"/cricket-world-cup-challenge-league/news\" class=\" global-navigation__drop-down-link js-global-navigation-drop-down-link \">ICC Men\\'s Cricket World Cup Challenge League</a></li>\\n\\t\\t\\t\\t\\t\\t\\t<li class=\"global-navigation__drop-down-item \"><a href=\"/cricket-world-cup-league-two/news\" class=\" global-navigation__drop-down-link js-global-navigation-drop-down-link \">ICC Men\\'s Cricket World Cup League 2</a></li>\\n\\t\\t\\t\\t\\t\\t\\t<li class=\"global-navigation__drop-down-item \"><a href=\"/womens-championship\" class=\" global-navigation__drop-down-link js-global-navigation-drop-down-link \">ICC Women\\'s Championship</a></li>\\n\\t\\t\\t\\t\\t\\t\\t<li class=\"global-navigation__drop-down-item \"><a href=\"/event-status\" class=\" global-navigation__drop-down-link js-global-navigation-drop-down-link \">2021 Event status</a></li>\\n\\t\\t\\t\\t</ul>\\n\\t\\t\\t</div>\\n\\n\\t</li>\\n\\t<li tabindex=\"0\" class=\"global-navigation__item js-global-navigation-item #! has-drop-down \">\\n\\n\\t\\t<div role=\"button\" class=\"global-navigation__link\">\\n\\t\\t         Rankings <svg class=\"icon\"><use xmlns:xlink=\"http://www.w3.org/1999/xlink\" xlink:href=\"/resources/prod/v8.20.1/i/svg-output/icons.svg#icn-chevron-down\"></use></svg>\\n\\t\\t</div>\\n\\n\\t\\t\\t\\t<div class=\"global-navigation__drop-down global-navigation__drop-down--2-column\">\\n\\t\\t\\t\\t\\t<div class=\"global-navigation__drop-down-column\">\\n\\t\\t\\t\\t\\t\\t<div class=\"global-navigation__drop-down-title\">Men\\'s Rankings</div>\\n\\t\\t\\t\\t\\t\\t<ul class=\"global-navigation__drop-down-list\">\\n\\t\\t\\t\\t\\t\\t\\t\\t<li class=\"global-navigation__drop-down-item\"><a href=\"/rankings/mens/overview\" class=\" global-navigation__drop-down-link js-global-navigation-drop-down-link\">Overview</a></li>\\n\\t\\t\\t\\t\\t\\t\\t\\t<li class=\"global-navigation__drop-down-item\"><a href=\"/rankings/mens/team-rankings\" class=\" global-navigation__drop-down-link js-global-navigation-drop-down-link\">Team Rankings</a></li>\\n\\t\\t\\t\\t\\t\\t\\t\\t<li class=\"global-navigation__drop-down-item\"><a href=\"/rankings/mens/player-rankings\" class=\" global-navigation__drop-down-link js-global-navigation-drop-down-link\">Players Rankings</a></li>\\n\\t\\t\\t\\t\\t\\t\\t\\t<li class=\"global-navigation__drop-down-item\"><a href=\"/rankings/mens/player-rankings/comparison\" class=\" global-navigation__drop-down-link js-global-navigation-drop-down-link\">Player Comparison</a></li>\\n\\t\\t\\t\\t\\t\\t\\t\\t<li class=\"global-navigation__drop-down-item\"><a href=\"/rankings/mens/rankings-predictor/test\" class=\" global-navigation__drop-down-link js-global-navigation-drop-down-link\">Team Rankings Predictor</a></li>\\n\\t\\t\\t\\t\\t\\t\\t\\t<li class=\"global-navigation__drop-down-item\"><a href=\"/rankings/about\" class=\" global-navigation__drop-down-link js-global-navigation-drop-down-link\">About the Rankings</a></li>\\n\\t\\t\\t\\t\\t\\t\\t\\t<li class=\"global-navigation__drop-down-item\"><a href=\"/rankings/faqs\" class=\" global-navigation__drop-down-link js-global-navigation-drop-down-link\">Rankings FAQ</a></li>\\n\\t\\t\\t\\t\\t\\t</ul>\\n\\t\\t\\t\\t\\t</div>\\n\\t\\t\\t\\t\\t<div class=\"global-navigation__drop-down-column\">\\n\\t\\t\\t\\t\\t\\t<div class=\"global-navigation__drop-down-title\">Women\\'s Rankings</div>\\n\\t\\t\\t\\t\\t\\t<ul class=\"global-navigation__drop-down-list\">\\n\\t\\t\\t\\t\\t\\t\\t\\t<li class=\"global-navigation__drop-down-item\"><a href=\"/rankings/womens/overview\" class=\" global-navigation__drop-down-link js-global-navigation-drop-down-link\">Overview</a></li>\\n\\t\\t\\t\\t\\t\\t\\t\\t<li class=\"global-navigation__drop-down-item\"><a href=\"/rankings/womens/team-rankings\" class=\" global-navigation__drop-down-link js-global-navigation-drop-down-link\">Team Rankings</a></li>\\n\\t\\t\\t\\t\\t\\t\\t\\t<li class=\"global-navigation__drop-down-item\"><a href=\"/rankings/womens/player-rankings\" class=\" global-navigation__drop-down-link js-global-navigation-drop-down-link\">Player Rankings</a></li>\\n\\t\\t\\t\\t\\t\\t</ul>\\n\\t\\t\\t\\t\\t</div>\\n\\t\\t\\t\\t</div>\\n\\t</li>\\n\\t<li tabindex=\"0\" class=\"global-navigation__item js-global-navigation-item #! has-drop-down \">\\n\\n\\t\\t<div role=\"button\" class=\"global-navigation__link\">\\n\\t\\t         Teams <svg class=\"icon\"><use xmlns:xlink=\"http://www.w3.org/1999/xlink\" xlink:href=\"/resources/prod/v8.20.1/i/svg-output/icons.svg#icn-chevron-down\"></use></svg>\\n\\t\\t</div>\\n\\t\\t\\t<div class=\"global-navigation__drop-down\">\\n\\t\\t\\t\\t<ul class=\"global-navigation__drop-down-list\">\\n\\t\\t\\t\\t\\t\\t\\t<li class=\"global-navigation__drop-down-item \"><a href=\"https://www.icc-cricket.com/teams/men\" class=\" global-navigation__drop-down-link js-global-navigation-drop-down-link \">Men</a></li>\\n\\t\\t\\t\\t\\t\\t\\t<li class=\"global-navigation__drop-down-item \"><a href=\"https://www.icc-cricket.com/teams/women\" class=\" global-navigation__drop-down-link js-global-navigation-drop-down-link \">Women</a></li>\\n\\t\\t\\t\\t\\t\\t\\t<li class=\"global-navigation__drop-down-item \"><a href=\"https://www.icc-cricket.com/teams/u19\" class=\" global-navigation__drop-down-link js-global-navigation-drop-down-link \">U19</a></li>\\n\\t\\t\\t\\t</ul>\\n\\t\\t\\t</div>\\n\\n\\t</li>\\n\\t<li tabindex=\"0\" class=\"global-navigation__item js-global-navigation-item #! has-drop-down \">\\n\\n\\t\\t<div role=\"button\" class=\"global-navigation__link\">\\n\\t\\t         Video <svg class=\"icon\"><use xmlns:xlink=\"http://www.w3.org/1999/xlink\" xlink:href=\"/resources/prod/v8.20.1/i/svg-output/icons.svg#icn-chevron-down\"></use></svg>\\n\\t\\t</div>\\n\\t\\t\\t<div class=\"global-navigation__drop-down\">\\n\\t\\t\\t\\t<ul class=\"global-navigation__drop-down-list\">\\n\\t\\t\\t\\t\\t\\t\\t<li class=\"global-navigation__drop-down-item \"><a href=\"/video/vault\" class=\" global-navigation__drop-down-link js-global-navigation-drop-down-link \">ICC Vault</a></li>\\n\\t\\t\\t\\t\\t\\t\\t<li class=\"global-navigation__drop-down-item \"><a href=\"/video\" class=\" global-navigation__drop-down-link js-global-navigation-drop-down-link \">Video Home</a></li>\\n\\t\\t\\t\\t\\t\\t\\t<li class=\"global-navigation__drop-down-item \"><a href=\"/video/by-country\" class=\" global-navigation__drop-down-link js-global-navigation-drop-down-link \">Videos By Country</a></li>\\n\\t\\t\\t\\t\\t\\t\\t<li class=\"global-navigation__drop-down-item \"><a href=\"/video/events\" class=\" global-navigation__drop-down-link js-global-navigation-drop-down-link \">ICC Events</a></li>\\n\\t\\t\\t\\t\\t\\t\\t<li class=\"global-navigation__drop-down-item \"><a href=\"/video/cricket-360\" class=\" global-navigation__drop-down-link js-global-navigation-drop-down-link \">ICC Cricket 360\\xc2\\xb0</a></li>\\n\\t\\t\\t\\t\\t\\t\\t<li class=\"global-navigation__drop-down-item \"><a href=\"/video/what-is-cricket\" class=\" global-navigation__drop-down-link js-global-navigation-drop-down-link \">What is Cricket?</a></li>\\n\\t\\t\\t\\t</ul>\\n\\t\\t\\t</div>\\n\\n\\t</li>\\n\\t<li tabindex=\"0\" class=\"global-navigation__item js-global-navigation-item #! has-drop-down \">\\n\\n\\t\\t<div role=\"button\" class=\"global-navigation__link\">\\n\\t\\t         More <svg class=\"icon\"><use xmlns:xlink=\"http://www.w3.org/1999/xlink\" xlink:href=\"/resources/prod/v8.20.1/i/svg-output/icons.svg#icn-chevron-down\"></use></svg>\\n\\t\\t</div>\\n\\t\\t\\t<div class=\"global-navigation__drop-down\">\\n\\t\\t\\t\\t<ul class=\"global-navigation__drop-down-list\">\\n\\t\\t\\t\\t\\t\\t\\t<li class=\"global-navigation__drop-down-item global-nav__item--divider\"><a href=\"https://www.icc-cricket.com/about\" class=\" global-navigation__drop-down-link js-global-navigation-drop-down-link \">About ICC</a></li>\\n\\t\\t\\t\\t\\t\\t\\t<li class=\"global-navigation__drop-down-item \"><a href=\"/quiz\" class=\" global-navigation__drop-down-link js-global-navigation-drop-down-link \">Quiz</a></li>\\n\\t\\t\\t\\t\\t\\t\\t<li class=\"global-navigation__drop-down-item \"><a href=\"/awards/overview\" class=\" global-navigation__drop-down-link js-global-navigation-drop-down-link \">Awards</a></li>\\n\\t\\t\\t\\t\\t\\t\\t<li class=\"global-navigation__drop-down-item \"><a href=\"/hall-of-fame\" class=\" global-navigation__drop-down-link js-global-navigation-drop-down-link \">Hall of Fame</a></li>\\n\\t\\t\\t\\t\\t\\t\\t<li class=\"global-navigation__drop-down-item \"><a href=\"/social\" class=\" global-navigation__drop-down-link js-global-navigation-drop-down-link \">ICC on Social</a></li>\\n\\t\\t\\t\\t\\t\\t\\t<li class=\"global-navigation__drop-down-item \"><a href=\"/media-releases\" class=\" global-navigation__drop-down-link js-global-navigation-drop-down-link \">Media Releases</a></li>\\n\\t\\t\\t\\t\\t\\t\\t<li class=\"global-navigation__drop-down-item \"><a href=\"/news\" class=\" global-navigation__drop-down-link js-global-navigation-drop-down-link \">News</a></li>\\n\\t\\t\\t\\t\\t\\t\\t<li class=\"global-navigation__drop-down-item \"><a href=\"/photos\" class=\" global-navigation__drop-down-link js-global-navigation-drop-down-link \">Photos</a></li>\\n\\t\\t\\t\\t\\t\\t\\t<li class=\"global-navigation__drop-down-item \"><a href=\"/cricket-for-good\" class=\" global-navigation__drop-down-link js-global-navigation-drop-down-link \">Cricket for Good</a></li>\\n\\t\\t\\t\\t\\t\\t\\t<li class=\"global-navigation__drop-down-item \"><a href=\"/mobile\" class=\" global-navigation__drop-down-link js-global-navigation-drop-down-link \">Mobile App</a></li>\\n\\t\\t\\t\\t\\t\\t\\t<li class=\"global-navigation__drop-down-item \"><a href=\"/news/318971\" class=\" global-navigation__drop-down-link js-global-navigation-drop-down-link \">Commercial Opportunities</a></li>\\n\\t\\t\\t\\t\\t\\t\\t<li class=\"global-navigation__drop-down-item \"><a href=\"/criiio/\" class=\" global-navigation__drop-down-link js-global-navigation-drop-down-link \">criiio</a></li>\\n\\t\\t\\t\\t\\t\\t\\t<li class=\"global-navigation__drop-down-item \"><a href=\"/100percentcricket\" class=\" global-navigation__drop-down-link js-global-navigation-drop-down-link \">100% Cricket</a></li>\\n\\t\\t\\t\\t\\t\\t\\t<li class=\"global-navigation__drop-down-item \"><a href=\"https://icccricketshop.com/\" class=\" global-navigation__drop-down-link js-global-navigation-drop-down-link \">ICC Shop</a></li>\\n\\t\\t\\t\\t</ul>\\n\\t\\t\\t</div>\\n\\n\\t</li>\\n        \\t\\t\\t</ul>\\n                    \\n\\t<div class=\"global-navigation-menu u-hide\">\\n\\t\\t<ul class=\"global-navigation-menu__list\">\\n\\t\\t\\t\\t\\t<li class=\"global-navigation-menu__item\">\\n\\t\\t\\t\\t\\t\\t<a href=\"http://www.icctravelandtours.com/\" class=\"global-navigation-menu__link\">\\n\\t\\t\\t\\t\\t\\t\\t<svg class=\"icon plane\"><use xmlns:xlink=\"http://www.w3.org/1999/xlink\" xlink:href=\"/resources/prod/v8.20.1/i/svg-output/icons.svg#icn-plane\"></use></svg>\\n\\t\\t\\t\\t\\t\\t\\tICC Travel & Tours\\n\\t\\t\\t\\t\\t\\t</a>\\n\\t\\t\\t\\t\\t</li>\\n            <li class=\"global-navigation-menu__item global-navigation-menu__item--user js-nav-default-mobile\">\\n                <a href=\"/sign-in\" class=\"global-navigation-menu__link\">\\n                    <svg class=\"icon\"><use xmlns:xlink=\"http://www.w3.org/1999/xlink\" xlink:href=\"/resources/prod/v8.20.1/i/svg-output/icons.svg#icn-account\"></use></svg>\\n                    Sign In/Create Account\\n                </a>\\n            </li>\\n            <li class=\"global-navigation-menu__item global-navigation-menu__item--user js-nav-signedin-mobile u-hide\">\\n                <a href=\"#\" class=\"global-navigation-menu__link\">\\n                    <div class=\"global-navigation-menu__image-container\">\\n                        <img src=\"#\" class=\"u-hide js-nav-user-img-mobile\" alt=\"User Image\">\\n                    </div>\\n                    <div class=\"global-navigation-menu__username\">Hi <span class=\"js-nav-user-text-mobile\"></span></div>\\n                </a>\\n            </li>\\n\\t\\t</ul>\\n\\t</div>\\n\\n        \\t\\t</div>\\n\\n\\t\\t\\t\\t\\n\\n        \\t\\t<div tabindex=\"0\" role=\"button\" class=\"global-navigation__search js-global-navigation-search\">\\n        \\t\\t\\t<svg class=\"global-navigation__search-icon icon\"><use xmlns:xlink=\"http://www.w3.org/1999/xlink\" xlink:href=\"/resources/prod/v8.20.1/i/svg-output/icons.svg#icn-search\"></use></svg>\\n        \\t\\t\\t<span class=\"global-navigation__search-text\">Search</span>\\n        \\t\\t</div>\\n\\n                <a href=\"/sign-in\" class=\"global-navigation__user js-nav-default-mobile\" role=\"button\">\\n                    <svg class=\"icon\"><use xmlns:xlink=\"http://www.w3.org/1999/xlink\" xlink:href=\"/resources/prod/v8.20.1/i/svg-output/icons.svg#icn-account\"></use></svg>\\n                </a>\\n                <a href=\"#\" class=\"global-navigation__user js-nav-signedin-mobile u-hide\" role=\"button\">\\n                    <div class=\"global-navigation__image-container\">\\n                        <img src=\"#\" class=\"u-hide js-nav-user-img-mobile\" alt=\"User Image\">\\n                    </div>\\n                </a>\\n\\n        \\t\\t<form action=\"/search\" type=\"GET\" class=\"global-navigation__search-open js-global-navigation-search-open\">\\n        \\t\\t\\t<div class=\"global-navigation__search-input\">\\n        \\t\\t\\t\\t<input tabindex=\"-1\" class=\"js-global-navigation-input\" type=\"text\" name=\"term\" placeholder=\"Search ICC\" />\\n        \\t\\t\\t</div>\\n        \\t\\t\\t<button type=\"submit\" tabindex=\"0\" class=\"global-navigation__search-go js-global-navigation-search-go\">\\n        \\t\\t\\t\\t<svg class=\"icon\"><use xmlns:xlink=\"http://www.w3.org/1999/xlink\" xlink:href=\"/resources/prod/v8.20.1/i/svg-output/icons.svg#icn-search\"></use></svg>\\n        \\t\\t\\t</button>\\n        \\t\\t\\t<div tabindex=\"0\" class=\"global-navigation__search-close js-global-navigation-search-close\">\\n        \\t\\t\\t\\t<svg class=\"icon\"><use xmlns:xlink=\"http://www.w3.org/1999/xlink\" xlink:href=\"/resources/prod/v8.20.1/i/svg-output/icons.svg#icn-close\"></use></svg>\\n        \\t\\t\\t</div>\\n        \\t\\t</form>\\n                <div class=\"global-navigation__search-overlay\"></div>\\n        \\t</nav>\\n        </div>\\n    </div>\\n\\n\\n<main id=\"main-content\" tabindex=\"0\">\\n\\t\\n\\n<button class=\"scroll-to-top\" data-widget=\"scroll-to-top\" data-script=\"icc_scroll-to-top\">\\n\\t<svg class=\"scroll-to-top__icon\">\\n\\t\\t<use xmlns:xlink=\"http://www.w3.org/1999/xlink\" xlink:href=\"/resources/prod/v8.20.1/i/svg-output/icons.svg#icn-up-arrow\"></use>\\n\\t</svg>\\n\\n    <div class=\"scroll-to-top__mask\" aria-hidden=\"true\">\\n\\t<svg class=\"scroll-to-top__icon\">\\n\\t\\t<use xmlns:xlink=\"http://www.w3.org/1999/xlink\" xlink:href=\"/resources/prod/v8.20.1/i/svg-output/icons.svg#icn-up-arrow\"></use>\\n\\t</svg>\\n    </div>\\n    <span class=\"u-screen-reader\">Scroll to Top</span>\\n</button>\\n\\n\\n\\n<header class=\"page-header page-header--rankings\">\\n    <div class=\"wrapper\">\\n        <div class=\"col-12\">\\n            <div class=\"page-header__banner\">\\n        <a class=\"page-logo\" href=\"http://track.adform.net/C/?bn=20093364\" data-widget=\"impression-tracker\" data-tracking-url=\"https://track.adform.net/adfserve/?bn=20093364;srctype=4;ord=%%ADFRND%%\" target=\"_blank\">\\n            <span class=\"icn icn-logo-mrf-rankings\"></span>\\n        </a>\\n            </div>\\n    <div class=\"share share--\\n        \\n        share--vertical\\n        \\n        \"\\n        \\n        data-widget=\"share\">\\n        <div class=\"share__container\">\\n            <div class=\"share__btn js-share-btn\">\\n                <svg class=\"icon\"><use xmlns:xlink=\"http://www.w3.org/1999/xlink\" xlink:href=\"/resources/prod/v8.20.1/i/svg-output/icons.svg#icn-share\"></use></svg>\\n                <div class=\"share__title\">Share</div>\\n            </div>\\n            <ul class=\"share__list\">\\n\\n                <li class=\"share__item share__item--facebook js-social-option\" data-social-service=\"facebook\"  role=\"button\" tabindex=\"0\">\\n                    <svg class=\"icon\"><use xmlns:xlink=\"http://www.w3.org/1999/xlink\" xlink:href=\"/resources/prod/v8.20.1/i/svg-output/icons.svg#icn-facebook\"></use></svg>\\n                </li>\\n\\n                <li class=\"share__item share__item--twitter js-social-option\" data-social-service=\"twitter\"   role=\"button\" tabindex=\"0\">\\n                    <svg class=\"icon\"><use xmlns:xlink=\"http://www.w3.org/1999/xlink\" xlink:href=\"/resources/prod/v8.20.1/i/svg-output/icons.svg#icn-twitter\"></use></svg>\\n                </li>\\n                <li class=\"share__item share__item--messenger u-show-tablet js-social-option\" data-social-service=\"facebookMessenger\"  role=\"buttn\" tabindex=\"0\">\\n                    <svg class=\"icon\"><use xmlns:xlink=\"http://www.w3.org/1999/xlink\" xlink:href=\"/resources/prod/v8.20.1/i/svg-output/icons.svg#icn-facebook-messenger\"></use></svg>\\n                </li>\\n\\n                <li class=\"share__item share__item--whatsapp u-show-tablet js-social-option\" data-social-service=\"whatsapp\"   role=\"button\" tabindex=\"0\">\\n                    <svg class=\"icon\"><use xmlns:xlink=\"http://www.w3.org/1999/xlink\" xlink:href=\"/resources/prod/v8.20.1/i/svg-output/icons.svg#icn-whatsapp\"></use></svg>\\n                </li>\\n\\n                <li class=\"share__item share__item--url u-hide-tablet js-copy-button\"  role=\"button\" tabindex=\"0\">\\n                    <svg class=\"icon\"><use xmlns:xlink=\"http://www.w3.org/1999/xlink\" xlink:href=\"/resources/prod/v8.20.1/i/svg-output/icons.svg#icn-url\"></use></svg>\\n                    <div class=\"share__copy-message js-copy-message\">URL Copied</div>\\n                </li>\\n\\n            </ul>\\n        </div>\\n    </div>\\n        </div>\\n    </div>\\n</header>\\n\\n\\n<div class=\"l-sticky-side-nav\">\\n\\t<div class=\"l-sticky-side-nav__nav\">\\n\\t\\t\\n<div class=\"rankings-menu\" data-script=\"icc_rankings-menu\" data-widget=\"rankings-menu\">\\n    <div class=\"drop-down-tablet js-drop-down\">\\n        <div class=\"drop-down__clickzone js-drop-down-trigger\" tabindex=\"0\" role=\"button\"></div>\\n        <div class=\"drop-down__label\">\\n            Women\\'s\\n        </div>\\n        <div class=\"drop-down__current\">\\n            Team Rankings\\n            <svg class=\"icon\"><use xmlns:xlink=\"http://www.w3.org/1999/xlink\" xlink:href=\"/resources/prod/v8.20.1/i/svg-output/icons.svg#icn-caret-down\"></use></svg>\\n        </div>\\n        <div class=\"drop-down__dropdown-list js-drop-down-options\">\\n                <div class=\"rankings-menu__tab-container u-hide-tablet\">\\n                    <nav class=\"content-tabs\">\\n                        <ul class=\"block-list-2 u-no-font-size\" role=\"tablist\">\\n                                <li class=\"u-no-padding u-no-margin\">\\n                                    <a class=\"content-tabs__tab \" href=\"/rankings/mens/overview\">Men\\'s</a>\\n                                </li>\\n                                <li class=\"u-no-padding u-no-margin\">\\n                                    <a class=\"content-tabs__tab content-tabs__tab--active\" href=\"/rankings/womens/overview\">Women\\'s</a>\\n                                </li>\\n                        </ul>\\n                    </nav>\\n                </div>\\n                    <div class=\" tab-content\">\\n                            <h3 class=\"rankings-menu__title\">Men\\'s</h3>\\n\\n                        <ul class=\"rankings-menu__list\">\\n\\n\\n                    <li class=\"rankings-menu__item\">\\n                        <a href=\"/rankings/mens/overview\" class=\"rankings-menu__link \">Overview<svg class=\"icon\"><use xmlns:xlink=\"http://www.w3.org/1999/xlink\" xlink:href=\"/resources/prod/v8.20.1/i/svg-output/icons.svg#icn-chevron-right\"></use></svg></a>\\n                    </li>\\n\\n                    <li class=\"rankings-menu__item\">\\n                        <a href=\"/rankings/mens/team-rankings\" class=\"rankings-menu__link \">Team Rankings<svg class=\"icon\"><use xmlns:xlink=\"http://www.w3.org/1999/xlink\" xlink:href=\"/resources/prod/v8.20.1/i/svg-output/icons.svg#icn-chevron-right\"></use></svg></a>\\n                    </li>\\n\\n                    <li class=\"rankings-menu__item\">\\n                        <a href=\"/rankings/mens/player-rankings\" class=\"rankings-menu__link \">Player Rankings<svg class=\"icon\"><use xmlns:xlink=\"http://www.w3.org/1999/xlink\" xlink:href=\"/resources/prod/v8.20.1/i/svg-output/icons.svg#icn-chevron-right\"></use></svg></a>\\n                    </li>\\n\\n                    <li class=\"rankings-menu__item\">\\n                        <a href=\"/rankings/mens/player-rankings/comparison\" class=\"rankings-menu__link \">Player Comparison<svg class=\"icon\"><use xmlns:xlink=\"http://www.w3.org/1999/xlink\" xlink:href=\"/resources/prod/v8.20.1/i/svg-output/icons.svg#icn-chevron-right\"></use></svg></a>\\n                    </li>\\n\\n                    <li class=\"rankings-menu__item\">\\n                        <a href=\"/rankings/mens/rankings-predictor/\" class=\"rankings-menu__link \">Team Rankings Predictor<svg class=\"icon\"><use xmlns:xlink=\"http://www.w3.org/1999/xlink\" xlink:href=\"/resources/prod/v8.20.1/i/svg-output/icons.svg#icn-chevron-right\"></use></svg></a>\\n                    </li>\\n\\n                    <li class=\"rankings-menu__item\">\\n                        <a href=\"/rankings/about\" class=\"rankings-menu__link \">About the Rankings<svg class=\"icon\"><use xmlns:xlink=\"http://www.w3.org/1999/xlink\" xlink:href=\"/resources/prod/v8.20.1/i/svg-output/icons.svg#icn-chevron-right\"></use></svg></a>\\n                    </li>\\n\\n                    <li class=\"rankings-menu__item\">\\n                        <a href=\"/rankings/faqs\" class=\"rankings-menu__link \">Player Rankings FAQs<svg class=\"icon\"><use xmlns:xlink=\"http://www.w3.org/1999/xlink\" xlink:href=\"/resources/prod/v8.20.1/i/svg-output/icons.svg#icn-chevron-right\"></use></svg></a>\\n                    </li>\\n\\n                        </ul>\\n                    </div>\\n\\n                    <div class=\"active tab-content\">\\n                            <h3 class=\"rankings-menu__title\">Women\\'s</h3>\\n\\n                        <ul class=\"rankings-menu__list\">\\n\\n                                    <li class=\"rankings-menu__item rankings-menu__item--user-selection js-team-btn\">\\n                                        <a href=\"#\" class=\"rankings-menu__link js-fav-team-link\">Select your team</a>\\n                                        <svg class=\"icon\"><use xmlns:xlink=\"http://www.w3.org/1999/xlink\" xlink:href=\"/resources/prod/v8.20.1/i/svg-output/icons.svg#icn-chevron-right\"></use></svg>\\n                                        <div class=\"rankings-menu__notch js-notch\"></div>\\n                                        <svg class=\"rankings-menu__notch-icon icon\"><use xmlns:xlink=\"http://www.w3.org/1999/xlink\" xlink:href=\"/resources/prod/v8.20.1/i/svg-output/icons.svg#icn-star\"></use></svg\\n                                    </li>\\n\\n                    <li class=\"rankings-menu__item\">\\n                        <a href=\"/rankings/womens/overview\" class=\"rankings-menu__link \">Overview<svg class=\"icon\"><use xmlns:xlink=\"http://www.w3.org/1999/xlink\" xlink:href=\"/resources/prod/v8.20.1/i/svg-output/icons.svg#icn-chevron-right\"></use></svg></a>\\n                    </li>\\n\\n                    <li class=\"rankings-menu__item\">\\n                        <a href=\"/rankings/womens/team-rankings\" class=\"rankings-menu__link \">Team Rankings<svg class=\"icon\"><use xmlns:xlink=\"http://www.w3.org/1999/xlink\" xlink:href=\"/resources/prod/v8.20.1/i/svg-output/icons.svg#icn-chevron-right\"></use></svg></a>\\n                    </li>\\n\\n                    <li class=\"rankings-menu__item\">\\n                        <a href=\"/rankings/womens/player-rankings\" class=\"rankings-menu__link \">Player Rankings<svg class=\"icon\"><use xmlns:xlink=\"http://www.w3.org/1999/xlink\" xlink:href=\"/resources/prod/v8.20.1/i/svg-output/icons.svg#icn-chevron-right\"></use></svg></a>\\n                    </li>\\n\\n                    <li class=\"rankings-menu__item\">\\n                        <a href=\"/rankings/about\" class=\"rankings-menu__link \">About the Rankings<svg class=\"icon\"><use xmlns:xlink=\"http://www.w3.org/1999/xlink\" xlink:href=\"/resources/prod/v8.20.1/i/svg-output/icons.svg#icn-chevron-right\"></use></svg></a>\\n                    </li>\\n\\n                    <li class=\"rankings-menu__item\">\\n                        <a href=\"/rankings/faqs\" class=\"rankings-menu__link \">Player Rankings FAQs<svg class=\"icon\"><use xmlns:xlink=\"http://www.w3.org/1999/xlink\" xlink:href=\"/resources/prod/v8.20.1/i/svg-output/icons.svg#icn-chevron-right\"></use></svg></a>\\n                    </li>\\n\\n                    <li class=\"rankings-menu__item\">\\n                        <a href=\"/rankings/womens-t20i-faq\" class=\"rankings-menu__link \">T20I Team Rankings FAQs<svg class=\"icon\"><use xmlns:xlink=\"http://www.w3.org/1999/xlink\" xlink:href=\"/resources/prod/v8.20.1/i/svg-output/icons.svg#icn-chevron-right\"></use></svg></a>\\n                    </li>\\n\\n                        </ul>\\n                    </div>\\n\\n        </div>\\n    </div>\\n</div>\\n\\n<div class=\"rankings-menu\" data-script=\"icc_rankings-menu\" data-widget=\"rankings-menu\">\\n    <div class=\"drop-down-tablet js-drop-down\">\\n        <div class=\"drop-down__clickzone js-drop-down-trigger\" tabindex=\"0\" role=\"button\"></div>\\n        <div class=\"drop-down__label\">\\n            Women\\'s\\n        </div>\\n        <div class=\"drop-down__current\">\\n            Team Rankings\\n            <svg class=\"icon\"><use xmlns:xlink=\"http://www.w3.org/1999/xlink\" xlink:href=\"/resources/prod/v8.20.1/i/svg-output/icons.svg#icn-caret-down\"></use></svg>\\n        </div>\\n        <div class=\"drop-down__dropdown-list js-drop-down-options\">\\n                <div class=\"rankings-menu__tab-container u-hide-tablet\">\\n                    <nav class=\"content-tabs\">\\n                        <ul class=\"block-list-2 u-no-font-size\" role=\"tablist\">\\n                                <li class=\"u-no-padding u-no-margin\">\\n                                    <a class=\"content-tabs__tab \" href=\"/rankings/mens/overview\">Men\\'s</a>\\n                                </li>\\n                                <li class=\"u-no-padding u-no-margin\">\\n                                    <a class=\"content-tabs__tab content-tabs__tab--active\" href=\"/rankings/womens/overview\">Women\\'s</a>\\n                                </li>\\n                        </ul>\\n                    </nav>\\n                </div>\\n                    <div class=\" tab-content\">\\n                            <h3 class=\"rankings-menu__title\">Men\\'s</h3>\\n\\n                        <ul class=\"rankings-menu__list\">\\n\\n\\n                    <li class=\"rankings-menu__item\">\\n                        <a href=\"/rankings/mens/overview\" class=\"rankings-menu__link \">Overview<svg class=\"icon\"><use xmlns:xlink=\"http://www.w3.org/1999/xlink\" xlink:href=\"/resources/prod/v8.20.1/i/svg-output/icons.svg#icn-chevron-right\"></use></svg></a>\\n                    </li>\\n\\n                    <li class=\"rankings-menu__item\">\\n                        <a href=\"/rankings/mens/team-rankings\" class=\"rankings-menu__link \">Team Rankings<svg class=\"icon\"><use xmlns:xlink=\"http://www.w3.org/1999/xlink\" xlink:href=\"/resources/prod/v8.20.1/i/svg-output/icons.svg#icn-chevron-right\"></use></svg></a>\\n                    </li>\\n\\n                    <li class=\"rankings-menu__item\">\\n                        <a href=\"/rankings/mens/player-rankings\" class=\"rankings-menu__link \">Player Rankings<svg class=\"icon\"><use xmlns:xlink=\"http://www.w3.org/1999/xlink\" xlink:href=\"/resources/prod/v8.20.1/i/svg-output/icons.svg#icn-chevron-right\"></use></svg></a>\\n                    </li>\\n\\n                    <li class=\"rankings-menu__item\">\\n                        <a href=\"/rankings/mens/player-rankings/comparison\" class=\"rankings-menu__link \">Player Comparison<svg class=\"icon\"><use xmlns:xlink=\"http://www.w3.org/1999/xlink\" xlink:href=\"/resources/prod/v8.20.1/i/svg-output/icons.svg#icn-chevron-right\"></use></svg></a>\\n                    </li>\\n\\n                    <li class=\"rankings-menu__item\">\\n                        <a href=\"/rankings/mens/rankings-predictor/\" class=\"rankings-menu__link \">Team Rankings Predictor<svg class=\"icon\"><use xmlns:xlink=\"http://www.w3.org/1999/xlink\" xlink:href=\"/resources/prod/v8.20.1/i/svg-output/icons.svg#icn-chevron-right\"></use></svg></a>\\n                    </li>\\n\\n                    <li class=\"rankings-menu__item\">\\n                        <a href=\"/rankings/about\" class=\"rankings-menu__link \">About the Rankings<svg class=\"icon\"><use xmlns:xlink=\"http://www.w3.org/1999/xlink\" xlink:href=\"/resources/prod/v8.20.1/i/svg-output/icons.svg#icn-chevron-right\"></use></svg></a>\\n                    </li>\\n\\n                    <li class=\"rankings-menu__item\">\\n                        <a href=\"/rankings/faqs\" class=\"rankings-menu__link \">Player Rankings FAQs<svg class=\"icon\"><use xmlns:xlink=\"http://www.w3.org/1999/xlink\" xlink:href=\"/resources/prod/v8.20.1/i/svg-output/icons.svg#icn-chevron-right\"></use></svg></a>\\n                    </li>\\n\\n                        </ul>\\n                    </div>\\n\\n                    <div class=\"active tab-content\">\\n                            <h3 class=\"rankings-menu__title\">Women\\'s</h3>\\n\\n                        <ul class=\"rankings-menu__list\">\\n\\n                                    <li class=\"rankings-menu__item rankings-menu__item--user-selection js-team-btn\">\\n                                        <a href=\"#\" class=\"rankings-menu__link js-fav-team-link\">Select your team</a>\\n                                        <svg class=\"icon\"><use xmlns:xlink=\"http://www.w3.org/1999/xlink\" xlink:href=\"/resources/prod/v8.20.1/i/svg-output/icons.svg#icn-chevron-right\"></use></svg>\\n                                        <div class=\"rankings-menu__notch js-notch\"></div>\\n                                        <svg class=\"rankings-menu__notch-icon icon\"><use xmlns:xlink=\"http://www.w3.org/1999/xlink\" xlink:href=\"/resources/prod/v8.20.1/i/svg-output/icons.svg#icn-star\"></use></svg\\n                                    </li>\\n\\n                    <li class=\"rankings-menu__item\">\\n                        <a href=\"/rankings/womens/overview\" class=\"rankings-menu__link \">Overview<svg class=\"icon\"><use xmlns:xlink=\"http://www.w3.org/1999/xlink\" xlink:href=\"/resources/prod/v8.20.1/i/svg-output/icons.svg#icn-chevron-right\"></use></svg></a>\\n                    </li>\\n\\n                    <li class=\"rankings-menu__item\">\\n                        <a href=\"/rankings/womens/team-rankings\" class=\"rankings-menu__link \">Team Rankings<svg class=\"icon\"><use xmlns:xlink=\"http://www.w3.org/1999/xlink\" xlink:href=\"/resources/prod/v8.20.1/i/svg-output/icons.svg#icn-chevron-right\"></use></svg></a>\\n                    </li>\\n\\n                    <li class=\"rankings-menu__item\">\\n                        <a href=\"/rankings/womens/player-rankings\" class=\"rankings-menu__link \">Player Rankings<svg class=\"icon\"><use xmlns:xlink=\"http://www.w3.org/1999/xlink\" xlink:href=\"/resources/prod/v8.20.1/i/svg-output/icons.svg#icn-chevron-right\"></use></svg></a>\\n                    </li>\\n\\n                    <li class=\"rankings-menu__item\">\\n                        <a href=\"/rankings/about\" class=\"rankings-menu__link \">About the Rankings<svg class=\"icon\"><use xmlns:xlink=\"http://www.w3.org/1999/xlink\" xlink:href=\"/resources/prod/v8.20.1/i/svg-output/icons.svg#icn-chevron-right\"></use></svg></a>\\n                    </li>\\n\\n                    <li class=\"rankings-menu__item\">\\n                        <a href=\"/rankings/faqs\" class=\"rankings-menu__link \">Player Rankings FAQs<svg class=\"icon\"><use xmlns:xlink=\"http://www.w3.org/1999/xlink\" xlink:href=\"/resources/prod/v8.20.1/i/svg-output/icons.svg#icn-chevron-right\"></use></svg></a>\\n                    </li>\\n\\n                    <li class=\"rankings-menu__item\">\\n                        <a href=\"/rankings/womens-t20i-faq\" class=\"rankings-menu__link \">T20I Team Rankings FAQs<svg class=\"icon\"><use xmlns:xlink=\"http://www.w3.org/1999/xlink\" xlink:href=\"/resources/prod/v8.20.1/i/svg-output/icons.svg#icn-chevron-right\"></use></svg></a>\\n                    </li>\\n\\n                        </ul>\\n                    </div>\\n\\n        </div>\\n    </div>\\n</div>\\n\\n\\t</div>\\n\\n\\t<div class=\"l-sticky-side-nav__content\">\\n\\t\\t\\n    <section class=\"ranking-format-menu\">\\n\\n        <div class=\"wrapper wrapper--sticky\">\\n\\n            <div class=\"col-12\">\\n                <div class=\"content-tabs\">\\n            \\t\\t<ul class=\"inline-list\">\\n            \\t                <li class=\"ranking-format-menu__item\">\\n            \\t                    \\t<a href=\"odi\" class=\"content-tabs__tab content-tabs__tab--active\" >ODI</a>\\n            \\t                </li>\\n            \\t                <li class=\"ranking-format-menu__item\">\\n            \\t                    \\t<a href=\"t20i\" class=\"content-tabs__tab \" >T20I</a>\\n            \\t                </li>\\n            \\t\\t</ul>\\n            \\t</div>\\n            </div>\\n        </div>\\n\\n    </section>\\n\\n\\t\\t<div class=\"wrapper wrapper--sticky\">\\n\\t\\t\\t<div class=\"col-12\">\\n\\t\\t\\t\\t\\n\\n\\n\\n    <section class=\"widget rankings-widget \"\\n\\t\\tdata-script=\"icc_rankings\"\\n\\t\\tdata-widget=\"full-team-rankings\">\\n\\n\\n        <div class=\"rankings-block__title-container\">\\n            <div class=\"rankings-block__type t-wodi\">wodi</div>\\n            <h4>Women\\'s ODI Rankings</h4>\\n        </div>\\n\\n        <div class=\"rankings-block__meta-container\">\\n                <div class=\"rankings-table__last-updated\">Last updated (GMT) - 27 Sep 2021</div>\\n            <div class=\"rankings-table__last-updated\">Developed by David Kendix</div>\\n        </div>\\n\\n        <div class=\"rankings-block__container full rankings-table\">\\n\\n            <table class=\"table\">\\n                <thead>\\n                    <tr class=\"table-head\">\\n                        <th class=\"table-head__cell u-text-right\">Pos</th>\\n                        <th class=\"table-head__cell rankings-table__team\">\\n                            <span class=\"u-hide-mobile\">Team</span>\\n                            <span class=\"u-show-mobile\">T</span>\\n                        </th>\\n                        <th class=\"table-head__cell u-center-text\">\\n                            <span class=\"u-hide-mobile\">Matches</span>\\n                            <span class=\"u-show-mobile\">M</span>\\n                        </th>\\n                        <th class=\"table-head__cell u-center-text\">\\n                            <span class=\"u-hide-mobile\">Points</span>\\n                            <span class=\"u-show-mobile\">P</span>\\n                        </th>\\n                        <th class=\"table-head__cell u-text-right rating\">\\n                            <span class=\"u-hide-mobile\">Rating</span>\\n                            <span class=\"u-show-mobile\">R</span>\\n                        </th>\\n                    </tr>\\n                </thead>\\n                <tbody>\\n\\n                    <tr class=\"rankings-block__banner\">\\n                        <td class=\"rankings-block__banner--pos\">1</td>\\n                        <td class=\"rankings-block__banner--team-name\">\\n                            <span class=\"flag-30 rankings-block__banner--flag AUS\"></span>\\n                            <span class=\"u-hide-phablet\">Australia</span>\\n                            <span class=\"u-show-phablet\">AUS</span>\\n                        </td>\\n                        <td class=\"rankings-block__banner--matches\">21</td>\\n                        <td class=\"rankings-block__banner--points\">3,379</td>\\n                        <td class=\"rankings-block__banner--rating u-text-right\">\\n                            161\\n                            <span class=\"circle-branding circle-branding--top\"></span>\\n                            <span class=\"circle-branding circle-branding--bottom\"></span>\\n                        </td>\\n                    </tr>\\n\\n                            <tr class=\"table-body\" data-team-id=\"28\">\\n                                <td class=\"table-body__cell table-body__cell--position u-text-right\">2</td>\\n                                <td class=\"table-body__cell rankings-table__team\">\\n                                    <span class=\"flag-15 table-body_logo ENG\"></span>\\n                                    <span class=\"u-hide-phablet\">England</span>\\n                                    <span class=\"u-show-phablet\">ENG</span>\\n                                </td>\\n                                <td class=\"table-body__cell u-center-text\">25</td>\\n                                <td class=\"table-body__cell u-center-text\">2,983</td>\\n                                <td class=\"table-body__cell u-text-right rating\">119</td>\\n                            </tr>\\n                            <tr class=\"table-body\" data-team-id=\"25\">\\n                                <td class=\"table-body__cell table-body__cell--position u-text-right\">3</td>\\n                                <td class=\"table-body__cell rankings-table__team\">\\n                                    <span class=\"flag-15 table-body_logo SA\"></span>\\n                                    <span class=\"u-hide-phablet\">South Africa</span>\\n                                    <span class=\"u-show-phablet\">SA</span>\\n                                </td>\\n                                <td class=\"table-body__cell u-center-text\">29</td>\\n                                <td class=\"table-body__cell u-center-text\">3,390</td>\\n                                <td class=\"table-body__cell u-text-right rating\">117</td>\\n                            </tr>\\n                            <tr class=\"table-body\" data-team-id=\"31\">\\n                                <td class=\"table-body__cell table-body__cell--position u-text-right\">4</td>\\n                                <td class=\"table-body__cell rankings-table__team\">\\n                                    <span class=\"flag-15 table-body_logo IND\"></span>\\n                                    <span class=\"u-hide-phablet\">India</span>\\n                                    <span class=\"u-show-phablet\">IND</span>\\n                                </td>\\n                                <td class=\"table-body__cell u-center-text\">26</td>\\n                                <td class=\"table-body__cell u-center-text\">2,934</td>\\n                                <td class=\"table-body__cell u-text-right rating\">113</td>\\n                            </tr>\\n                            <tr class=\"table-body\" data-team-id=\"26\">\\n                                <td class=\"table-body__cell table-body__cell--position u-text-right\">5</td>\\n                                <td class=\"table-body__cell rankings-table__team\">\\n                                    <span class=\"flag-15 table-body_logo NZ\"></span>\\n                                    <span class=\"u-hide-phablet\">New Zealand</span>\\n                                    <span class=\"u-show-phablet\">NZ</span>\\n                                </td>\\n                                <td class=\"table-body__cell u-center-text\">26</td>\\n                                <td class=\"table-body__cell u-center-text\">2,392</td>\\n                                <td class=\"table-body__cell u-text-right rating\">92</td>\\n                            </tr>\\n                            <tr class=\"table-body\" data-team-id=\"27\">\\n                                <td class=\"table-body__cell table-body__cell--position u-text-right\">6</td>\\n                                <td class=\"table-body__cell rankings-table__team\">\\n                                    <span class=\"flag-15 table-body_logo WI\"></span>\\n                                    <span class=\"u-hide-phablet\">West Indies</span>\\n                                    <span class=\"u-show-phablet\">WI</span>\\n                                </td>\\n                                <td class=\"table-body__cell u-center-text\">22</td>\\n                                <td class=\"table-body__cell u-center-text\">1,872</td>\\n                                <td class=\"table-body__cell u-text-right rating\">85</td>\\n                            </tr>\\n                            <tr class=\"table-body\" data-team-id=\"29\">\\n                                <td class=\"table-body__cell table-body__cell--position u-text-right\">7</td>\\n                                <td class=\"table-body__cell rankings-table__team\">\\n                                    <span class=\"flag-15 table-body_logo PAK\"></span>\\n                                    <span class=\"u-hide-phablet\">Pakistan</span>\\n                                    <span class=\"u-show-phablet\">PAK</span>\\n                                </td>\\n                                <td class=\"table-body__cell u-center-text\">20</td>\\n                                <td class=\"table-body__cell u-center-text\">1,496</td>\\n                                <td class=\"table-body__cell u-text-right rating\">75</td>\\n                            </tr>\\n                            <tr class=\"table-body\" data-team-id=\"170\">\\n                                <td class=\"table-body__cell table-body__cell--position u-text-right\">8</td>\\n                                <td class=\"table-body__cell rankings-table__team\">\\n                                    <span class=\"flag-15 table-body_logo BAN\"></span>\\n                                    <span class=\"u-hide-phablet\">Bangladesh</span>\\n                                    <span class=\"u-show-phablet\">BAN</span>\\n                                </td>\\n                                <td class=\"table-body__cell u-center-text\">5</td>\\n                                <td class=\"table-body__cell u-center-text\">306</td>\\n                                <td class=\"table-body__cell u-text-right rating\">61</td>\\n                            </tr>\\n                            <tr class=\"table-body\" data-team-id=\"24\">\\n                                <td class=\"table-body__cell table-body__cell--position u-text-right\">9</td>\\n                                <td class=\"table-body__cell rankings-table__team\">\\n                                    <span class=\"flag-15 table-body_logo SL\"></span>\\n                                    <span class=\"u-hide-phablet\">Sri Lanka</span>\\n                                    <span class=\"u-show-phablet\">SL</span>\\n                                </td>\\n                                <td class=\"table-body__cell u-center-text\">11</td>\\n                                <td class=\"table-body__cell u-center-text\">519</td>\\n                                <td class=\"table-body__cell u-text-right rating\">47</td>\\n                            </tr>\\n                            <tr class=\"table-body\" data-team-id=\"162\">\\n                                <td class=\"table-body__cell table-body__cell--position u-text-right\">10</td>\\n                                <td class=\"table-body__cell rankings-table__team\">\\n                                    <span class=\"flag-15 table-body_logo IRE\"></span>\\n                                    <span class=\"u-hide-phablet\">Ireland</span>\\n                                    <span class=\"u-show-phablet\">IRE</span>\\n                                </td>\\n                                <td class=\"table-body__cell u-center-text\">2</td>\\n                                <td class=\"table-body__cell u-center-text\">25</td>\\n                                <td class=\"table-body__cell u-text-right rating\">13</td>\\n                            </tr>\\n                </tbody>\\n            </table>\\n        </div>\\n    </section>\\n\\n\\n\\n    <div class=\"promo promo--full \">\\n            <div class=\"promo__image-container\">\\n                <picture class=\"promo__image\">\\n                    <source srcset=\"https://resources.pulse.icc-cricket.com/ICC/photo/2017/01/31/cc28da71-3cef-4f36-814f-7a2d456a3a6e/Virat_Kohli_Mace.jpg, https://resources.pulse.icc-cricket.com/ICC/photo/2017/01/31/938172d1-7b2b-4742-abba-8f19c0a7e95c/Virat_Kohli_Mace.jpg 2x\" media=\"(max-width: 500px)\">\\n\\n                    <source srcset=\"https://resources.pulse.icc-cricket.com/ICC/photo/2017/01/31/2cdbca5a-822a-411e-8447-ea198dbf3419/Virat_Kohli_Mace.jpg, https://resources.pulse.icc-cricket.com/ICC/photo/2017/01/31/fb65dc99-3f7d-4954-80ab-ed036d465246/Virat_Kohli_Mace.jpg 2x\">\\n\\n                    <img src=\"https://resources.pulse.icc-cricket.com/ICC/photo/2017/01/31/2cdbca5a-822a-411e-8447-ea198dbf3419/Virat_Kohli_Mace.jpg\" alt=\"Play the MRF Tyres ICC Rankings Predictor\" class=\"poly-object-fit\"/>\\n                </picture>\\n            </div>\\n            <div class=\"promo__text-container promo__text-container--with-image\">\\n            <h3 class=\"promo__title\">Play the MRF Tyres ICC Rankings Predictor</h3>\\n                <p class=\"promo__text\">Predict the outcome of upcoming Test cricket fixtures and see how the MRF Tyres ICC Rankings change.</p>\\n                <a href=\"/rankings/mens/rankings-predictor/test\" class=\"promo__cta btn\">Play Now</a>\\n        </div>\\n    </div>\\n\\n\\t\\t\\t</div>\\n\\t\\t</div>\\n\\t</div>\\n</div>\\n\\n</main>\\n\\n<footer class=\"footer\" role=\"contentinfo\">\\n   \\n<div class=\"wrapper\">\\n    <section class=\"footer-partners\">\\n\\n\\n    <div class=\"footer-partners__list u-show-desktop\">\\n        <section class=\"footer-partners__group\">\\n                <h5 class=\"footer-partners__subtitle\">Partners</h5>\\n            <div class=\"footer-partners__inline-list\">\\n                    <div class=\"footer-partners__item\">\\n\\n                            <a href=\"http://track.adform.net/C/?bn=18236015\" \\n                                class=\"footer-partners__link\" \\n                                aria-label=\"Oppo\" \\n                                target=\"_blank\" \\n                                title=\"Oppo\"\\n                                    data-widget=\"impression-tracker\"\\n                                    data-tracking-url=\"https://track.adform.net/adfserve/?bn=18236015;srctype=4;ord=%%ADFRND%%\"\\n                                >\\n\\n                        <img class=\"footer-partners__image\" src=\"https://resources.pulse.icc-cricket.com/photo-resources/2021/08/31/5c9ecb73-d29e-44ce-8857-8c25baebb487/Asset-25.png?width=135\" alt=\"Oppo\" />\\n\\n                            </a>\\n                    </div>\\n                    <div class=\"footer-partners__item\">\\n\\n                            <a href=\"http://track.adform.net/C/?bn=18235782\" \\n                                class=\"footer-partners__link\" \\n                                aria-label=\"MRF Tyres\" \\n                                target=\"_blank\" \\n                                title=\"MRF Tyres\"\\n                                    data-widget=\"impression-tracker\"\\n                                    data-tracking-url=\"https://track.adform.net/adfserve/?bn=18235782;srctype=4;ord=%%ADFRND%%\"\\n                                >\\n\\n                        <img class=\"footer-partners__image\" src=\"https://resources.pulse.icc-cricket.com/photo-resources/2021/08/31/b4ffb788-62cf-4d63-9f2c-faf38bf11c0d/Asset-22.png?width=135\" alt=\"MRF Tyres\" />\\n\\n                            </a>\\n                    </div>\\n                    <div class=\"footer-partners__item\">\\n\\n                            <a href=\"https://www.booking.com/\" \\n                                class=\"footer-partners__link\" \\n                                aria-label=\"Booking\" \\n                                target=\"_blank\" \\n                                title=\"Booking\"\\n                                >\\n\\n                        <img class=\"footer-partners__image\" src=\"https://resources.pulse.icc-cricket.com/photo-resources/2021/08/31/f5c5d674-4d32-49ad-903c-fa870a649c31/Asset-23.png?width=135\" alt=\"Booking\" />\\n\\n                            </a>\\n                    </div>\\n                    <div class=\"footer-partners__item\">\\n\\n                            <a href=\"https://byjus.com/\" \\n                                class=\"footer-partners__link\" \\n                                aria-label=\"BYJU\\'s\" \\n                                target=\"_blank\" \\n                                title=\"BYJU\\'s\"\\n                                >\\n\\n                        <img class=\"footer-partners__image\" src=\"https://resources.pulse.icc-cricket.com/photo-resources/2021/08/31/b37bde43-478a-40da-bf89-9de471dfa47f/Asset-24.png?width=135\" alt=\"BYJU\" />\\n\\n                            </a>\\n                    </div>\\n                    <div class=\"footer-partners__item\">\\n\\n                            <a href=\"https://postpe.app/\" \\n                                class=\"footer-partners__link\" \\n                                aria-label=\"PostPe\" \\n                                 \\n                                title=\"PostPe\"\\n                                >\\n\\n                        <img class=\"footer-partners__image\" src=\"https://resources.pulse.icc-cricket.com/photo-resources/2021/09/17/621cb55c-071a-47c6-a879-2b5e267730a9/postpe-logo.png?width=135\" alt=\"PostPe\" />\\n\\n                            </a>\\n                    </div>\\n                    <div class=\"footer-partners__item\">\\n\\n                            <a href=\"http://track.adform.net/C/?bn=18236184\" \\n                                class=\"footer-partners__link\" \\n                                aria-label=\"Emirates\" \\n                                target=\"_blank\" \\n                                title=\"Emirates\"\\n                                    data-widget=\"impression-tracker\"\\n                                    data-tracking-url=\"https://track.adform.net/adfserve/?bn=18236184;srctype=4;ord=%%ADFRND%%\"\\n                                >\\n\\n                        <img class=\"footer-partners__image\" src=\"https://resources.pulse.icc-cricket.com/photo-resources/2021/08/31/75e12e44-d076-47f7-81d9-7de8b924b4f1/Asset-21.png?width=135\" alt=\"Emirates\" />\\n\\n                            </a>\\n                    </div>\\n            </div>\\n        </section>\\n    </div>\\n                    <section class=\"footer-partners__list footer-partners__list--double u-hide-desktop\">\\n\\n    <div class=\"footer-partners__top-row-item\">\\n        <section class=\"footer-partners__group\">\\n                <h5 class=\"footer-partners__subtitle\">Partners</h5>\\n            <div class=\"footer-partners__inline-list\">\\n                    <div class=\"footer-partners__item\">\\n\\n                            <a href=\"http://track.adform.net/C/?bn=18236015\" \\n                                class=\"footer-partners__link\" \\n                                aria-label=\"Oppo\" \\n                                target=\"_blank\" \\n                                title=\"Oppo\"\\n                                    data-widget=\"impression-tracker\"\\n                                    data-tracking-url=\"https://track.adform.net/adfserve/?bn=18236015;srctype=4;ord=%%ADFRND%%\"\\n                                >\\n\\n                        <img class=\"footer-partners__image\" src=\"https://resources.pulse.icc-cricket.com/photo-resources/2021/08/31/5c9ecb73-d29e-44ce-8857-8c25baebb487/Asset-25.png?width=135\" alt=\"Oppo\" />\\n\\n                            </a>\\n                    </div>\\n                    <div class=\"footer-partners__item\">\\n\\n                            <a href=\"http://track.adform.net/C/?bn=18235782\" \\n                                class=\"footer-partners__link\" \\n                                aria-label=\"MRF Tyres\" \\n                                target=\"_blank\" \\n                                title=\"MRF Tyres\"\\n                                    data-widget=\"impression-tracker\"\\n                                    data-tracking-url=\"https://track.adform.net/adfserve/?bn=18235782;srctype=4;ord=%%ADFRND%%\"\\n                                >\\n\\n                        <img class=\"footer-partners__image\" src=\"https://resources.pulse.icc-cricket.com/photo-resources/2021/08/31/b4ffb788-62cf-4d63-9f2c-faf38bf11c0d/Asset-22.png?width=135\" alt=\"MRF Tyres\" />\\n\\n                            </a>\\n                    </div>\\n                    <div class=\"footer-partners__item\">\\n\\n                            <a href=\"https://www.booking.com/\" \\n                                class=\"footer-partners__link\" \\n                                aria-label=\"Booking\" \\n                                target=\"_blank\" \\n                                title=\"Booking\"\\n                                >\\n\\n                        <img class=\"footer-partners__image\" src=\"https://resources.pulse.icc-cricket.com/photo-resources/2021/08/31/f5c5d674-4d32-49ad-903c-fa870a649c31/Asset-23.png?width=135\" alt=\"Booking\" />\\n\\n                            </a>\\n                    </div>\\n                    <div class=\"footer-partners__item\">\\n\\n                            <a href=\"https://byjus.com/\" \\n                                class=\"footer-partners__link\" \\n                                aria-label=\"BYJU\\'s\" \\n                                target=\"_blank\" \\n                                title=\"BYJU\\'s\"\\n                                >\\n\\n                        <img class=\"footer-partners__image\" src=\"https://resources.pulse.icc-cricket.com/photo-resources/2021/08/31/b37bde43-478a-40da-bf89-9de471dfa47f/Asset-24.png?width=135\" alt=\"BYJU\" />\\n\\n                            </a>\\n                    </div>\\n                    <div class=\"footer-partners__item\">\\n\\n                            <a href=\"https://postpe.app/\" \\n                                class=\"footer-partners__link\" \\n                                aria-label=\"PostPe\" \\n                                 \\n                                title=\"PostPe\"\\n                                >\\n\\n                        <img class=\"footer-partners__image\" src=\"https://resources.pulse.icc-cricket.com/photo-resources/2021/09/17/621cb55c-071a-47c6-a879-2b5e267730a9/postpe-logo.png?width=135\" alt=\"PostPe\" />\\n\\n                            </a>\\n                    </div>\\n                    <div class=\"footer-partners__item\">\\n\\n                            <a href=\"http://track.adform.net/C/?bn=18236184\" \\n                                class=\"footer-partners__link\" \\n                                aria-label=\"Emirates\" \\n                                target=\"_blank\" \\n                                title=\"Emirates\"\\n                                    data-widget=\"impression-tracker\"\\n                                    data-tracking-url=\"https://track.adform.net/adfserve/?bn=18236184;srctype=4;ord=%%ADFRND%%\"\\n                                >\\n\\n                        <img class=\"footer-partners__image\" src=\"https://resources.pulse.icc-cricket.com/photo-resources/2021/08/31/75e12e44-d076-47f7-81d9-7de8b924b4f1/Asset-21.png?width=135\" alt=\"Emirates\" />\\n\\n                            </a>\\n                    </div>\\n            </div>\\n        </section>\\n    </div>\\n                \\n\\n\\n\\n\\n    <div class=\"footer-partners__top-row-item\">\\n        <section class=\"footer-partners__group\">\\n                <h5 class=\"footer-partners__subtitle\">Broadcast Partner</h5>\\n            <div class=\"footer-partners__inline-list\">\\n                    <div class=\"footer-partners__item\">\\n\\n                            <a href=\"http://track.adform.net/C/?bn=18238489\" \\n                                class=\"footer-partners__link\" \\n                                aria-label=\"Star Sports\" \\n                                target=\"_blank\" \\n                                title=\"Star Sports\"\\n                                    data-widget=\"impression-tracker\"\\n                                    data-tracking-url=\"https://track.adform.net/adfserve/?bn=18238489;srctype=4;ord=%%ADFRND%%\"\\n                                >\\n\\n                        <img class=\"footer-partners__image\" src=\"https://resources.pulse.icc-cricket.com/photo-resources/2021/08/31/a60ab29a-7a03-4d1d-8c2e-ee9bcf06b691/Asset-33.png?width=135\" alt=\"Star Sports\" />\\n\\n                            </a>\\n                    </div>\\n            </div>\\n        </section>\\n    </div>\\n                \\n                    </section>\\n    <div class=\"footer-partners__list footer-partners__list--broadcast u-show-desktop\">\\n        <section class=\"footer-partners__group\">\\n                <h5 class=\"footer-partners__subtitle\">Broadcast Partner</h5>\\n            <div class=\"footer-partners__inline-list\">\\n                    <div class=\"footer-partners__item\">\\n\\n                            <a href=\"http://track.adform.net/C/?bn=18238489\" \\n                                class=\"footer-partners__link\" \\n                                aria-label=\"Star Sports\" \\n                                target=\"_blank\" \\n                                title=\"Star Sports\"\\n                                    data-widget=\"impression-tracker\"\\n                                    data-tracking-url=\"https://track.adform.net/adfserve/?bn=18238489;srctype=4;ord=%%ADFRND%%\"\\n                                >\\n\\n                        <img class=\"footer-partners__image\" src=\"https://resources.pulse.icc-cricket.com/photo-resources/2021/08/31/a60ab29a-7a03-4d1d-8c2e-ee9bcf06b691/Asset-33.png?width=135\" alt=\"Star Sports\" />\\n\\n                            </a>\\n                    </div>\\n            </div>\\n        </section>\\n    </div>\\n\\n\\n\\n\\n    <div class=\"footer-partners__list\">\\n        <section class=\"footer-partners__group\">\\n            <div class=\"footer-partners__inline-list\">\\n                    <div class=\"footer-partners__item\">\\n\\n                            <a href=\"https://www.moneygram.com/\" \\n                                class=\"footer-partners__link\" \\n                                aria-label=\"MoneyGram\" \\n                                 \\n                                title=\"MoneyGram\"\\n                                >\\n\\n                        <img class=\"footer-partners__image\" src=\"https://resources.pulse.icc-cricket.com/photo-resources/2021/09/21/6aa2df63-67f4-4152-a92e-251431bce1ee/money-grab.png?width=120\" alt=\"MoneyGram\" />\\n\\n                            </a>\\n                    </div>\\n                    <div class=\"footer-partners__item\">\\n\\n                            <a href=\"https://www.bira91.com/\" \\n                                class=\"footer-partners__link\" \\n                                aria-label=\"Bira 91\" \\n                                target=\"_blank\" \\n                                title=\"Bira 91\"\\n                                >\\n\\n                        <img class=\"footer-partners__image\" src=\"https://resources.pulse.icc-cricket.com/photo-resources/2021/09/21/0e0d38a9-8316-4085-b441-c44d3b5fecf4/Asset-29.png?width=120\" alt=\"Bira 91\" />\\n\\n                            </a>\\n                    </div>\\n                    <div class=\"footer-partners__item\">\\n\\n                            <a href=\"http://track.adform.net/C/?bn=18238489\" \\n                                class=\"footer-partners__link\" \\n                                aria-label=\"Star Sports\" \\n                                 \\n                                title=\"Star Sports\"\\n                                >\\n\\n                        <img class=\"footer-partners__image\" src=\"https://resources.pulse.icc-cricket.com/photo-resources/2021/09/21/6e68fc8a-6c13-4c71-b2d9-09384c5e4b0c/star-sport.png?width=120\" alt=\"Star Sports\" />\\n\\n                            </a>\\n                    </div>\\n                    <div class=\"footer-partners__item\">\\n\\n                            <a href=\"https://www.coca-colaindia.com/\" \\n                                class=\"footer-partners__link\" \\n                                aria-label=\"Coca Cola\" \\n                                target=\"_blank\" \\n                                title=\"Coca Cola\"\\n                                >\\n\\n                        <img class=\"footer-partners__image\" src=\"https://resources.pulse.icc-cricket.com/photo-resources/2021/09/21/aacd9142-9986-4f76-9d3f-c62c30b1e22a/Asset-28.png?width=120\" alt=\"Coca Cola\" />\\n\\n                            </a>\\n                    </div>\\n                    <div class=\"footer-partners__item\">\\n\\n                            <a href=\"https://upstox.com/\" \\n                                class=\"footer-partners__link\" \\n                                aria-label=\"Upstox\" \\n                                target=\"_blank\" \\n                                title=\"Upstox\"\\n                                >\\n\\n                        <img class=\"footer-partners__image\" src=\"https://resources.pulse.icc-cricket.com/photo-resources/2021/09/21/9a7fe4f6-9192-45fb-aabf-26edc4e05967/Asset-31.png?width=120\" alt=\"Upstox\" />\\n\\n                            </a>\\n                    </div>\\n                    <div class=\"footer-partners__item\">\\n\\n                            <a href=\"http://track.adform.net/C/?bn=18235072\" \\n                                class=\"footer-partners__link\" \\n                                aria-label=\"Nissan\" \\n                                target=\"_blank\" \\n                                title=\"Nissan\"\\n                                    data-widget=\"impression-tracker\"\\n                                    data-tracking-url=\"https://track.adform.net/adfserve/?bn=18235072;srctype=4;ord=%%ADFRND%%\"\\n                                >\\n\\n                        <img class=\"footer-partners__image\" src=\"https://resources.pulse.icc-cricket.com/photo-resources/2021/09/21/da991c66-837c-4381-b49e-6b0a076c5ddd/Asset-30.png?width=120\" alt=\"Nissan\" />\\n\\n                            </a>\\n                    </div>\\n            </div>\\n        </section>\\n    </div>\\n                \\n\\n\\n\\n\\n    <div class=\"footer-partners__list\">\\n        <section class=\"footer-partners__group\">\\n            <div class=\"footer-partners__inline-list\">\\n                    <div class=\"footer-partners__item\">\\n\\n                            <a href=\"https://www.pernod-ricard.com/en/brands/our-brands/royal-stag/\" \\n                                class=\"footer-partners__link\" \\n                                aria-label=\"Royal Stag\" \\n                                target=\"_blank\" \\n                                title=\"Royal Stag\"\\n                                >\\n\\n                        <img class=\"footer-partners__image\" src=\"https://resources.pulse.icc-cricket.com/photo-resources/2021/09/21/5e565b74-7cf6-4fbd-9ea7-b216b4c1e073/Asset-27.png?width=105\" alt=\"Royal Stag\" />\\n\\n                            </a>\\n                    </div>\\n                    <div class=\"footer-partners__item\">\\n\\n                            <a href=\"https://www.dream11.com/\" \\n                                class=\"footer-partners__link\" \\n                                aria-label=\"Dream11\" \\n                                target=\"_blank\" \\n                                title=\"Dream11\"\\n                                >\\n\\n                        <img class=\"footer-partners__image\" src=\"https://resources.pulse.icc-cricket.com/photo-resources/2021/09/21/f7aa7dcb-99ec-4dd4-878b-56e00957c175/Asset-26.png?width=105\" alt=\"Dream11\" />\\n\\n                            </a>\\n                    </div>\\n                    <div class=\"footer-partners__item\">\\n\\n                            <a href=\"https://www.jacobscreek.com/en-gb\" \\n                                class=\"footer-partners__link\" \\n                                aria-label=\"Jacobs Creek\" \\n                                target=\"_blank\" \\n                                title=\"Jacobs Creek\"\\n                                >\\n\\n                        <img class=\"footer-partners__image\" src=\"https://resources.pulse.icc-cricket.com/photo-resources/2021/09/21/87d0cfad-9081-4664-b4dc-f68bdc41ddfc/Asset-20.png?width=105\" alt=\"Jacobs Creek\" />\\n\\n                            </a>\\n                    </div>\\n            </div>\\n        </section>\\n    </div>\\n                \\n\\n\\n\\n\\n    <div class=\"footer-partners__list\">\\n        <section class=\"footer-partners__group\">\\n                <h5 class=\"footer-partners__subtitle\">Social Responsibility</h5>\\n            <div class=\"footer-partners__inline-list\">\\n                    <div class=\"footer-partners__item\">\\n\\n                            <a href=\"https://www.icc-cricket.com/about/the-icc/cricket-for-good\" \\n                                class=\"footer-partners__link\" \\n                                aria-label=\"Cricket for Good\" \\n                                target=\"_blank\" \\n                                title=\"Cricket for Good\"\\n                                >\\n\\n                        <img class=\"footer-partners__image\" src=\"https://resources.pulse.icc-cricket.com/photo-resources/2021/08/31/0424a373-6075-4a2e-b4c0-7eafd21bf81c/partner-cricket4good.png?width=126\" alt=\"Cricket for Good\" />\\n\\n                            </a>\\n                    </div>\\n            </div>\\n        </section>\\n    </div>\\n                \\n\\n    </section>\\n</div>\\n<div class=\"global-footer \">\\n    <div class=\"wrapper\">\\n        \\n\\n<div class=\"col-12\">\\n    <div class=\"global-footer__social-container\">\\n        \\n    <ul class=\"social-follow-footer\">\\n        <h5 class=\"social-follow-footer__subtitle\">Follow <span class=\"u-italics\">ICC</span> On social</h5>\\n                <li class=\"social-follow-footer__item\">\\n                    <a href=\"https://www.facebook.com/icc/\" class=\"social-follow-footer__link facebook\" target=\"_blank\">\\n                        <span class=\"icn icn-facebook-circle u-hide-phablet\"></span>\\n                        <span class=\"icn icn-facebook-circle-small u-show-phablet\"></span>\\n                    </a>\\n                </li>\\n                <li class=\"social-follow-footer__item\">\\n                    <a href=\"https://twitter.com/ICC\" class=\"social-follow-footer__link twitter\" target=\"_blank\">\\n                        <span class=\"icn icn-twitter-circle u-hide-phablet\"></span>\\n                        <span class=\"icn icn-twitter-circle-small u-show-phablet\"></span>\\n                    </a>\\n                </li>\\n                <li class=\"social-follow-footer__item\">\\n                    <a href=\"https://www.instagram.com/icc/\" class=\"social-follow-footer__link instagram\" target=\"_blank\">\\n                        <span class=\"icn icn-instagram-circle u-hide-phablet\"></span>\\n                        <span class=\"icn icn-instagram-circle-small u-show-phablet\"></span>\\n                    </a>\\n                </li>\\n                <li class=\"social-follow-footer__item\">\\n                    <a href=\"https://www.youtube.com/user/CricketICC\" class=\"social-follow-footer__link youtube\" target=\"_blank\">\\n                        <span class=\"icn icn-youtube-circle u-hide-phablet\"></span>\\n                        <span class=\"icn icn-youtube-circle-small u-show-phablet\"></span>\\n                    </a>\\n                </li>\\n                <li class=\"social-follow-footer__item\">\\n                    <a href=\"https://www.tiktok.com/@icc\" class=\"social-follow-footer__link tiktok\" target=\"_blank\">\\n                        <span class=\"icn icn-tiktok-circle u-hide-phablet\"></span>\\n                        <span class=\"icn icn-tiktok-circle-small u-show-phablet\"></span>\\n                    </a>\\n                </li>\\n    </ul>\\n\\n    </div>\\n    <div class=\"global-footer__branding\">\\n        <a href=\"/\" class=\"global-footer__branding-link\"><div class=\"icn icn-logo-icc-footer\"></div></a>\\n    </div>\\n    <div class=\"global-footer__lists\">\\n                    <ul class=\"global-footer__list\">\\n\\t                   <h4 class=\"global-footer__title\">Cricket</h4>\\n                    <li class=\"global-footer__item\"><a class=\"global-footer__link\"href=\"http://www.icc-cricket.com/live-cricket/live\" >\\n                    \\tLive Scores Index\\n                \\t</a></li>\\n                    <li class=\"global-footer__item\"><a class=\"global-footer__link\"href=\"http://www.icc-cricket.com/live-cricket/mens-results\" >\\n                    \\tMen\\'s Results\\n                \\t</a></li>\\n                    <li class=\"global-footer__item\"><a class=\"global-footer__link\"href=\"http://www.icc-cricket.com/live-cricket/womens-results\" >\\n                    \\tWomen\\'s Results\\n                \\t</a></li>\\n\\t                </ul>\\n                    <ul class=\"global-footer__list\">\\n\\t                   <h4 class=\"global-footer__title\">ICC Events</h4>\\n                    <li class=\"global-footer__item\"><a class=\"global-footer__link\"href=\"https://www.t20worldcup.com\" >\\n                    \\tICC T20 World Cup\\n                \\t</a></li>\\n                    <li class=\"global-footer__item\"><a class=\"global-footer__link\"href=\"https://www.cricketworldcup.com/\" >\\n                    \\tICC Cricket World Cup\\n                \\t</a></li>\\n                    <li class=\"global-footer__item\"><a class=\"global-footer__link\"href=\"http://www.icc-cricket.com//world-test-championship\" >\\n                    \\tICC World Test Championship\\n                \\t</a></li>\\n                    <li class=\"global-footer__item\"><a class=\"global-footer__link\"href=\"http://www.icc-cricket.com/u19-world-cup/index.html\" >\\n                    \\tICC U19 Cricket World Cup\\n                \\t</a></li>\\n                    <li class=\"global-footer__item\"><a class=\"global-footer__link\"href=\"http://www.icc-cricket.com/champions-trophy\" >\\n                    \\tICC Champions Trophy\\n                \\t</a></li>\\n                    <li class=\"global-footer__item\"><a class=\"global-footer__link\"href=\"http://www.icc-cricket.com//cricket-world-cup-super-league/fixtures\" >\\n                    \\tICC Men\\'s Cricket World Cup Super League\\n                \\t</a></li>\\n                    <li class=\"global-footer__item\"><a class=\"global-footer__link\"href=\"http://www.icc-cricket.com/cricket-world-cup-challenge-league/news\" >\\n                    \\tICC Men\\'s Cricket World Cup Challenge League\\n                \\t</a></li>\\n                    <li class=\"global-footer__item\"><a class=\"global-footer__link\"href=\"http://www.icc-cricket.com/cricket-world-cup-league-two/news\" >\\n                    \\tICC Men\\'s Cricket World Cup League 2\\n                \\t</a></li>\\n                    <li class=\"global-footer__item\"><a class=\"global-footer__link\"href=\"http://www.icc-cricket.com/womens-championship\" >\\n                    \\tICC Women\\'s Championship\\n                \\t</a></li>\\n                    <li class=\"global-footer__item\"><a class=\"global-footer__link\"href=\"http://www.icc-cricket.com/event-status\" >\\n                    \\t2021 Event status\\n                \\t</a></li>\\n\\t                </ul>\\n                    <ul class=\"global-footer__list\">\\n\\t                   <h4 class=\"global-footer__title\">Rankings</h4>\\n                    <li class=\"global-footer__item\"><a class=\"global-footer__link\"href=\"http://www.icc-cricket.com/rankings/mens/overview\" >\\n                    \\tOverview\\n                \\t</a></li>\\n                    <li class=\"global-footer__item\"><a class=\"global-footer__link\"href=\"http://www.icc-cricket.com/rankings/mens/team-rankings/test\" >\\n                    \\tTeam Rankings\\n                \\t</a></li>\\n                    <li class=\"global-footer__item\"><a class=\"global-footer__link\"href=\"https://www.icc-cricket.com/rankings/mens/player-rankings/\" >\\n                    \\tPlayer Rankings\\n                \\t</a></li>\\n                    <li class=\"global-footer__item\"><a class=\"global-footer__link\"href=\"http://www.icc-cricket.com/rankings/mens/rankings-predictor/\" >\\n                    \\tRankings Predictor\\n                \\t</a></li>\\n                    <li class=\"global-footer__item\"><a class=\"global-footer__link\"href=\"http://www.icc-cricket.com/rankings/about\" >\\n                    \\tAbout the Rankings\\n                \\t</a></li>\\n                    <li class=\"global-footer__item\"><a class=\"global-footer__link\"href=\"http://www.icc-cricket.com/rankings/faqs\" >\\n                    \\tRankings FAQs\\n                \\t</a></li>\\n\\t                </ul>\\n                    <ul class=\"global-footer__list\">\\n\\t                   <h4 class=\"global-footer__title\">News and Video</h4>\\n                    <li class=\"global-footer__item\"><a class=\"global-footer__link\"href=\"http://www.icc-cricket.com/news\" >\\n                    \\tNews Index\\n                \\t</a></li>\\n                    <li class=\"global-footer__item\"><a class=\"global-footer__link\"href=\"http://www.icc-cricket.com/media-releases\" >\\n                    \\tMedia Releases\\n                \\t</a></li>\\n                    <li class=\"global-footer__item\"><a class=\"global-footer__link\"href=\"http://www.icc-cricket.com/video\" >\\n                    \\tVideo Home\\n                \\t</a></li>\\n                    <li class=\"global-footer__item\"><a class=\"global-footer__link\"href=\"http://www.icc-cricket.com/photos\" >\\n                    \\tPhotos\\n                \\t</a></li>\\n\\t                </ul>\\n                    <ul class=\"global-footer__list\">\\n\\t                   <h4 class=\"global-footer__title\">More</h4>\\n                    <li class=\"global-footer__item\"><a class=\"global-footer__link\"href=\"http://www.icc-cricket.com/social\" >\\n                    \\tICC on Social\\n                \\t</a></li>\\n                    <li class=\"global-footer__item\"><a class=\"global-footer__link\"href=\"http://www.icc-cricket.com/awards/overview\" >\\n                    \\tAwards\\n                \\t</a></li>\\n                    <li class=\"global-footer__item\"><a class=\"global-footer__link\"href=\"http://www.icc-cricket.com/hall-of-fame\" >\\n                    \\tHall of Fame\\n                \\t</a></li>\\n                    <li class=\"global-footer__item\"><a class=\"global-footer__link\"href=\"http://www.icc-cricket.com/mobile\" >\\n                    \\tICC on Mobile\\n                \\t</a></li>\\n                    <li class=\"global-footer__item\"><a class=\"global-footer__link\"href=\"http://www.icc-cricket.com/about\" target=\"_blank\">\\n                    \\t\\t<svg class=\"icon\"><use xmlns:xlink=\"http://www.w3.org/1999/xlink\" xlink:href=\"/resources/prod/v8.20.1/i/svg-output/icons.svg#icn-link-external\"></use></svg>\\n                    \\tAbout ICC\\n                \\t</a></li>\\n                    <li class=\"global-footer__item\"><a class=\"global-footer__link\"href=\"http://www.icc-cricket.com/media-zone/\" target=\"_blank\">\\n                    \\t\\t<svg class=\"icon\"><use xmlns:xlink=\"http://www.w3.org/1999/xlink\" xlink:href=\"/resources/prod/v8.20.1/i/svg-output/icons.svg#icn-link-external\"></use></svg>\\n                    \\tMediaZone\\n                \\t</a></li>\\n                    <li class=\"global-footer__item\"><a class=\"global-footer__link\"href=\"https://www.t20worldcupshop.com/\" target=\"_blank\">\\n                    \\t\\t<svg class=\"icon\"><use xmlns:xlink=\"http://www.w3.org/1999/xlink\" xlink:href=\"/resources/prod/v8.20.1/i/svg-output/icons.svg#icn-link-external\"></use></svg>\\n                    \\tT20 Shop\\n                \\t</a></li>\\n\\t                </ul>\\n    </div>\\n</div>\\n\\n    </div>\\n    \\n<nav class=\"global-footer-corporate\" role=\"navigation\" aria-label=\"footer policy links\">\\n\\n        <ul class=\"global-footer-corporate__list\">\\n                <li class=\"global-footer-corporate__item\" role=\"menuitem\">\\n                    <a class=\"global-footer-corporate__link\" href=\"http://www.icc-cricket.com/about/the-icc/legal-notices/website-terms-of-use\" >\\n                        Legal Notice\\n                    </a>\\n                </li>\\n                <li class=\"global-footer-corporate__item\" role=\"menuitem\">\\n                    <a class=\"global-footer-corporate__link\" href=\"http://www.icc-cricket.com/about/the-icc/legal-notices/privacy-policy\" >\\n                        Privacy Policy\\n                    </a>\\n                </li>\\n            <li class=\"global-footer-corporate__item\">2021 &copy; International Cricket Council FZ LLC</li>\\n        </ul>\\n\\n</nav>\\n\\n</div>\\n</body>\\n</html>\\n\\n\\n</footer>\\n\\n    \\n    \\n    \\n\\n    <script src=\"/resources/prod/v8.20.1/scripts/vendors.min.js\"></script>\\n    <script src=\"/resources/prod/v8.20.1/scripts/client.min.js\"></script>\\n\\n    <!--[if IE]> -->\\n    <script type=\"text/javascript\">\\n        svg4everybody();\\n    </script>\\n    <!-- <![endif]-->\\n</body>\\n</html>\\n'"
      ]
     },
     "execution_count": 1,
     "metadata": {},
     "output_type": "execute_result"
    }
   ],
   "source": [
    "from bs4 import BeautifulSoup\n",
    "import requests\n",
    "import pandas as pd\n",
    "\n",
    "# sending request to the web page to get the required information\n",
    "page=requests.get(\"https://www.icc-cricket.com/rankings/womens/team-rankings/odi\")                    \n",
    "page.content"
   ]
  },
  {
   "cell_type": "code",
   "execution_count": 2,
   "metadata": {},
   "outputs": [
    {
     "data": {
      "text/plain": [
       "[<span class=\"u-hide-phablet\">Australia</span>,\n",
       " <span class=\"u-hide-phablet\">England</span>,\n",
       " <span class=\"u-hide-phablet\">South Africa</span>,\n",
       " <span class=\"u-hide-phablet\">India</span>,\n",
       " <span class=\"u-hide-phablet\">New Zealand</span>,\n",
       " <span class=\"u-hide-phablet\">West Indies</span>,\n",
       " <span class=\"u-hide-phablet\">Pakistan</span>,\n",
       " <span class=\"u-hide-phablet\">Bangladesh</span>,\n",
       " <span class=\"u-hide-phablet\">Sri Lanka</span>,\n",
       " <span class=\"u-hide-phablet\">Ireland</span>,\n",
       " <span class=\"icn icn-facebook-circle u-hide-phablet\"></span>,\n",
       " <span class=\"icn icn-twitter-circle u-hide-phablet\"></span>,\n",
       " <span class=\"icn icn-instagram-circle u-hide-phablet\"></span>,\n",
       " <span class=\"icn icn-youtube-circle u-hide-phablet\"></span>,\n",
       " <span class=\"icn icn-tiktok-circle u-hide-phablet\"></span>]"
      ]
     },
     "execution_count": 2,
     "metadata": {},
     "output_type": "execute_result"
    }
   ],
   "source": [
    "soup=BeautifulSoup(page.content)\n",
    "# extracting all the header tags\n",
    "# fetching all the header tiles from the website\n",
    "country=soup.find_all('span',class_=\"u-hide-phablet\")\n",
    "country"
   ]
  },
  {
   "cell_type": "code",
   "execution_count": 3,
   "metadata": {},
   "outputs": [
    {
     "data": {
      "text/plain": [
       "['Australia',\n",
       " 'England',\n",
       " 'South Africa',\n",
       " 'India',\n",
       " 'New Zealand',\n",
       " 'West Indies',\n",
       " 'Pakistan',\n",
       " 'Bangladesh',\n",
       " 'Sri Lanka',\n",
       " 'Ireland']"
      ]
     },
     "execution_count": 3,
     "metadata": {},
     "output_type": "execute_result"
    }
   ],
   "source": [
    "country_names=[]\n",
    "for i in country:\n",
    "    country_names.append(i.text)\n",
    "country_names\n",
    "country_names=country_names[0:10]\n",
    "country_names"
   ]
  },
  {
   "cell_type": "code",
   "execution_count": 4,
   "metadata": {},
   "outputs": [
    {
     "data": {
      "text/plain": [
       "[<td class=\"table-body__cell u-center-text\">25</td>,\n",
       " <td class=\"table-body__cell u-center-text\">2,983</td>,\n",
       " <td class=\"table-body__cell u-center-text\">29</td>,\n",
       " <td class=\"table-body__cell u-center-text\">3,390</td>,\n",
       " <td class=\"table-body__cell u-center-text\">26</td>,\n",
       " <td class=\"table-body__cell u-center-text\">2,934</td>,\n",
       " <td class=\"table-body__cell u-center-text\">26</td>,\n",
       " <td class=\"table-body__cell u-center-text\">2,392</td>,\n",
       " <td class=\"table-body__cell u-center-text\">22</td>,\n",
       " <td class=\"table-body__cell u-center-text\">1,872</td>,\n",
       " <td class=\"table-body__cell u-center-text\">20</td>,\n",
       " <td class=\"table-body__cell u-center-text\">1,496</td>,\n",
       " <td class=\"table-body__cell u-center-text\">5</td>,\n",
       " <td class=\"table-body__cell u-center-text\">306</td>,\n",
       " <td class=\"table-body__cell u-center-text\">11</td>,\n",
       " <td class=\"table-body__cell u-center-text\">519</td>,\n",
       " <td class=\"table-body__cell u-center-text\">2</td>,\n",
       " <td class=\"table-body__cell u-center-text\">25</td>]"
      ]
     },
     "execution_count": 4,
     "metadata": {},
     "output_type": "execute_result"
    }
   ],
   "source": [
    "matches=soup.find_all('td',class_=\"table-body__cell u-center-text\")\n",
    "matches"
   ]
  },
  {
   "cell_type": "code",
   "execution_count": 5,
   "metadata": {},
   "outputs": [
    {
     "data": {
      "text/plain": [
       "['25', '29', '26', '26', '22', '20', '5', '11', '2']"
      ]
     },
     "execution_count": 5,
     "metadata": {},
     "output_type": "execute_result"
    }
   ],
   "source": [
    "matches_count=[]\n",
    "for i in matches:\n",
    "    matches_count.append(i.text)\n",
    "matches_count=matches_count[::2]\n",
    "matches_count=matches_count[0:9]\n",
    "matches_count"
   ]
  },
  {
   "cell_type": "code",
   "execution_count": 6,
   "metadata": {},
   "outputs": [
    {
     "data": {
      "text/plain": [
       "[<td class=\"rankings-block__banner--matches\">21</td>]"
      ]
     },
     "execution_count": 6,
     "metadata": {},
     "output_type": "execute_result"
    }
   ],
   "source": [
    "matchestop=soup.find_all('td',class_=\"rankings-block__banner--matches\")\n",
    "matchestop"
   ]
  },
  {
   "cell_type": "code",
   "execution_count": 7,
   "metadata": {},
   "outputs": [
    {
     "data": {
      "text/plain": [
       "['21']"
      ]
     },
     "execution_count": 7,
     "metadata": {},
     "output_type": "execute_result"
    }
   ],
   "source": [
    "matchestop_count=[]\n",
    "for i in matchestop:\n",
    "    matchestop_count.append(i.text)\n",
    "matchestop_count"
   ]
  },
  {
   "cell_type": "code",
   "execution_count": 8,
   "metadata": {},
   "outputs": [
    {
     "data": {
      "text/plain": [
       "['21', '25', '29', '26', '26', '22', '20', '5', '11', '2']"
      ]
     },
     "execution_count": 8,
     "metadata": {},
     "output_type": "execute_result"
    }
   ],
   "source": [
    "matches_total=matchestop_count+matches_count\n",
    "matches_total"
   ]
  },
  {
   "cell_type": "code",
   "execution_count": 9,
   "metadata": {},
   "outputs": [
    {
     "data": {
      "text/plain": [
       "[<td class=\"table-body__cell u-center-text\">25</td>,\n",
       " <td class=\"table-body__cell u-center-text\">2,983</td>,\n",
       " <td class=\"table-body__cell u-center-text\">29</td>,\n",
       " <td class=\"table-body__cell u-center-text\">3,390</td>,\n",
       " <td class=\"table-body__cell u-center-text\">26</td>,\n",
       " <td class=\"table-body__cell u-center-text\">2,934</td>,\n",
       " <td class=\"table-body__cell u-center-text\">26</td>,\n",
       " <td class=\"table-body__cell u-center-text\">2,392</td>,\n",
       " <td class=\"table-body__cell u-center-text\">22</td>,\n",
       " <td class=\"table-body__cell u-center-text\">1,872</td>,\n",
       " <td class=\"table-body__cell u-center-text\">20</td>,\n",
       " <td class=\"table-body__cell u-center-text\">1,496</td>,\n",
       " <td class=\"table-body__cell u-center-text\">5</td>,\n",
       " <td class=\"table-body__cell u-center-text\">306</td>,\n",
       " <td class=\"table-body__cell u-center-text\">11</td>,\n",
       " <td class=\"table-body__cell u-center-text\">519</td>,\n",
       " <td class=\"table-body__cell u-center-text\">2</td>,\n",
       " <td class=\"table-body__cell u-center-text\">25</td>]"
      ]
     },
     "execution_count": 9,
     "metadata": {},
     "output_type": "execute_result"
    }
   ],
   "source": [
    "points=soup.find_all('td',class_=\"table-body__cell u-center-text\")\n",
    "points"
   ]
  },
  {
   "cell_type": "code",
   "execution_count": 10,
   "metadata": {},
   "outputs": [
    {
     "data": {
      "text/plain": [
       "['2,983', '3,390', '2,934', '2,392', '1,872', '1,496', '306', '519', '25']"
      ]
     },
     "execution_count": 10,
     "metadata": {},
     "output_type": "execute_result"
    }
   ],
   "source": [
    "points_count=[]\n",
    "for i in points:\n",
    "    points_count.append(i.text)\n",
    "\n",
    "points_count=points_count[1::2]\n",
    "points_count=points_count[0:9]\n",
    "points_count"
   ]
  },
  {
   "cell_type": "code",
   "execution_count": 11,
   "metadata": {},
   "outputs": [
    {
     "data": {
      "text/plain": [
       "[<td class=\"rankings-block__banner--points\">3,379</td>]"
      ]
     },
     "execution_count": 11,
     "metadata": {},
     "output_type": "execute_result"
    }
   ],
   "source": [
    "pointstop=soup.find_all('td',class_=\"rankings-block__banner--points\")\n",
    "pointstop"
   ]
  },
  {
   "cell_type": "code",
   "execution_count": 12,
   "metadata": {},
   "outputs": [
    {
     "data": {
      "text/plain": [
       "['3,379']"
      ]
     },
     "execution_count": 12,
     "metadata": {},
     "output_type": "execute_result"
    }
   ],
   "source": [
    "pointstop_count=[]\n",
    "for i in pointstop:\n",
    "    pointstop_count.append(i.text)\n",
    "pointstop_count"
   ]
  },
  {
   "cell_type": "code",
   "execution_count": 14,
   "metadata": {},
   "outputs": [
    {
     "data": {
      "text/plain": [
       "['3,379',\n",
       " '2,983',\n",
       " '3,390',\n",
       " '2,934',\n",
       " '2,392',\n",
       " '1,872',\n",
       " '1,496',\n",
       " '306',\n",
       " '519',\n",
       " '25']"
      ]
     },
     "execution_count": 14,
     "metadata": {},
     "output_type": "execute_result"
    }
   ],
   "source": [
    "points_total=pointstop_count+points_count\n",
    "points_total"
   ]
  },
  {
   "cell_type": "code",
   "execution_count": 13,
   "metadata": {},
   "outputs": [
    {
     "data": {
      "text/plain": [
       "[<td class=\"table-body__cell u-text-right rating\">119</td>,\n",
       " <td class=\"table-body__cell u-text-right rating\">117</td>,\n",
       " <td class=\"table-body__cell u-text-right rating\">113</td>,\n",
       " <td class=\"table-body__cell u-text-right rating\">92</td>,\n",
       " <td class=\"table-body__cell u-text-right rating\">85</td>,\n",
       " <td class=\"table-body__cell u-text-right rating\">75</td>,\n",
       " <td class=\"table-body__cell u-text-right rating\">61</td>,\n",
       " <td class=\"table-body__cell u-text-right rating\">47</td>,\n",
       " <td class=\"table-body__cell u-text-right rating\">13</td>]"
      ]
     },
     "execution_count": 13,
     "metadata": {},
     "output_type": "execute_result"
    }
   ],
   "source": [
    "ratings=soup.find_all('td',class_=\"table-body__cell u-text-right rating\")\n",
    "ratings"
   ]
  },
  {
   "cell_type": "code",
   "execution_count": 15,
   "metadata": {},
   "outputs": [
    {
     "data": {
      "text/plain": [
       "['119', '117', '113', '92', '85', '75', '61', '47', '13']"
      ]
     },
     "execution_count": 15,
     "metadata": {},
     "output_type": "execute_result"
    }
   ],
   "source": [
    "ratings_position=[]\n",
    "for i in ratings:\n",
    "    ratings_position.append(i.text)\n",
    "ratings_position=ratings_position[0:9]\n",
    "ratings_position"
   ]
  },
  {
   "cell_type": "code",
   "execution_count": 16,
   "metadata": {},
   "outputs": [
    {
     "data": {
      "text/plain": [
       "[<td class=\"rankings-block__banner--rating u-text-right\">\n",
       "                             161\n",
       "                             <span class=\"circle-branding circle-branding--top\"></span>\n",
       " <span class=\"circle-branding circle-branding--bottom\"></span>\n",
       " </td>]"
      ]
     },
     "execution_count": 16,
     "metadata": {},
     "output_type": "execute_result"
    }
   ],
   "source": [
    "ratingstop=soup.find_all('td',class_=\"rankings-block__banner--rating u-text-right\")\n",
    "ratingstop"
   ]
  },
  {
   "cell_type": "code",
   "execution_count": 17,
   "metadata": {},
   "outputs": [
    {
     "data": {
      "text/plain": [
       "['161']"
      ]
     },
     "execution_count": 17,
     "metadata": {},
     "output_type": "execute_result"
    }
   ],
   "source": [
    "ratingstop_position=[]\n",
    "for i in ratingstop:\n",
    "    ratingstop_position.append(i.text.replace('\\n','').strip())\n",
    "ratingstop_position"
   ]
  },
  {
   "cell_type": "code",
   "execution_count": 18,
   "metadata": {},
   "outputs": [
    {
     "data": {
      "text/plain": [
       "['161', '119', '117', '113', '92', '85', '75', '61', '47', '13']"
      ]
     },
     "execution_count": 18,
     "metadata": {},
     "output_type": "execute_result"
    }
   ],
   "source": [
    "ratings_total=ratingstop_position+ratings_position\n",
    "ratings_total"
   ]
  },
  {
   "cell_type": "code",
   "execution_count": 19,
   "metadata": {},
   "outputs": [
    {
     "name": "stdout",
     "output_type": "stream",
     "text": [
      "10 10 10 10\n"
     ]
    }
   ],
   "source": [
    "print(len(country_names),len(matches_total),len(points_total),len(ratings_total))"
   ]
  },
  {
   "cell_type": "code",
   "execution_count": 20,
   "metadata": {},
   "outputs": [
    {
     "data": {
      "text/html": [
       "<div>\n",
       "<style scoped>\n",
       "    .dataframe tbody tr th:only-of-type {\n",
       "        vertical-align: middle;\n",
       "    }\n",
       "\n",
       "    .dataframe tbody tr th {\n",
       "        vertical-align: top;\n",
       "    }\n",
       "\n",
       "    .dataframe thead th {\n",
       "        text-align: right;\n",
       "    }\n",
       "</style>\n",
       "<table border=\"1\" class=\"dataframe\">\n",
       "  <thead>\n",
       "    <tr style=\"text-align: right;\">\n",
       "      <th></th>\n",
       "      <th>name of the country</th>\n",
       "      <th>number of matches</th>\n",
       "      <th>points earned</th>\n",
       "      <th>ratings</th>\n",
       "    </tr>\n",
       "  </thead>\n",
       "  <tbody>\n",
       "    <tr>\n",
       "      <th>0</th>\n",
       "      <td>Australia</td>\n",
       "      <td>21</td>\n",
       "      <td>3,379</td>\n",
       "      <td>161</td>\n",
       "    </tr>\n",
       "    <tr>\n",
       "      <th>1</th>\n",
       "      <td>England</td>\n",
       "      <td>25</td>\n",
       "      <td>2,983</td>\n",
       "      <td>119</td>\n",
       "    </tr>\n",
       "    <tr>\n",
       "      <th>2</th>\n",
       "      <td>South Africa</td>\n",
       "      <td>29</td>\n",
       "      <td>3,390</td>\n",
       "      <td>117</td>\n",
       "    </tr>\n",
       "    <tr>\n",
       "      <th>3</th>\n",
       "      <td>India</td>\n",
       "      <td>26</td>\n",
       "      <td>2,934</td>\n",
       "      <td>113</td>\n",
       "    </tr>\n",
       "    <tr>\n",
       "      <th>4</th>\n",
       "      <td>New Zealand</td>\n",
       "      <td>26</td>\n",
       "      <td>2,392</td>\n",
       "      <td>92</td>\n",
       "    </tr>\n",
       "    <tr>\n",
       "      <th>5</th>\n",
       "      <td>West Indies</td>\n",
       "      <td>22</td>\n",
       "      <td>1,872</td>\n",
       "      <td>85</td>\n",
       "    </tr>\n",
       "    <tr>\n",
       "      <th>6</th>\n",
       "      <td>Pakistan</td>\n",
       "      <td>20</td>\n",
       "      <td>1,496</td>\n",
       "      <td>75</td>\n",
       "    </tr>\n",
       "    <tr>\n",
       "      <th>7</th>\n",
       "      <td>Bangladesh</td>\n",
       "      <td>5</td>\n",
       "      <td>306</td>\n",
       "      <td>61</td>\n",
       "    </tr>\n",
       "    <tr>\n",
       "      <th>8</th>\n",
       "      <td>Sri Lanka</td>\n",
       "      <td>11</td>\n",
       "      <td>519</td>\n",
       "      <td>47</td>\n",
       "    </tr>\n",
       "    <tr>\n",
       "      <th>9</th>\n",
       "      <td>Ireland</td>\n",
       "      <td>2</td>\n",
       "      <td>25</td>\n",
       "      <td>13</td>\n",
       "    </tr>\n",
       "  </tbody>\n",
       "</table>\n",
       "</div>"
      ],
      "text/plain": [
       "  name of the country number of matches points earned ratings\n",
       "0           Australia                21         3,379     161\n",
       "1             England                25         2,983     119\n",
       "2        South Africa                29         3,390     117\n",
       "3               India                26         2,934     113\n",
       "4         New Zealand                26         2,392      92\n",
       "5         West Indies                22         1,872      85\n",
       "6            Pakistan                20         1,496      75\n",
       "7          Bangladesh                 5           306      61\n",
       "8           Sri Lanka                11           519      47\n",
       "9             Ireland                 2            25      13"
      ]
     },
     "execution_count": 20,
     "metadata": {},
     "output_type": "execute_result"
    }
   ],
   "source": [
    "topodi=pd.DataFrame({})\n",
    "topodi['name of the country']=country_names\n",
    "topodi['number of matches']=matches_total\n",
    "topodi['points earned']=points_total\n",
    "topodi['ratings']=ratings_total\n",
    "\n",
    "topodi"
   ]
  },
  {
   "cell_type": "markdown",
   "metadata": {},
   "source": [
    "# ii)Top 10 women’s ODI players along with the records of their team and rating."
   ]
  },
  {
   "cell_type": "code",
   "execution_count": 21,
   "metadata": {},
   "outputs": [
    {
     "data": {
      "text/plain": [
       "b'<!DOCTYPE html>\\n<html lang=\"en\">\\n<head>\\n\\n    <meta name=\"twitter:title\" content=\"ICC ODI Match Player Rankings International Cricket Council\"/>\\n<meta property=\"og:type\" content=\"website\"/>\\n<meta property=\"twitter:card\" content=\"summary_large_image\"/>\\n<meta name=\"description\" content=\"Official International Cricket Council rankings for ODI match cricket players. Discover latest ICC rankings table, predict upcoming matches, see points and ratings for all teams.\"/>\\n<meta property=\"twitter:site\" content=\"@icc\"/>\\n<meta name=\"twitter:description\" content=\"Official International Cricket Council rankings for ODI match cricket players. Discover latest ICC rankings table, predict upcoming matches, see points and ratings for all teams.\"/>\\n<meta name=\"twitter:image\" content=\"https://www.icc-cricket.com/resources/ver/i/elements/default-thumbnail.jpg\"/>\\n<meta property=\"og:title\" content=\"ICC ODI Match Player Rankings International Cricket Council\"/>\\n<meta property=\"og:image\" content=\"https://www.icc-cricket.com/resources/ver/i/elements/default-thumbnail.jpg\"/>\\n<title>ICC ODI Match Player Rankings International Cricket Council</title>\\n<meta property=\"og:description\" content=\"Official International Cricket Council rankings for ODI match cricket players. Discover latest ICC rankings table, predict upcoming matches, see points and ratings for all teams.\"/>\\n\\n\\t<!-- Designed and built by Pulselive - www.pulselive.com -->\\n    \\n<script>\\n\\n    var dataLayer = [{\\n        \\'user_language\\':\\'English\\',\\n        \\'web_domain\\':\\'www.icc-cricket.com\\',\\n        \\'page_type\\':\\'/rankings/womens/player-rankings/odi\\'  \\n    }];\\n\\n</script>\\n\\n<!-- Google Tag Manager -->\\n<script>(function(w,d,s,l,i){w[l]=w[l]||[];w[l].push({\\'gtm.start\\':\\nnew Date().getTime(),event:\\'gtm.js\\'});var f=d.getElementsByTagName(s)[0],\\nj=d.createElement(s),dl=l!=\\'dataLayer\\'?\\'&l=\\'+l:\\'\\';j.async=true;j.src=\\n\\'https://www.googletagmanager.com/gtm.js?id=\\'+i+dl;f.parentNode.insertBefore(j,f);\\n})(window,document,\\'script\\',\\'dataLayer\\',\\'GTM-T7DPH24\\');</script>\\n<!-- End Google Tag Manager -->\\n\\n<script async src=https://securepubads.g.doubleclick.net/tag/js/gpt.js></script>\\n\\n\\n    <meta charset=\"UTF-8\">\\n    <meta name=\"viewport\" content=\"width=device-width, initial-scale=1\">\\n    <meta name=\"apple-itunes-app\" content=\"app-id=956440606\"/>\\n\\n    <link rel=\"manifest\" href=\"/resources/prod/v8.20.1/manifest.json\">\\n\\n    <link rel=\"shortcut icon\" href=\"/resources/prod/v8.20.1/i/elements/favicon.ico\" />\\n\\n    <link rel=\"publisher\" href=\"https://plus.google.com/+ICC\">\\n\\n    \\n\\n\\n\\n    <title>International Cricket Council</title>\\n\\n    \\n\\n<!-- google platform library -->\\n<script src=\"https://apis.google.com/js/api:client.js?onload=startApp\" async defer></script>\\n\\n<script>\\n\\n    var startApp = function() {\\n        gapi.load(\\'auth2\\', function(){\\n            // Retrieve the singleton for the GoogleAuth library and set up the client.\\n            auth2 = gapi.auth2.init({\\n                client_id: \\'844310787835-1rirg6e5plp2jou6v701br43iuo0lkcu.apps.googleusercontent.com\\'\\n                // Request scopes in addition to \\'profile\\' and \\'email\\'\\n                //scope: \\'additional_scope\\'\\n            });\\n        });\\n    };\\n</script>\\n\\n\\n    <link href=\"https://fonts.googleapis.com/css?family=Hind+Siliguri:300,400,500,600\" rel=\"stylesheet\">\\n\\n    <!-- Polyfill service provided by the FT - https://github.com/Financial-Times/polyfill-service -->\\n\\t<script src=\"https://cdn.polyfill.io/v2/polyfill.min.js?features=default,fetch\"></script>\\n\\n    <link rel=\"stylesheet\" href=\"/resources/prod/v8.20.1/styles/screen.css\" />\\n\\n    <script>\\n\\t\\twindow.RESOURCE_VERSION = \\'prod/v8.20.1\\';\\n\\t</script>\\n\\n</head>\\n<body>\\n\\n    \\n<!-- Google Tag Manager (noscript) -->\\n<noscript><iframe src=\"https://www.googletagmanager.com/ns.html?id=GTM-T7DPH24\"\\nheight=\"0\" width=\"0\" style=\"display:none;visibility:hidden\"></iframe></noscript>\\n<!-- End Google Tag Manager (noscript) -->\\n\\n<div class=\"u-hide\" data-widget=\"analytics-geolocation\" data-script=\"icc_analytics-geolocation\"></div>\\n\\n<!--\\n    Start of Floodlight Tag: Please do not removeActivity name of this tag: ICC Website - VisitationURL of the webpage where the tag is expected to be placed: This tag must be placed between the <body> and </body> tags, as close as possible to the opening tag. Creation Date: 10/01/2019\\n-->\\n\\n<iframe src=\"https://9282652.fls.doubleclick.net/activityi;src=9282652;type=iccre0;cat=iccwe0;u1=[user_language];u2=[user_country];u3=[page_type];u4=[web_domain];dc_lat=;dc_rdid=;tag_for_child_directed_treatment=;tfua=;npa=;ord=[SessionID]?\" width=\"1\" height=\"1\" frameborder=\"0\" style=\"display:none\"></iframe>\\n\\n<!-- End of Floodlight Tag: Please do not remove -->\\n\\n<script id=\"parsely-cfg\" src=\"//cdn.parsely.com/keys/icc-cricket.com/p.js\"></script>\\n\\n    \\n\\n<script>\\n    window.fbAsyncInit = function() {\\n        FB.init({\\n            appId            : 159513024983374,\\n            autoLogAppEvents : true,\\n            xfbml            : true,\\n            version          : \\'v3.0\\'\\n        });\\n    };\\n\\n    (function(d, s, id){\\n        var js, fjs = d.getElementsByTagName(s)[0];\\n        if (d.getElementById(id)) {return;}\\n        js = d.createElement(s); js.id = id;\\n        js.src = \"https://connect.facebook.net/en_US/sdk.js\";\\n        fjs.parentNode.insertBefore(js, fjs);\\n    }(document, \\'script\\', \\'facebook-jssdk\\'));\\n</script>\\n\\n\\n    \\n<div class=\"user-account-overlay js-user-account-overlay\"></div>\\n<section class=\"user-account js-user-account\" data-script=\"sso_user-account\" data-widget=\"user-account\">\\n\\n    <div class=\"user-account__wrapper js-panel-account u-hide\">\\n\\n        <div class=\"user-account__header\">\\n\\n            <div class=\"user-account__close js-account-slider-close-btn\" role=\"button\">\\n                <svg class=\"icon\"><use xmlns:xlink=\"http://www.w3.org/1999/xlink\" xlink:href=\"/resources/prod/v8.20.1/i/svg-output/icons.svg#icn-close\"></use></svg>\\n            </div>\\n\\n            <div class=\"user-account__user-wrapper\">\\n                <div class=\"user-account__image\">\\n                    <img src=\"#\" class=\"u-hide js-account-user-img\" alt=\"User Image\">\\n                </div>\\n                <div class=\"user-account__user-info\">\\n                    <p class=\"user-account__user-info__text js-account-user\">Name Lastname</p>\\n                    <p class=\"user-account__user-info__profile js-profile-completion-info u-hide\">\\n                        <svg class=\"icon\"><use xmlns:xlink=\"http://www.w3.org/1999/xlink\" xlink:href=\"/resources/prod/v8.20.1/i/svg-output/icons.svg#icn-alert\"></use></svg>\\n                        Profile <span class=\"js-profile-completion-percentage\"></span>% Complete\\n                    </p>\\n                </div>\\n            </div>\\n\\n            <div class=\"user-account__tabs-nav js-tabs-wrapper\"></div>\\n        </div>\\n\\n        <div class=\"account-message js-account-message\"></div>\\n\\n        <form id=\"user-account\" name=\"user-account\" autocomplete=\"off\">\\n\\n            <div data-ui-tab=\"My Account\" class=\"user-account__tab\">\\n                <div class=\"user-account__social-wrapper js-social-wrapper u-hide\"></div>\\n\\n<fieldset>\\n\\n    <div class=\"form-group-multiple\">\\n        <div class=\"form-group\">\\n            <label class=\"form-group__label\" for=\"given_name\">First name *</label>\\n            <input class=\"form-group__element\" type=\"text\" required name=\"given_name\" id=\"given_name\" pattern=\"^[A-Za-z-\\\\s]+$\" maxlength=\"50\"/>\\n            <p class=\"js-error form-error\"></p>\\n        </div>\\n\\n        <div class=\"form-group\">\\n            <label class=\"form-group__label\" for=\"family_name\">Last name *</label>\\n            <input class=\"form-group__element\" type=\"text\" required name=\"family_name\" id=\"family_name\" pattern=\"[A-Za-z-\\\\s]+$\" maxlength=\"50\"/>\\n            <p class=\"js-error form-error\"></p>\\n        </div>\\n    </div>\\n\\n    <div class=\"form-group-multiple form-group-multiple--with-button\">\\n        <div class=\"form-group is-disabled js-change-email-input\">\\n            <label class=\"form-group__label\" for=\"email\">Email address *</label>\\n            <input class=\"form-group__element\" type=\"email\" name=\"email\" id=\"email\" autocomplete=\"off\" maxlength=\"50\" disabled/>\\n            <p class=\"js-error form-error\"></p>\\n            <p class=\"js-email-exists form-error form-error--email\">Email address not available.</p>\\n        </div>\\n        <div class=\"form-group form-group--button\">\\n            <button class=\"form-btn form-btn--outlined js-change-email\" type=\"button\" novalidate>Change Email</button>\\n        </div>\\n    </div>\\n\\n    <div class=\"form-group-multiple form-group-multiple--with-button js-account-password\">\\n        <div class=\"form-group is-disabled js-change-password-input\">\\n            <label class=\"form-group__label\" for=\"password\">Password *</label>\\n            <input class=\"form-group__element\" type=\"password\" name=\"password\" id=\"password\" placeholder=\"******\" autocomplete=\"off\" disabled/>\\n            <p class=\"js-error form-error\"></p>\\n        </div>\\n        <div class=\"form-group form-group--button\">\\n            <button class=\"form-btn form-btn--outlined js-change-password\" type=\"button\" novalidate>Change Password</button>\\n        </div>\\n    </div>\\n\\n    <div class=\"form-block form-block\">\\n        <div class=\"form-block__label form-block__label--dob\">Date of Birth</div>\\n\\n        <div class=\"form-group-multiple\">\\n            <div class=\"form-group\">\\n                <label class=\"form-group__label\" for=\"day\">Day *</label>\\n                <input class=\"form-group__element\" type=\"number\" required name=\"day\" placeholder=\"dd\" id=\"day\" min=\"0\" />\\n                <p class=\"js-error form-error\"></p>\\n\\n            </div>\\n            <div class=\"form-group\">\\n                <label class=\"form-group__label\" for=\"month\">Month *</label>\\n                <input class=\"form-group__element\" type=\"number\" required name=\"month\" placeholder=\"mm\" id=\"month\" min=\"0\"/>\\n                <p class=\"js-error form-error\"></p>\\n            </div>\\n            <div class=\"form-group\">\\n                <label class=\"form-group__label\" for=\"year\">Year *</label>\\n                <input class=\"form-group__element\" type=\"number\" required name=\"year\" placeholder=\"yyyy\" id=\"year\" min=\"0\"/>\\n                <p class=\"js-error form-error\"></p>\\n            </div>\\n        </div>\\n        <p class=\"js-date-error form-error form-error--date\">The date of birth is not valid</p>\\n    </div>\\n\\n    <div class=\"form-block\" data-widget=\"form-dropdown\" data-dropdown-type=\"SSO_COUNTRY\">\\n        <div class=\"form-block__label\">Country of residence</div>\\n        <div class=\"form-dropdown js-dropdown-wrapper\"></div>\\n    </div>\\n\\n</fieldset>\\n\\n            </div>\\n            <div data-ui-tab=\"My Preferences\" class=\"user-account__tab\">\\n                <div class=\"js-account-prefs u-hide\">\\n    <fieldset>\\n\\n        <div class=\"form-block\" data-widget=\"form-dropdown\" data-dropdown-type=\"SSO_TEAM\">\\n            <div class=\"form-block__label\">Your favourite team</div>\\n            <div class=\"form-dropdown js-dropdown-wrapper\"></div>\\n        </div>\\n\\n        <div class=\"js-contact-prefs user-account__contact-prefs-wrapper\">\\n\\n            <div class=\"user-account__alert\">\\n                <svg class=\"icon\"><use xmlns:xlink=\"http://www.w3.org/1999/xlink\" xlink:href=\"/resources/prod/v8.20.1/i/svg-output/icons.svg#icn-alert\"></use></svg>\\n                <span>Sorry, but your contact preferences will take up to 24hrs to update</span>\\n            </div>\\n\\n            <div class=\"user-account__contact-prefs\">\\n                <div class=\"form-block form-block--no-margin\">\\n                    <div class=\"form-group form-group--checkbox\">\\n                        <input class=\"form-group__element\" type=\"checkbox\" name=\"allow-contacting\" id=\"allow-contacting\"/>\\n                        <label class=\"form-group__label\" for=\"allow-contacting\">I\\'m happy for the ICC to contact me</label>\\n                    </div>\\n                    <p class=\"js-error form-error\"></p>\\n                </div>\\n\\n                <div class=\"form-block form-block--no-margin\">\\n                    <div class=\"form-group form-group--checkbox\">\\n                        <input class=\"form-group__element\" type=\"checkbox\" name=\"allow-partner-contacting\" id=\"allow-partner-contacting\"/>\\n                        <label class=\"form-group__label\" for=\"allow-partner-contacting\">I\\'m happy for the ICC\\'s partners to contact me</label>\\n                    </div>\\n                    <p class=\"js-error form-error\"></p>\\n                </div>\\n            </div>\\n\\n        </div>\\n\\n    </fieldset>\\n</div>\\n\\n<div class=\"overlay__loader__small js-loader-prefs\">\\n    Hold on! Loading your preferences <div class=\"loader loader--small\"></div>\\n</div>\\n\\n            </div>\\n\\n            <div class=\"user-account__buttons-wrapper\">\\n                <div class=\"user-account__account-actions js-buttons-wrapper\">\\n                    <button class=\"form-btn form-btn--grey is-disabled js-cancel\" disabled>Cancel</button>\\n                    <button class=\"form-btn is-disabled js-submit\" type=\"submit\" disabled>Save Changes</button>\\n                    <div class=\"loader js-loader u-hide\"></div>\\n                </div>\\n                <button class=\"form-btn form-btn--grey js-account-signout u-show-tablet\">Sign Out<svg class=\"icon\"><use xmlns:xlink=\"http://www.w3.org/1999/xlink\" xlink:href=\"/resources/prod/v8.20.1/i/svg-output/icons.svg#icn-sign-out\"></use></svg></button>\\n            </div>\\n        </form>\\n\\n    </div>\\n\\n    <div class=\"user-account__wrapper js-panel-account-password u-hide\">\\n        <form id=\"account-edit-password\" name=\"account-edit-password\" novalidate>\\n    <div class=\"user-account__tabs-wrapper\">\\n\\n        <h1 class=\"overlay__title\">\\n            Edit your password\\n            <span class=\"overlay__title__option\"><a href=\"#\" class=\"form-cta js-cancel-password\">back</a></span>\\n        </h1>\\n\\n        <div class=\"form-group form-group--password\">\\n            <div class=\"form-group__password-action js-toggle-password\">Show</div>\\n            <label class=\"form-group__label\" for=\"current-password\">Current Password *</label>\\n            <input class=\"form-group__element\" type=\"password\" required name=\"current-password\" id=\"current-password\" />\\n            <p class=\"js-error form-error\"></p>\\n            <p class=\"js-current-pwd-error form-error form-error--email\">Invalid current password</p>\\n        </div>\\n\\n        <a class=\"form-cta form-cta--right\" href=\"/forgot-password\">Forgot password?</a>\\n\\n        <div class=\"form-block\">\\n            <div class=\"form-group form-group--password\">\\n                <div class=\"form-group__password-action js-toggle-password\">Show</div>\\n                <label class=\"form-group__label\" for=\"new-password\">New password *</label>\\n                <input class=\"form-group__element\" type=\"password\" required name=\"new-password\" id=\"new-password\" />\\n                <div class=\"form-block__verify-password form-block__verify-password--slider js-verify-password\">\\n                    Password must include...\\n                    <ul class=\"form-block__verify-list\">\\n                        <li class=\"js-verify-length\">8 or more characters</li>\\n                        <li class=\"js-verify-letters\">At least one upper and lower case letter</li>\\n                        <li class=\"js-verify-number\">At least one number or symbol</li>\\n                    </ul>\\n                </div>\\n                <p class=\"js-error form-error\"></p>\\n                <p class=\"js-new-pwd-error form-error form-error--email\">The new password needs to be different than the current one.</p>\\n            </div>\\n        </div>\\n\\n        <div class=\"form-group form-group--password\">\\n            <div class=\"form-group__password-action js-toggle-password\">Show</div>\\n            <label class=\"form-group__label\" for=\"confirm-password\">Confirm new password *</label>\\n            <input class=\"form-group__element\" type=\"password\" required name=\"confirm-password\" id=\"confirm-password\" />\\n            <p class=\"js-error form-error\"></p>\\n            <p class=\"js-confirm-pwd-error form-error form-error--email\">The confirmation does not match your new password</p>\\n        </div>\\n    </div>\\n\\n    <div class=\"user-account__buttons-wrapper\">\\n        <div class=\"user-account__account-actions\">\\n            <button class=\"form-btn form-btn--grey js-cancel-password\" type=\"button\">Cancel</button>\\n            <button class=\"form-btn is-disabled js-submit-password\" type=\"submit\" disabled>Change Password</button>\\n            <div class=\"loader js-password-loader u-hide\"></div>\\n        </div>\\n    </div>\\n</form>\\n\\n    </div>\\n\\n</section>\\n\\n\\n<div class=\"js-mobile-banner mobile-banner \" data-widget=\"mobile-banner\">\\n    <div class=\"wrapper\">\\n        <div class=\"col-12\">\\n            <div class=\"mobile-banner__wrapper\">\\n                <p class=\"mobile-banner__header\">Official ICC App</p>\\n                <p class=\"mobile-banner__subheader\"><strong>Your App for international cricket.</strong> The official ICC app provides coverage across all of the current international action including fixtures, results, videos, ICC news, rankings and more. Don\\xe2\\x80\\x99t miss a moment and keep up with the latest from around the world of cricket!</p>\\n                <div class=\"mobile-banner__app-buttons\">\\n                    <a target=\"_blank\" href=\"https://www.icc-cricket.com/mobile\" class=\"btn\">Find Out More</a>\\n                </div>\\n            </div>\\n        </div>\\n    </div>\\n    <a class=\"mobile-banner__close js-mobile-banner-close\">\\n        <svg class=\"icon\"><use xmlns:xlink=\"http://www.w3.org/1999/xlink\" xlink:href=\"/resources/prod/v8.20.1/i/svg-output/icons.svg#icn-close\"></use></svg>\\n    </a>\\n</div>\\n\\n\\t<div class=\"global-header \">\\n\\t\\t<ul class=\"global-header__list\">\\n                    <li class=\"global-header__item \">\\n            \\t\\t\\t<a href=\"http://www.icctravelandtours.com/\" class=\"global-header__link\"><svg class=\"icon plane\"><use xmlns:xlink=\"http://www.w3.org/1999/xlink\" xlink:href=\"/resources/prod/v8.20.1/i/svg-output/icons.svg#icn-plane\"></use></svg>ICC Travel & Tours</a>\\n            \\t\\t</li>\\n\\t\\t</ul>\\n\\t\\t\\n    <ul class=\"global-header-social__list\">\\n            <li class=\"global-header-social__item\">\\n                <a href=\"https://www.facebook.com/icc/\" class=\"global-header-social__link global-header-social__link--facebook-f\" target=\"_blank\">\\n                    <svg class=\"icon\"><use xmlns:xlink=\"http://www.w3.org/1999/xlink\" xlink:href=\"/resources/prod/v8.20.1/i/svg-output/icons.svg#icn-facebook-f\"></use></svg>\\n                </a>\\n            </li>\\n            <li class=\"global-header-social__item\">\\n                <a href=\"https://twitter.com/ICC\" class=\"global-header-social__link global-header-social__link--twitter\" target=\"_blank\">\\n                    <svg class=\"icon\"><use xmlns:xlink=\"http://www.w3.org/1999/xlink\" xlink:href=\"/resources/prod/v8.20.1/i/svg-output/icons.svg#icn-twitter\"></use></svg>\\n                </a>\\n            </li>\\n            <li class=\"global-header-social__item\">\\n                <a href=\"https://www.instagram.com/icc/\" class=\"global-header-social__link global-header-social__link--instagram\" target=\"_blank\">\\n                    <svg class=\"icon\"><use xmlns:xlink=\"http://www.w3.org/1999/xlink\" xlink:href=\"/resources/prod/v8.20.1/i/svg-output/icons.svg#icn-instagram\"></use></svg>\\n                </a>\\n            </li>\\n            <li class=\"global-header-social__item\">\\n                <a href=\"https://www.youtube.com/user/CricketICC\" class=\"global-header-social__link global-header-social__link--youtube\" target=\"_blank\">\\n                    <svg class=\"icon\"><use xmlns:xlink=\"http://www.w3.org/1999/xlink\" xlink:href=\"/resources/prod/v8.20.1/i/svg-output/icons.svg#icn-youtube\"></use></svg>\\n                </a>\\n            </li>\\n    </ul>\\n\\n\\t\\t<div class=\"global-header__sso\" data-script=\"icc_global-header\" data-widget=\"user-login\">\\n    <a href=\"/sign-in\" class=\"btn btn--account btn--icon js-nav-default is-transitioning\">\\n        <svg class=\"icon\"><use xmlns:xlink=\"http://www.w3.org/1999/xlink\" xlink:href=\"/resources/prod/v8.20.1/i/svg-output/icons.svg#icn-account\"></use></svg>\\n        Sign In / Create Account\\n        <span class=\"btn__loading-bar\"></span>\\n    </a>\\n    <div class=\"global-header__sign-in js-nav-signedin u-hide\">\\n\\n        <div class=\"global-header__user-message js-nav-user\" tabindex=\"0\" role=\"button\">\\n            <div class=\"global-header__image-container\">\\n                <img src=\"#\" class=\"u-hide js-nav-user-img\" alt=\"User Image\">\\n            </div>\\n            <div class=\"global-header__username\">Welcome back, <span class=\"js-nav-user-text\"></span></div>\\n        </div>\\n\\n        <ul class=\"global-header__dropdown global-header__user-dropdown js-dropdown\">\\n            <li class=\"global-header__dropdown-item\"><a href=\"#\" class=\"js-nav-account\">Account</a></li>\\n            <li class=\"global-header__dropdown-item global-header__dropdown-item--signout\">\\n                <a href=\"#\" class=\"js-nav-logout\">Sign Out</a>\\n                <svg class=\"icon\"><use xmlns:xlink=\"http://www.w3.org/1999/xlink\" xlink:href=\"/resources/prod/v8.20.1/i/svg-output/icons.svg#icn-sign-out\"></use></svg>\\n            </li>\\n        </ul>\\n\\n    </div>\\n</div>\\n\\n\\t</div>\\n\\n\\n\\n    <div class=\"global-navigation\">\\n        <div class=\"global-navigation__default-bg\"></div>\\n        <div class=\"global-navigation__fixed-container\" data-script=\"icc_global-navigation\" data-widget=\"global-navigation\">\\n        \\t<nav class=\"global-navigation__main js-global-navigation is-open\" data-widget=\"scroll-boundary\" data-active-class=\"is-fixed\">\\n        \\t\\t<a href=\"/home-page\" class=\"global-navigation__branding\">\\n        \\t\\t\\t<div class=\"icn icn-logo-icc\"></div>\\n        \\t\\t</a>\\n        \\t\\t<div role=\"button\" class=\"global-navigation__menu-button js-global-navigation-menu-button\">\\n        \\t\\t\\t<span class=\"global-navigation__menu-button-text global-navigation__menu-button-text--open\">Menu</span>\\n        \\t\\t\\t<span class=\"global-navigation__menu-button-text global-navigation__menu-button-text--close\">Close</span>\\n        \\t\\t\\t<div class=\"menu-button\">\\n        \\t            <div></div>\\n        \\t            <div></div>\\n        \\t            <div></div>\\n        \\t        </div>\\n        \\t\\t</div>\\n\\n        \\t\\t<div class=\"global-navigation__container js-global-navigation-container\">\\n        \\t\\t\\t<ul class=\"global-navigation__list\">\\n\\t<li tabindex=\"0\" class=\"global-navigation__item js-global-navigation-item #! global-navigation__item--home has-link \">\\n\\n\\t\\t<div role=\"button\" class=\"global-navigation__link\">\\n    \\t\\t\\t<a href=\"/\">Home\\n                </a>\\n\\t\\t</div>\\n\\t</li>\\n\\t<li tabindex=\"0\" class=\"global-navigation__item js-global-navigation-item #! global-navigation__item--live has-drop-down \">\\n\\n\\t\\t<div role=\"button\" class=\"global-navigation__link\">\\n\\t\\t         Live <svg class=\"icon\"><use xmlns:xlink=\"http://www.w3.org/1999/xlink\" xlink:href=\"/resources/prod/v8.20.1/i/svg-output/icons.svg#icn-chevron-down\"></use></svg>\\n\\t\\t\\t\\t<span class=\"global-navigation__live-counter js-match-counter-nav\"></span>\\n\\t\\t</div>\\n\\t\\t\\t<div class=\"global-navigation__drop-down\">\\n\\t\\t\\t\\t<ul class=\"global-navigation__drop-down-list\">\\n\\t\\t\\t\\t\\t\\t\\t<li class=\"global-navigation__drop-down-item \"><a href=\"/live-cricket/live\" class=\" global-navigation__drop-down-link js-global-navigation-drop-down-link \">Live Scores</a></li>\\n\\t\\t\\t\\t\\t\\t\\t<li class=\"global-navigation__drop-down-item \"><a href=\"/live-cricket/mens-results\" class=\" global-navigation__drop-down-link js-global-navigation-drop-down-link \">Men\\'s Results</a></li>\\n\\t\\t\\t\\t\\t\\t\\t<li class=\"global-navigation__drop-down-item \"><a href=\"/live-cricket/womens-results\" class=\" global-navigation__drop-down-link js-global-navigation-drop-down-link \">Women\\'s Results</a></li>\\n\\t\\t\\t\\t</ul>\\n\\t\\t\\t</div>\\n\\n\\t</li>\\n\\t<li tabindex=\"0\" class=\"global-navigation__item js-global-navigation-item #! has-drop-down \">\\n\\n\\t\\t<div role=\"button\" class=\"global-navigation__link\">\\n\\t\\t         Fixtures <svg class=\"icon\"><use xmlns:xlink=\"http://www.w3.org/1999/xlink\" xlink:href=\"/resources/prod/v8.20.1/i/svg-output/icons.svg#icn-chevron-down\"></use></svg>\\n\\t\\t</div>\\n\\t\\t\\t<div class=\"global-navigation__drop-down\">\\n\\t\\t\\t\\t<ul class=\"global-navigation__drop-down-list\">\\n\\t\\t\\t\\t\\t\\t\\t<li class=\"global-navigation__drop-down-item \"><a href=\"/mens-schedule/list\" class=\" global-navigation__drop-down-link js-global-navigation-drop-down-link \">Men\\'s Fixtures</a></li>\\n\\t\\t\\t\\t\\t\\t\\t<li class=\"global-navigation__drop-down-item \"><a href=\"/womens-schedule/list\" class=\" global-navigation__drop-down-link js-global-navigation-drop-down-link \">Women\\'s Fixtures</a></li>\\n\\t\\t\\t\\t</ul>\\n\\t\\t\\t</div>\\n\\n\\t</li>\\n\\t<li tabindex=\"0\" class=\"global-navigation__item js-global-navigation-item #! has-drop-down \">\\n\\n\\t\\t<div role=\"button\" class=\"global-navigation__link\">\\n\\t\\t         ICC Events <svg class=\"icon\"><use xmlns:xlink=\"http://www.w3.org/1999/xlink\" xlink:href=\"/resources/prod/v8.20.1/i/svg-output/icons.svg#icn-chevron-down\"></use></svg>\\n\\t\\t</div>\\n\\t\\t\\t<div class=\"global-navigation__drop-down\">\\n\\t\\t\\t\\t<ul class=\"global-navigation__drop-down-list\">\\n\\t\\t\\t\\t\\t\\t\\t<li class=\"global-navigation__drop-down-item \"><a href=\"https://www.t20worldcup.com\" class=\" global-navigation__drop-down-link js-global-navigation-drop-down-link \">ICC T20 World Cup</a></li>\\n\\t\\t\\t\\t\\t\\t\\t<li class=\"global-navigation__drop-down-item \"><a href=\"https://www.cricketworldcup.com/\" class=\" global-navigation__drop-down-link js-global-navigation-drop-down-link \">ICC Cricket World Cup</a></li>\\n\\t\\t\\t\\t\\t\\t\\t<li class=\"global-navigation__drop-down-item \"><a href=\"/world-test-championship\" class=\" global-navigation__drop-down-link js-global-navigation-drop-down-link \">ICC World Test Championship</a></li>\\n\\t\\t\\t\\t\\t\\t\\t<li class=\"global-navigation__drop-down-item \"><a href=\"/u19-world-cup/\" class=\" global-navigation__drop-down-link js-global-navigation-drop-down-link \">ICC U19 Cricket World Cup</a></li>\\n\\t\\t\\t\\t\\t\\t\\t<li class=\"global-navigation__drop-down-item \"><a href=\"/champions-trophy\" class=\" global-navigation__drop-down-link js-global-navigation-drop-down-link \">ICC Champions Trophy</a></li>\\n\\t\\t\\t\\t\\t\\t\\t<li class=\"global-navigation__drop-down-item \"><a href=\"/cricket-world-cup-super-league/fixtures\" class=\" global-navigation__drop-down-link js-global-navigation-drop-down-link \">ICC Men\\'s Cricket World Cup Super League</a></li>\\n\\t\\t\\t\\t\\t\\t\\t<li class=\"global-navigation__drop-down-item \"><a href=\"/cricket-world-cup-challenge-league/news\" class=\" global-navigation__drop-down-link js-global-navigation-drop-down-link \">ICC Men\\'s Cricket World Cup Challenge League</a></li>\\n\\t\\t\\t\\t\\t\\t\\t<li class=\"global-navigation__drop-down-item \"><a href=\"/cricket-world-cup-league-two/news\" class=\" global-navigation__drop-down-link js-global-navigation-drop-down-link \">ICC Men\\'s Cricket World Cup League 2</a></li>\\n\\t\\t\\t\\t\\t\\t\\t<li class=\"global-navigation__drop-down-item \"><a href=\"/womens-championship\" class=\" global-navigation__drop-down-link js-global-navigation-drop-down-link \">ICC Women\\'s Championship</a></li>\\n\\t\\t\\t\\t\\t\\t\\t<li class=\"global-navigation__drop-down-item \"><a href=\"/event-status\" class=\" global-navigation__drop-down-link js-global-navigation-drop-down-link \">2021 Event status</a></li>\\n\\t\\t\\t\\t</ul>\\n\\t\\t\\t</div>\\n\\n\\t</li>\\n\\t<li tabindex=\"0\" class=\"global-navigation__item js-global-navigation-item #! has-drop-down \">\\n\\n\\t\\t<div role=\"button\" class=\"global-navigation__link\">\\n\\t\\t         Rankings <svg class=\"icon\"><use xmlns:xlink=\"http://www.w3.org/1999/xlink\" xlink:href=\"/resources/prod/v8.20.1/i/svg-output/icons.svg#icn-chevron-down\"></use></svg>\\n\\t\\t</div>\\n\\n\\t\\t\\t\\t<div class=\"global-navigation__drop-down global-navigation__drop-down--2-column\">\\n\\t\\t\\t\\t\\t<div class=\"global-navigation__drop-down-column\">\\n\\t\\t\\t\\t\\t\\t<div class=\"global-navigation__drop-down-title\">Men\\'s Rankings</div>\\n\\t\\t\\t\\t\\t\\t<ul class=\"global-navigation__drop-down-list\">\\n\\t\\t\\t\\t\\t\\t\\t\\t<li class=\"global-navigation__drop-down-item\"><a href=\"/rankings/mens/overview\" class=\" global-navigation__drop-down-link js-global-navigation-drop-down-link\">Overview</a></li>\\n\\t\\t\\t\\t\\t\\t\\t\\t<li class=\"global-navigation__drop-down-item\"><a href=\"/rankings/mens/team-rankings\" class=\" global-navigation__drop-down-link js-global-navigation-drop-down-link\">Team Rankings</a></li>\\n\\t\\t\\t\\t\\t\\t\\t\\t<li class=\"global-navigation__drop-down-item\"><a href=\"/rankings/mens/player-rankings\" class=\" global-navigation__drop-down-link js-global-navigation-drop-down-link\">Players Rankings</a></li>\\n\\t\\t\\t\\t\\t\\t\\t\\t<li class=\"global-navigation__drop-down-item\"><a href=\"/rankings/mens/player-rankings/comparison\" class=\" global-navigation__drop-down-link js-global-navigation-drop-down-link\">Player Comparison</a></li>\\n\\t\\t\\t\\t\\t\\t\\t\\t<li class=\"global-navigation__drop-down-item\"><a href=\"/rankings/mens/rankings-predictor/test\" class=\" global-navigation__drop-down-link js-global-navigation-drop-down-link\">Team Rankings Predictor</a></li>\\n\\t\\t\\t\\t\\t\\t\\t\\t<li class=\"global-navigation__drop-down-item\"><a href=\"/rankings/about\" class=\" global-navigation__drop-down-link js-global-navigation-drop-down-link\">About the Rankings</a></li>\\n\\t\\t\\t\\t\\t\\t\\t\\t<li class=\"global-navigation__drop-down-item\"><a href=\"/rankings/faqs\" class=\" global-navigation__drop-down-link js-global-navigation-drop-down-link\">Rankings FAQ</a></li>\\n\\t\\t\\t\\t\\t\\t</ul>\\n\\t\\t\\t\\t\\t</div>\\n\\t\\t\\t\\t\\t<div class=\"global-navigation__drop-down-column\">\\n\\t\\t\\t\\t\\t\\t<div class=\"global-navigation__drop-down-title\">Women\\'s Rankings</div>\\n\\t\\t\\t\\t\\t\\t<ul class=\"global-navigation__drop-down-list\">\\n\\t\\t\\t\\t\\t\\t\\t\\t<li class=\"global-navigation__drop-down-item\"><a href=\"/rankings/womens/overview\" class=\" global-navigation__drop-down-link js-global-navigation-drop-down-link\">Overview</a></li>\\n\\t\\t\\t\\t\\t\\t\\t\\t<li class=\"global-navigation__drop-down-item\"><a href=\"/rankings/womens/team-rankings\" class=\" global-navigation__drop-down-link js-global-navigation-drop-down-link\">Team Rankings</a></li>\\n\\t\\t\\t\\t\\t\\t\\t\\t<li class=\"global-navigation__drop-down-item\"><a href=\"/rankings/womens/player-rankings\" class=\" global-navigation__drop-down-link js-global-navigation-drop-down-link\">Player Rankings</a></li>\\n\\t\\t\\t\\t\\t\\t</ul>\\n\\t\\t\\t\\t\\t</div>\\n\\t\\t\\t\\t</div>\\n\\t</li>\\n\\t<li tabindex=\"0\" class=\"global-navigation__item js-global-navigation-item #! has-drop-down \">\\n\\n\\t\\t<div role=\"button\" class=\"global-navigation__link\">\\n\\t\\t         Teams <svg class=\"icon\"><use xmlns:xlink=\"http://www.w3.org/1999/xlink\" xlink:href=\"/resources/prod/v8.20.1/i/svg-output/icons.svg#icn-chevron-down\"></use></svg>\\n\\t\\t</div>\\n\\t\\t\\t<div class=\"global-navigation__drop-down\">\\n\\t\\t\\t\\t<ul class=\"global-navigation__drop-down-list\">\\n\\t\\t\\t\\t\\t\\t\\t<li class=\"global-navigation__drop-down-item \"><a href=\"https://www.icc-cricket.com/teams/men\" class=\" global-navigation__drop-down-link js-global-navigation-drop-down-link \">Men</a></li>\\n\\t\\t\\t\\t\\t\\t\\t<li class=\"global-navigation__drop-down-item \"><a href=\"https://www.icc-cricket.com/teams/women\" class=\" global-navigation__drop-down-link js-global-navigation-drop-down-link \">Women</a></li>\\n\\t\\t\\t\\t\\t\\t\\t<li class=\"global-navigation__drop-down-item \"><a href=\"https://www.icc-cricket.com/teams/u19\" class=\" global-navigation__drop-down-link js-global-navigation-drop-down-link \">U19</a></li>\\n\\t\\t\\t\\t</ul>\\n\\t\\t\\t</div>\\n\\n\\t</li>\\n\\t<li tabindex=\"0\" class=\"global-navigation__item js-global-navigation-item #! has-drop-down \">\\n\\n\\t\\t<div role=\"button\" class=\"global-navigation__link\">\\n\\t\\t         Video <svg class=\"icon\"><use xmlns:xlink=\"http://www.w3.org/1999/xlink\" xlink:href=\"/resources/prod/v8.20.1/i/svg-output/icons.svg#icn-chevron-down\"></use></svg>\\n\\t\\t</div>\\n\\t\\t\\t<div class=\"global-navigation__drop-down\">\\n\\t\\t\\t\\t<ul class=\"global-navigation__drop-down-list\">\\n\\t\\t\\t\\t\\t\\t\\t<li class=\"global-navigation__drop-down-item \"><a href=\"/video/vault\" class=\" global-navigation__drop-down-link js-global-navigation-drop-down-link \">ICC Vault</a></li>\\n\\t\\t\\t\\t\\t\\t\\t<li class=\"global-navigation__drop-down-item \"><a href=\"/video\" class=\" global-navigation__drop-down-link js-global-navigation-drop-down-link \">Video Home</a></li>\\n\\t\\t\\t\\t\\t\\t\\t<li class=\"global-navigation__drop-down-item \"><a href=\"/video/by-country\" class=\" global-navigation__drop-down-link js-global-navigation-drop-down-link \">Videos By Country</a></li>\\n\\t\\t\\t\\t\\t\\t\\t<li class=\"global-navigation__drop-down-item \"><a href=\"/video/events\" class=\" global-navigation__drop-down-link js-global-navigation-drop-down-link \">ICC Events</a></li>\\n\\t\\t\\t\\t\\t\\t\\t<li class=\"global-navigation__drop-down-item \"><a href=\"/video/cricket-360\" class=\" global-navigation__drop-down-link js-global-navigation-drop-down-link \">ICC Cricket 360\\xc2\\xb0</a></li>\\n\\t\\t\\t\\t\\t\\t\\t<li class=\"global-navigation__drop-down-item \"><a href=\"/video/what-is-cricket\" class=\" global-navigation__drop-down-link js-global-navigation-drop-down-link \">What is Cricket?</a></li>\\n\\t\\t\\t\\t</ul>\\n\\t\\t\\t</div>\\n\\n\\t</li>\\n\\t<li tabindex=\"0\" class=\"global-navigation__item js-global-navigation-item #! has-drop-down \">\\n\\n\\t\\t<div role=\"button\" class=\"global-navigation__link\">\\n\\t\\t         More <svg class=\"icon\"><use xmlns:xlink=\"http://www.w3.org/1999/xlink\" xlink:href=\"/resources/prod/v8.20.1/i/svg-output/icons.svg#icn-chevron-down\"></use></svg>\\n\\t\\t</div>\\n\\t\\t\\t<div class=\"global-navigation__drop-down\">\\n\\t\\t\\t\\t<ul class=\"global-navigation__drop-down-list\">\\n\\t\\t\\t\\t\\t\\t\\t<li class=\"global-navigation__drop-down-item global-nav__item--divider\"><a href=\"https://www.icc-cricket.com/about\" class=\" global-navigation__drop-down-link js-global-navigation-drop-down-link \">About ICC</a></li>\\n\\t\\t\\t\\t\\t\\t\\t<li class=\"global-navigation__drop-down-item \"><a href=\"/quiz\" class=\" global-navigation__drop-down-link js-global-navigation-drop-down-link \">Quiz</a></li>\\n\\t\\t\\t\\t\\t\\t\\t<li class=\"global-navigation__drop-down-item \"><a href=\"/awards/overview\" class=\" global-navigation__drop-down-link js-global-navigation-drop-down-link \">Awards</a></li>\\n\\t\\t\\t\\t\\t\\t\\t<li class=\"global-navigation__drop-down-item \"><a href=\"/hall-of-fame\" class=\" global-navigation__drop-down-link js-global-navigation-drop-down-link \">Hall of Fame</a></li>\\n\\t\\t\\t\\t\\t\\t\\t<li class=\"global-navigation__drop-down-item \"><a href=\"/social\" class=\" global-navigation__drop-down-link js-global-navigation-drop-down-link \">ICC on Social</a></li>\\n\\t\\t\\t\\t\\t\\t\\t<li class=\"global-navigation__drop-down-item \"><a href=\"/media-releases\" class=\" global-navigation__drop-down-link js-global-navigation-drop-down-link \">Media Releases</a></li>\\n\\t\\t\\t\\t\\t\\t\\t<li class=\"global-navigation__drop-down-item \"><a href=\"/news\" class=\" global-navigation__drop-down-link js-global-navigation-drop-down-link \">News</a></li>\\n\\t\\t\\t\\t\\t\\t\\t<li class=\"global-navigation__drop-down-item \"><a href=\"/photos\" class=\" global-navigation__drop-down-link js-global-navigation-drop-down-link \">Photos</a></li>\\n\\t\\t\\t\\t\\t\\t\\t<li class=\"global-navigation__drop-down-item \"><a href=\"/cricket-for-good\" class=\" global-navigation__drop-down-link js-global-navigation-drop-down-link \">Cricket for Good</a></li>\\n\\t\\t\\t\\t\\t\\t\\t<li class=\"global-navigation__drop-down-item \"><a href=\"/mobile\" class=\" global-navigation__drop-down-link js-global-navigation-drop-down-link \">Mobile App</a></li>\\n\\t\\t\\t\\t\\t\\t\\t<li class=\"global-navigation__drop-down-item \"><a href=\"/news/318971\" class=\" global-navigation__drop-down-link js-global-navigation-drop-down-link \">Commercial Opportunities</a></li>\\n\\t\\t\\t\\t\\t\\t\\t<li class=\"global-navigation__drop-down-item \"><a href=\"/criiio/\" class=\" global-navigation__drop-down-link js-global-navigation-drop-down-link \">criiio</a></li>\\n\\t\\t\\t\\t\\t\\t\\t<li class=\"global-navigation__drop-down-item \"><a href=\"/100percentcricket\" class=\" global-navigation__drop-down-link js-global-navigation-drop-down-link \">100% Cricket</a></li>\\n\\t\\t\\t\\t\\t\\t\\t<li class=\"global-navigation__drop-down-item \"><a href=\"https://icccricketshop.com/\" class=\" global-navigation__drop-down-link js-global-navigation-drop-down-link \">ICC Shop</a></li>\\n\\t\\t\\t\\t</ul>\\n\\t\\t\\t</div>\\n\\n\\t</li>\\n        \\t\\t\\t</ul>\\n                    \\n\\t<div class=\"global-navigation-menu u-hide\">\\n\\t\\t<ul class=\"global-navigation-menu__list\">\\n\\t\\t\\t\\t\\t<li class=\"global-navigation-menu__item\">\\n\\t\\t\\t\\t\\t\\t<a href=\"http://www.icctravelandtours.com/\" class=\"global-navigation-menu__link\">\\n\\t\\t\\t\\t\\t\\t\\t<svg class=\"icon plane\"><use xmlns:xlink=\"http://www.w3.org/1999/xlink\" xlink:href=\"/resources/prod/v8.20.1/i/svg-output/icons.svg#icn-plane\"></use></svg>\\n\\t\\t\\t\\t\\t\\t\\tICC Travel & Tours\\n\\t\\t\\t\\t\\t\\t</a>\\n\\t\\t\\t\\t\\t</li>\\n            <li class=\"global-navigation-menu__item global-navigation-menu__item--user js-nav-default-mobile\">\\n                <a href=\"/sign-in\" class=\"global-navigation-menu__link\">\\n                    <svg class=\"icon\"><use xmlns:xlink=\"http://www.w3.org/1999/xlink\" xlink:href=\"/resources/prod/v8.20.1/i/svg-output/icons.svg#icn-account\"></use></svg>\\n                    Sign In/Create Account\\n                </a>\\n            </li>\\n            <li class=\"global-navigation-menu__item global-navigation-menu__item--user js-nav-signedin-mobile u-hide\">\\n                <a href=\"#\" class=\"global-navigation-menu__link\">\\n                    <div class=\"global-navigation-menu__image-container\">\\n                        <img src=\"#\" class=\"u-hide js-nav-user-img-mobile\" alt=\"User Image\">\\n                    </div>\\n                    <div class=\"global-navigation-menu__username\">Hi <span class=\"js-nav-user-text-mobile\"></span></div>\\n                </a>\\n            </li>\\n\\t\\t</ul>\\n\\t</div>\\n\\n        \\t\\t</div>\\n\\n\\t\\t\\t\\t\\n\\n        \\t\\t<div tabindex=\"0\" role=\"button\" class=\"global-navigation__search js-global-navigation-search\">\\n        \\t\\t\\t<svg class=\"global-navigation__search-icon icon\"><use xmlns:xlink=\"http://www.w3.org/1999/xlink\" xlink:href=\"/resources/prod/v8.20.1/i/svg-output/icons.svg#icn-search\"></use></svg>\\n        \\t\\t\\t<span class=\"global-navigation__search-text\">Search</span>\\n        \\t\\t</div>\\n\\n                <a href=\"/sign-in\" class=\"global-navigation__user js-nav-default-mobile\" role=\"button\">\\n                    <svg class=\"icon\"><use xmlns:xlink=\"http://www.w3.org/1999/xlink\" xlink:href=\"/resources/prod/v8.20.1/i/svg-output/icons.svg#icn-account\"></use></svg>\\n                </a>\\n                <a href=\"#\" class=\"global-navigation__user js-nav-signedin-mobile u-hide\" role=\"button\">\\n                    <div class=\"global-navigation__image-container\">\\n                        <img src=\"#\" class=\"u-hide js-nav-user-img-mobile\" alt=\"User Image\">\\n                    </div>\\n                </a>\\n\\n        \\t\\t<form action=\"/search\" type=\"GET\" class=\"global-navigation__search-open js-global-navigation-search-open\">\\n        \\t\\t\\t<div class=\"global-navigation__search-input\">\\n        \\t\\t\\t\\t<input tabindex=\"-1\" class=\"js-global-navigation-input\" type=\"text\" name=\"term\" placeholder=\"Search ICC\" />\\n        \\t\\t\\t</div>\\n        \\t\\t\\t<button type=\"submit\" tabindex=\"0\" class=\"global-navigation__search-go js-global-navigation-search-go\">\\n        \\t\\t\\t\\t<svg class=\"icon\"><use xmlns:xlink=\"http://www.w3.org/1999/xlink\" xlink:href=\"/resources/prod/v8.20.1/i/svg-output/icons.svg#icn-search\"></use></svg>\\n        \\t\\t\\t</button>\\n        \\t\\t\\t<div tabindex=\"0\" class=\"global-navigation__search-close js-global-navigation-search-close\">\\n        \\t\\t\\t\\t<svg class=\"icon\"><use xmlns:xlink=\"http://www.w3.org/1999/xlink\" xlink:href=\"/resources/prod/v8.20.1/i/svg-output/icons.svg#icn-close\"></use></svg>\\n        \\t\\t\\t</div>\\n        \\t\\t</form>\\n                <div class=\"global-navigation__search-overlay\"></div>\\n        \\t</nav>\\n        </div>\\n    </div>\\n\\n\\n<main id=\"main-content\" tabindex=\"0\">\\n\\t\\n\\n<button class=\"scroll-to-top\" data-widget=\"scroll-to-top\" data-script=\"icc_scroll-to-top\">\\n\\t<svg class=\"scroll-to-top__icon\">\\n\\t\\t<use xmlns:xlink=\"http://www.w3.org/1999/xlink\" xlink:href=\"/resources/prod/v8.20.1/i/svg-output/icons.svg#icn-up-arrow\"></use>\\n\\t</svg>\\n\\n    <div class=\"scroll-to-top__mask\" aria-hidden=\"true\">\\n\\t<svg class=\"scroll-to-top__icon\">\\n\\t\\t<use xmlns:xlink=\"http://www.w3.org/1999/xlink\" xlink:href=\"/resources/prod/v8.20.1/i/svg-output/icons.svg#icn-up-arrow\"></use>\\n\\t</svg>\\n    </div>\\n    <span class=\"u-screen-reader\">Scroll to Top</span>\\n</button>\\n\\n\\n\\n<header class=\"page-header page-header--rankings\">\\n    <div class=\"wrapper\">\\n        <div class=\"col-12\">\\n            <div class=\"page-header__banner\">\\n        <a class=\"page-logo\" href=\"http://track.adform.net/C/?bn=20093364\" data-widget=\"impression-tracker\" data-tracking-url=\"https://track.adform.net/adfserve/?bn=20093364;srctype=4;ord=%%ADFRND%%\" target=\"_blank\">\\n            <span class=\"icn icn-logo-mrf-rankings\"></span>\\n        </a>\\n            </div>\\n    <div class=\"share share--\\n        \\n        share--vertical\\n        \\n        \"\\n        \\n        data-widget=\"share\">\\n        <div class=\"share__container\">\\n            <div class=\"share__btn js-share-btn\">\\n                <svg class=\"icon\"><use xmlns:xlink=\"http://www.w3.org/1999/xlink\" xlink:href=\"/resources/prod/v8.20.1/i/svg-output/icons.svg#icn-share\"></use></svg>\\n                <div class=\"share__title\">Share</div>\\n            </div>\\n            <ul class=\"share__list\">\\n\\n                <li class=\"share__item share__item--facebook js-social-option\" data-social-service=\"facebook\"  role=\"button\" tabindex=\"0\">\\n                    <svg class=\"icon\"><use xmlns:xlink=\"http://www.w3.org/1999/xlink\" xlink:href=\"/resources/prod/v8.20.1/i/svg-output/icons.svg#icn-facebook\"></use></svg>\\n                </li>\\n\\n                <li class=\"share__item share__item--twitter js-social-option\" data-social-service=\"twitter\"   role=\"button\" tabindex=\"0\">\\n                    <svg class=\"icon\"><use xmlns:xlink=\"http://www.w3.org/1999/xlink\" xlink:href=\"/resources/prod/v8.20.1/i/svg-output/icons.svg#icn-twitter\"></use></svg>\\n                </li>\\n                <li class=\"share__item share__item--messenger u-show-tablet js-social-option\" data-social-service=\"facebookMessenger\"  role=\"buttn\" tabindex=\"0\">\\n                    <svg class=\"icon\"><use xmlns:xlink=\"http://www.w3.org/1999/xlink\" xlink:href=\"/resources/prod/v8.20.1/i/svg-output/icons.svg#icn-facebook-messenger\"></use></svg>\\n                </li>\\n\\n                <li class=\"share__item share__item--whatsapp u-show-tablet js-social-option\" data-social-service=\"whatsapp\"   role=\"button\" tabindex=\"0\">\\n                    <svg class=\"icon\"><use xmlns:xlink=\"http://www.w3.org/1999/xlink\" xlink:href=\"/resources/prod/v8.20.1/i/svg-output/icons.svg#icn-whatsapp\"></use></svg>\\n                </li>\\n\\n                <li class=\"share__item share__item--url u-hide-tablet js-copy-button\"  role=\"button\" tabindex=\"0\">\\n                    <svg class=\"icon\"><use xmlns:xlink=\"http://www.w3.org/1999/xlink\" xlink:href=\"/resources/prod/v8.20.1/i/svg-output/icons.svg#icn-url\"></use></svg>\\n                    <div class=\"share__copy-message js-copy-message\">URL Copied</div>\\n                </li>\\n\\n            </ul>\\n        </div>\\n    </div>\\n        </div>\\n    </div>\\n</header>\\n\\n\\n<div class=\"l-sticky-side-nav\">\\n\\t<div class=\"l-sticky-side-nav__nav\">\\n\\t\\t\\n<div class=\"rankings-menu\" data-script=\"icc_rankings-menu\" data-widget=\"rankings-menu\">\\n    <div class=\"drop-down-tablet js-drop-down\">\\n        <div class=\"drop-down__clickzone js-drop-down-trigger\" tabindex=\"0\" role=\"button\"></div>\\n        <div class=\"drop-down__label\">\\n            Women\\'s\\n        </div>\\n        <div class=\"drop-down__current\">\\n            Player Rankings\\n            <svg class=\"icon\"><use xmlns:xlink=\"http://www.w3.org/1999/xlink\" xlink:href=\"/resources/prod/v8.20.1/i/svg-output/icons.svg#icn-caret-down\"></use></svg>\\n        </div>\\n        <div class=\"drop-down__dropdown-list js-drop-down-options\">\\n                <div class=\"rankings-menu__tab-container u-hide-tablet\">\\n                    <nav class=\"content-tabs\">\\n                        <ul class=\"block-list-2 u-no-font-size\" role=\"tablist\">\\n                                <li class=\"u-no-padding u-no-margin\">\\n                                    <a class=\"content-tabs__tab \" href=\"/rankings/mens/overview\">Men\\'s</a>\\n                                </li>\\n                                <li class=\"u-no-padding u-no-margin\">\\n                                    <a class=\"content-tabs__tab content-tabs__tab--active\" href=\"/rankings/womens/overview\">Women\\'s</a>\\n                                </li>\\n                        </ul>\\n                    </nav>\\n                </div>\\n                    <div class=\" tab-content\">\\n                            <h3 class=\"rankings-menu__title\">Men\\'s</h3>\\n\\n                        <ul class=\"rankings-menu__list\">\\n\\n\\n                    <li class=\"rankings-menu__item\">\\n                        <a href=\"/rankings/mens/overview\" class=\"rankings-menu__link \">Overview<svg class=\"icon\"><use xmlns:xlink=\"http://www.w3.org/1999/xlink\" xlink:href=\"/resources/prod/v8.20.1/i/svg-output/icons.svg#icn-chevron-right\"></use></svg></a>\\n                    </li>\\n\\n                    <li class=\"rankings-menu__item\">\\n                        <a href=\"/rankings/mens/team-rankings\" class=\"rankings-menu__link \">Team Rankings<svg class=\"icon\"><use xmlns:xlink=\"http://www.w3.org/1999/xlink\" xlink:href=\"/resources/prod/v8.20.1/i/svg-output/icons.svg#icn-chevron-right\"></use></svg></a>\\n                    </li>\\n\\n                    <li class=\"rankings-menu__item\">\\n                        <a href=\"/rankings/mens/player-rankings\" class=\"rankings-menu__link \">Player Rankings<svg class=\"icon\"><use xmlns:xlink=\"http://www.w3.org/1999/xlink\" xlink:href=\"/resources/prod/v8.20.1/i/svg-output/icons.svg#icn-chevron-right\"></use></svg></a>\\n                    </li>\\n\\n                    <li class=\"rankings-menu__item\">\\n                        <a href=\"/rankings/mens/player-rankings/comparison\" class=\"rankings-menu__link \">Player Comparison<svg class=\"icon\"><use xmlns:xlink=\"http://www.w3.org/1999/xlink\" xlink:href=\"/resources/prod/v8.20.1/i/svg-output/icons.svg#icn-chevron-right\"></use></svg></a>\\n                    </li>\\n\\n                    <li class=\"rankings-menu__item\">\\n                        <a href=\"/rankings/mens/rankings-predictor/\" class=\"rankings-menu__link \">Team Rankings Predictor<svg class=\"icon\"><use xmlns:xlink=\"http://www.w3.org/1999/xlink\" xlink:href=\"/resources/prod/v8.20.1/i/svg-output/icons.svg#icn-chevron-right\"></use></svg></a>\\n                    </li>\\n\\n                    <li class=\"rankings-menu__item\">\\n                        <a href=\"/rankings/about\" class=\"rankings-menu__link \">About the Rankings<svg class=\"icon\"><use xmlns:xlink=\"http://www.w3.org/1999/xlink\" xlink:href=\"/resources/prod/v8.20.1/i/svg-output/icons.svg#icn-chevron-right\"></use></svg></a>\\n                    </li>\\n\\n                    <li class=\"rankings-menu__item\">\\n                        <a href=\"/rankings/faqs\" class=\"rankings-menu__link \">Player Rankings FAQs<svg class=\"icon\"><use xmlns:xlink=\"http://www.w3.org/1999/xlink\" xlink:href=\"/resources/prod/v8.20.1/i/svg-output/icons.svg#icn-chevron-right\"></use></svg></a>\\n                    </li>\\n\\n                        </ul>\\n                    </div>\\n\\n                    <div class=\"active tab-content\">\\n                            <h3 class=\"rankings-menu__title\">Women\\'s</h3>\\n\\n                        <ul class=\"rankings-menu__list\">\\n\\n                                    <li class=\"rankings-menu__item rankings-menu__item--user-selection js-team-btn\">\\n                                        <a href=\"#\" class=\"rankings-menu__link js-fav-team-link\">Select your team</a>\\n                                        <svg class=\"icon\"><use xmlns:xlink=\"http://www.w3.org/1999/xlink\" xlink:href=\"/resources/prod/v8.20.1/i/svg-output/icons.svg#icn-chevron-right\"></use></svg>\\n                                        <div class=\"rankings-menu__notch js-notch\"></div>\\n                                        <svg class=\"rankings-menu__notch-icon icon\"><use xmlns:xlink=\"http://www.w3.org/1999/xlink\" xlink:href=\"/resources/prod/v8.20.1/i/svg-output/icons.svg#icn-star\"></use></svg\\n                                    </li>\\n\\n                    <li class=\"rankings-menu__item\">\\n                        <a href=\"/rankings/womens/overview\" class=\"rankings-menu__link \">Overview<svg class=\"icon\"><use xmlns:xlink=\"http://www.w3.org/1999/xlink\" xlink:href=\"/resources/prod/v8.20.1/i/svg-output/icons.svg#icn-chevron-right\"></use></svg></a>\\n                    </li>\\n\\n                    <li class=\"rankings-menu__item\">\\n                        <a href=\"/rankings/womens/team-rankings\" class=\"rankings-menu__link \">Team Rankings<svg class=\"icon\"><use xmlns:xlink=\"http://www.w3.org/1999/xlink\" xlink:href=\"/resources/prod/v8.20.1/i/svg-output/icons.svg#icn-chevron-right\"></use></svg></a>\\n                    </li>\\n\\n                    <li class=\"rankings-menu__item\">\\n                        <a href=\"/rankings/womens/player-rankings\" class=\"rankings-menu__link \">Player Rankings<svg class=\"icon\"><use xmlns:xlink=\"http://www.w3.org/1999/xlink\" xlink:href=\"/resources/prod/v8.20.1/i/svg-output/icons.svg#icn-chevron-right\"></use></svg></a>\\n                    </li>\\n\\n                    <li class=\"rankings-menu__item\">\\n                        <a href=\"/rankings/about\" class=\"rankings-menu__link \">About the Rankings<svg class=\"icon\"><use xmlns:xlink=\"http://www.w3.org/1999/xlink\" xlink:href=\"/resources/prod/v8.20.1/i/svg-output/icons.svg#icn-chevron-right\"></use></svg></a>\\n                    </li>\\n\\n                    <li class=\"rankings-menu__item\">\\n                        <a href=\"/rankings/faqs\" class=\"rankings-menu__link \">Player Rankings FAQs<svg class=\"icon\"><use xmlns:xlink=\"http://www.w3.org/1999/xlink\" xlink:href=\"/resources/prod/v8.20.1/i/svg-output/icons.svg#icn-chevron-right\"></use></svg></a>\\n                    </li>\\n\\n                    <li class=\"rankings-menu__item\">\\n                        <a href=\"/rankings/womens-t20i-faq\" class=\"rankings-menu__link \">T20I Team Rankings FAQs<svg class=\"icon\"><use xmlns:xlink=\"http://www.w3.org/1999/xlink\" xlink:href=\"/resources/prod/v8.20.1/i/svg-output/icons.svg#icn-chevron-right\"></use></svg></a>\\n                    </li>\\n\\n                        </ul>\\n                    </div>\\n\\n        </div>\\n    </div>\\n</div>\\n\\n\\t</div>\\n\\n\\t<div class=\"l-sticky-side-nav__content\">\\n\\t\\t\\n    <section class=\"ranking-format-menu\">\\n\\n        <div class=\"wrapper wrapper--sticky\">\\n\\n            <div class=\"col-12\">\\n                <div class=\"content-tabs\">\\n            \\t\\t<ul class=\"inline-list\">\\n            \\t                <li class=\"ranking-format-menu__item\">\\n            \\t                    \\t<a href=\"odi\" class=\"content-tabs__tab content-tabs__tab--active\" >ODI</a>\\n            \\t                </li>\\n            \\t                <li class=\"ranking-format-menu__item\">\\n            \\t                    \\t<a href=\"t20i\" class=\"content-tabs__tab \" >T20I</a>\\n            \\t                </li>\\n            \\t\\t</ul>\\n            \\t</div>\\n            </div>\\n        </div>\\n\\n    </section>\\n\\n\\t\\t<div class=\"wrapper wrapper--sticky\">\\n\\t\\t\\t<div class=\"col-12\">\\n\\t\\t\\t\\t<div class=\"widget rankings-widget\">\\n    <header class=\"widget__header\">\\n        <h3 class=\"widget__title\">Women\\'s ODI Player Rankings</h3>\\n    </header>\\n    <div class=\"u-negative-wrapper-tab uniform-grid touch-scroll-list--tablet\">\\n    \\t<div class=\"col-4 col-12-desk uniform-grid__section touch-scroll-list__element\">\\n    \\t\\t\\n\\n\\n\\n    <div class=\"rankings-block__container \"\\n        data-cricket-role=\"batting\"\\n        data-cricket-scope=\"wodi\"\\n        data-page-size=\"10\"\\n        data-link-to=\"https://www.icc-cricket.com/rankings/womens/player-rankings/odi/batting\"\\n        data-title=\"ODI Batting Rankings\"\\n        data-player-rankings-card>\\n\\n        <div class=\"rankings-block__banner\">\\n\\n            <div class=\"rankings-block__title-container\">\\n                <div class=\"rankings-block__type t-wodi\">wodi</div>\\n                <h4>ODI Batting Rankings</h4>\\n    <div class=\"share share--\\n        \\n        share--vertical\\n        share--small\\n        \"\\n        \\n        data-widget=\"share\">\\n        <div class=\"share__container\">\\n            <div class=\"share__btn js-share-btn\">\\n                <svg class=\"icon\"><use xmlns:xlink=\"http://www.w3.org/1999/xlink\" xlink:href=\"/resources/prod/v8.20.1/i/svg-output/icons.svg#icn-share\"></use></svg>\\n                <div class=\"share__title\">Share</div>\\n            </div>\\n            <ul class=\"share__list\">\\n\\n                <li class=\"share__item share__item--facebook js-social-option\" data-social-service=\"facebook\" data-share-url=\"https://www.icc-cricket.comhttps://www.icc-cricket.com/rankings/womens/player-rankings/odi/batting\" role=\"button\" tabindex=\"0\">\\n                    <svg class=\"icon\"><use xmlns:xlink=\"http://www.w3.org/1999/xlink\" xlink:href=\"/resources/prod/v8.20.1/i/svg-output/icons.svg#icn-facebook\"></use></svg>\\n                </li>\\n\\n                <li class=\"share__item share__item--twitter js-social-option\" data-social-service=\"twitter\" data-share-url=\"https://www.icc-cricket.comhttps://www.icc-cricket.com/rankings/womens/player-rankings/odi/batting\"  role=\"button\" tabindex=\"0\">\\n                    <svg class=\"icon\"><use xmlns:xlink=\"http://www.w3.org/1999/xlink\" xlink:href=\"/resources/prod/v8.20.1/i/svg-output/icons.svg#icn-twitter\"></use></svg>\\n                </li>\\n                <li class=\"share__item share__item--messenger u-show-tablet js-social-option\" data-social-service=\"facebookMessenger\" data-share-url=\"https://www.icc-cricket.comhttps://www.icc-cricket.com/rankings/womens/player-rankings/odi/batting\" role=\"buttn\" tabindex=\"0\">\\n                    <svg class=\"icon\"><use xmlns:xlink=\"http://www.w3.org/1999/xlink\" xlink:href=\"/resources/prod/v8.20.1/i/svg-output/icons.svg#icn-facebook-messenger\"></use></svg>\\n                </li>\\n\\n                <li class=\"share__item share__item--whatsapp u-show-tablet js-social-option\" data-social-service=\"whatsapp\" data-share-url=\"https://www.icc-cricket.comhttps://www.icc-cricket.com/rankings/womens/player-rankings/odi/batting\"  role=\"button\" tabindex=\"0\">\\n                    <svg class=\"icon\"><use xmlns:xlink=\"http://www.w3.org/1999/xlink\" xlink:href=\"/resources/prod/v8.20.1/i/svg-output/icons.svg#icn-whatsapp\"></use></svg>\\n                </li>\\n\\n                <li class=\"share__item share__item--url u-hide-tablet js-copy-button\" data-share-url=\"https://www.icc-cricket.comhttps://www.icc-cricket.com/rankings/womens/player-rankings/odi/batting\" role=\"button\" tabindex=\"0\">\\n                    <svg class=\"icon\"><use xmlns:xlink=\"http://www.w3.org/1999/xlink\" xlink:href=\"/resources/prod/v8.20.1/i/svg-output/icons.svg#icn-url\"></use></svg>\\n                    <div class=\"share__copy-message js-copy-message\">URL Copied</div>\\n                </li>\\n\\n            </ul>\\n        </div>\\n    </div>\\n            </div>\\n\\n            <a class=\"rankings-block__banner-link\" href=\"/rankings/womens/player-rankings/1785\">\\n\\n                <div class=\"rankings-block__top-player\">\\n                    <div class=\"rankings-block__banner--pos\">\\n                        1\\n        <span class=\"ranking-pos no-change\"></span>\\n                    </div>\\n\\n                    <div class=\"rankings-block__banner--player-info\">\\n                        <div class=\"rankings-block__banner--name\">Lizelle Lee</div>\\n                        <div class=\"rankings-block__banner--nationality\">\\n                            <div class=\"flag-15 SA\"></div>\\n                            <span class=\"rankings-block__banner--nation\"></span>SA</span>\\n                            <div class=\"rankings-block__banner--rating\">761</div>\\n                        </div>\\n                    </div>\\n\\n                    <div class=\"rankings-block__player-image-container\">\\n                        <img class=\"rankings-block__player-image image-missing\" src=\"//resources.pulse.icc-cricket.com/players/130x150/Photo-Missing.png\" alt=\"\" data-widget=\"player-image\" data-player=\"1785\" data-size=\"130x150\" data-error=\"true\">\\n                    </div>\\n                </div>\\n            </a>\\n\\n            <span class=\"circle-branding circle-branding--top\"></span>\\n            <span class=\"circle-branding circle-branding--bottom\"></span>\\n\\n        </div>\\n\\n        <table class=\"table\">\\n            <thead>\\n                <tr class=\"table-head\">\\n                    <th class=\"table-head__cell u-text-right\">Pos</th>\\n                    <th class=\"table-head__cell\">Player</th>\\n                    <th class=\"table-head__cell\">Team</th>\\n                    <th class=\"table-head__cell u-text-right\">Rating</th>\\n                </tr>\\n            </thead>\\n\\n            <tbody>\\n                        <tr class=\"table-body\">\\n                            <td class=\"table-body__cell table-body__cell--position u-text-right\">\\n                                    2\\n        <span class=\"ranking-pos no-change\"></span>\\n                            </td>\\n                            <td class=\"table-body__cell name\">\\n                                <a href=\"/rankings/womens/player-rankings/466\">Alyssa Healy</a>\\n                            </td>\\n                            <td class=\"table-body__cell nationality-logo\">\\n                                <span class=\"flag-15 table-body_logo AUS\"></span>\\n                                <span class=\"table-body__logo-text\">AUS</span>\\n                            </td>\\n                            <td class=\"table-body__cell u-text-right rating\">750</td>\\n                        </tr>\\n                        <tr class=\"table-body\">\\n                            <td class=\"table-body__cell table-body__cell--position u-text-right\">\\n                                    3\\n        <span class=\"ranking-pos no-change\"></span>\\n                            </td>\\n                            <td class=\"table-body__cell name\">\\n                                <a href=\"/rankings/womens/player-rankings/558\">Mithali Raj</a>\\n                            </td>\\n                            <td class=\"table-body__cell nationality-logo\">\\n                                <span class=\"flag-15 table-body_logo IND\"></span>\\n                                <span class=\"table-body__logo-text\">IND</span>\\n                            </td>\\n                            <td class=\"table-body__cell u-text-right rating\">738</td>\\n                        </tr>\\n                        <tr class=\"table-body\">\\n                            <td class=\"table-body__cell table-body__cell--position u-text-right\">\\n                                    4\\n        <span class=\"ranking-pos up\">\\n\\t<svg class=\"icon\">\\n\\t\\t<use xmlns:xlink=\"http://www.w3.org/1999/xlink\" xlink:href=\"/resources/prod/v8.20.1/i/svg-output/icons.svg#icn-chevron-up\"></use>\\n\\t</svg>\\n            <span class=\"ranking-pos__tooltip\">This player has moved up in the rankings since the previous rankings update</span>\\n        </span>\\n                            </td>\\n                            <td class=\"table-body__cell name\">\\n                                <a href=\"/rankings/womens/player-rankings/545\">Tammy Beaumont</a>\\n                            </td>\\n                            <td class=\"table-body__cell nationality-logo\">\\n                                <span class=\"flag-15 table-body_logo ENG\"></span>\\n                                <span class=\"table-body__logo-text\">ENG</span>\\n                            </td>\\n                            <td class=\"table-body__cell u-text-right rating\">728</td>\\n                        </tr>\\n                        <tr class=\"table-body\">\\n                            <td class=\"table-body__cell table-body__cell--position u-text-right\">\\n                                    5\\n        <span class=\"ranking-pos down\">\\n\\t<svg class=\"icon\">\\n\\t\\t<use xmlns:xlink=\"http://www.w3.org/1999/xlink\" xlink:href=\"/resources/prod/v8.20.1/i/svg-output/icons.svg#icn-chevron-down\"></use>\\n\\t</svg>\\n            <span class=\"ranking-pos__tooltip\">This player has moved down in the rankings since the previous rankings update</span>\\n        </span>\\n                            </td>\\n                            <td class=\"table-body__cell name\">\\n                                <a href=\"/rankings/womens/player-rankings/487\">Amy Satterthwaite</a>\\n                            </td>\\n                            <td class=\"table-body__cell nationality-logo\">\\n                                <span class=\"flag-15 table-body_logo NZ\"></span>\\n                                <span class=\"table-body__logo-text\">NZ</span>\\n                            </td>\\n                            <td class=\"table-body__cell u-text-right rating\">717</td>\\n                        </tr>\\n                        <tr class=\"table-body\">\\n                            <td class=\"table-body__cell table-body__cell--position u-text-right\">\\n                                    6\\n        <span class=\"ranking-pos down\">\\n\\t<svg class=\"icon\">\\n\\t\\t<use xmlns:xlink=\"http://www.w3.org/1999/xlink\" xlink:href=\"/resources/prod/v8.20.1/i/svg-output/icons.svg#icn-chevron-down\"></use>\\n\\t</svg>\\n            <span class=\"ranking-pos__tooltip\">This player has moved down in the rankings since the previous rankings update</span>\\n        </span>\\n                            </td>\\n                            <td class=\"table-body__cell name\">\\n                                <a href=\"/rankings/womens/player-rankings/1809\">Smriti Mandhana</a>\\n                            </td>\\n                            <td class=\"table-body__cell nationality-logo\">\\n                                <span class=\"flag-15 table-body_logo IND\"></span>\\n                                <span class=\"table-body__logo-text\">IND</span>\\n                            </td>\\n                            <td class=\"table-body__cell u-text-right rating\">710</td>\\n                        </tr>\\n                        <tr class=\"table-body\">\\n                            <td class=\"table-body__cell table-body__cell--position u-text-right\">\\n                                    7\\n        <span class=\"ranking-pos down\">\\n\\t<svg class=\"icon\">\\n\\t\\t<use xmlns:xlink=\"http://www.w3.org/1999/xlink\" xlink:href=\"/resources/prod/v8.20.1/i/svg-output/icons.svg#icn-chevron-down\"></use>\\n\\t</svg>\\n            <span class=\"ranking-pos__tooltip\">This player has moved down in the rankings since the previous rankings update</span>\\n        </span>\\n                            </td>\\n                            <td class=\"table-body__cell name\">\\n                                <a href=\"/rankings/womens/player-rankings/469\">Meg Lanning</a>\\n                            </td>\\n                            <td class=\"table-body__cell nationality-logo\">\\n                                <span class=\"flag-15 table-body_logo AUS\"></span>\\n                                <span class=\"table-body__logo-text\">AUS</span>\\n                            </td>\\n                            <td class=\"table-body__cell u-text-right rating\">699</td>\\n                        </tr>\\n                        <tr class=\"table-body\">\\n                            <td class=\"table-body__cell table-body__cell--position u-text-right\">\\n                                    8\\n        <span class=\"ranking-pos up\">\\n\\t<svg class=\"icon\">\\n\\t\\t<use xmlns:xlink=\"http://www.w3.org/1999/xlink\" xlink:href=\"/resources/prod/v8.20.1/i/svg-output/icons.svg#icn-chevron-up\"></use>\\n\\t</svg>\\n            <span class=\"ranking-pos__tooltip\">This player has moved up in the rankings since the previous rankings update</span>\\n        </span>\\n                            </td>\\n                            <td class=\"table-body__cell name\">\\n                                <a href=\"/rankings/womens/player-rankings/1817\">Beth Mooney</a>\\n                            </td>\\n                            <td class=\"table-body__cell nationality-logo\">\\n                                <span class=\"flag-15 table-body_logo AUS\"></span>\\n                                <span class=\"table-body__logo-text\">AUS</span>\\n                            </td>\\n                            <td class=\"table-body__cell u-text-right rating\">690</td>\\n                        </tr>\\n                        <tr class=\"table-body\">\\n                            <td class=\"table-body__cell table-body__cell--position u-text-right\">\\n                                    9\\n        <span class=\"ranking-pos down\">\\n\\t<svg class=\"icon\">\\n\\t\\t<use xmlns:xlink=\"http://www.w3.org/1999/xlink\" xlink:href=\"/resources/prod/v8.20.1/i/svg-output/icons.svg#icn-chevron-down\"></use>\\n\\t</svg>\\n            <span class=\"ranking-pos__tooltip\">This player has moved down in the rankings since the previous rankings update</span>\\n        </span>\\n                            </td>\\n                            <td class=\"table-body__cell name\">\\n                                <a href=\"/rankings/womens/player-rankings/552\">Heather Knight</a>\\n                            </td>\\n                            <td class=\"table-body__cell nationality-logo\">\\n                                <span class=\"flag-15 table-body_logo ENG\"></span>\\n                                <span class=\"table-body__logo-text\">ENG</span>\\n                            </td>\\n                            <td class=\"table-body__cell u-text-right rating\">674</td>\\n                        </tr>\\n                        <tr class=\"table-body\">\\n                            <td class=\"table-body__cell table-body__cell--position u-text-right\">\\n                                    10\\n        <span class=\"ranking-pos up\">\\n\\t<svg class=\"icon\">\\n\\t\\t<use xmlns:xlink=\"http://www.w3.org/1999/xlink\" xlink:href=\"/resources/prod/v8.20.1/i/svg-output/icons.svg#icn-chevron-up\"></use>\\n\\t</svg>\\n            <span class=\"ranking-pos__tooltip\">This player has moved up in the rankings since the previous rankings update</span>\\n        </span>\\n                            </td>\\n                            <td class=\"table-body__cell name\">\\n                                <a href=\"/rankings/womens/player-rankings/3176\">Laura Wolvaardt</a>\\n                            </td>\\n                            <td class=\"table-body__cell nationality-logo\">\\n                                <span class=\"flag-15 table-body_logo SA\"></span>\\n                                <span class=\"table-body__logo-text\">SA</span>\\n                            </td>\\n                            <td class=\"table-body__cell u-text-right rating\">672</td>\\n                        </tr>\\n            </tbody>\\n        </table>\\n\\n        <div class=\"btn-wrapper\">\\n            <a class=\"btn\" href=\"https://www.icc-cricket.com/rankings/womens/player-rankings/odi/batting\">Full Table</a>\\n        </div>\\n    </div>\\n\\n    <span class=\"rankings-block__date\">Last updated: 26. September 2021</span>\\n\\n    \\t</div>\\n    \\t<div class=\"col-4 col-12-desk uniform-grid__section touch-scroll-list__element\">\\n    \\t\\t\\n\\n\\n\\n    <div class=\"rankings-block__container \"\\n        data-cricket-role=\"bowling\"\\n        data-cricket-scope=\"wodi\"\\n        data-page-size=\"10\"\\n        data-link-to=\"https://www.icc-cricket.com/rankings/womens/player-rankings/odi/bowling\"\\n        data-title=\"ODI Bowling Rankings\"\\n        data-player-rankings-card>\\n\\n        <div class=\"rankings-block__banner\">\\n\\n            <div class=\"rankings-block__title-container\">\\n                <div class=\"rankings-block__type t-wodi\">wodi</div>\\n                <h4>ODI Bowling Rankings</h4>\\n    <div class=\"share share--\\n        \\n        share--vertical\\n        share--small\\n        \"\\n        \\n        data-widget=\"share\">\\n        <div class=\"share__container\">\\n            <div class=\"share__btn js-share-btn\">\\n                <svg class=\"icon\"><use xmlns:xlink=\"http://www.w3.org/1999/xlink\" xlink:href=\"/resources/prod/v8.20.1/i/svg-output/icons.svg#icn-share\"></use></svg>\\n                <div class=\"share__title\">Share</div>\\n            </div>\\n            <ul class=\"share__list\">\\n\\n                <li class=\"share__item share__item--facebook js-social-option\" data-social-service=\"facebook\" data-share-url=\"https://www.icc-cricket.comhttps://www.icc-cricket.com/rankings/womens/player-rankings/odi/bowling\" role=\"button\" tabindex=\"0\">\\n                    <svg class=\"icon\"><use xmlns:xlink=\"http://www.w3.org/1999/xlink\" xlink:href=\"/resources/prod/v8.20.1/i/svg-output/icons.svg#icn-facebook\"></use></svg>\\n                </li>\\n\\n                <li class=\"share__item share__item--twitter js-social-option\" data-social-service=\"twitter\" data-share-url=\"https://www.icc-cricket.comhttps://www.icc-cricket.com/rankings/womens/player-rankings/odi/bowling\"  role=\"button\" tabindex=\"0\">\\n                    <svg class=\"icon\"><use xmlns:xlink=\"http://www.w3.org/1999/xlink\" xlink:href=\"/resources/prod/v8.20.1/i/svg-output/icons.svg#icn-twitter\"></use></svg>\\n                </li>\\n                <li class=\"share__item share__item--messenger u-show-tablet js-social-option\" data-social-service=\"facebookMessenger\" data-share-url=\"https://www.icc-cricket.comhttps://www.icc-cricket.com/rankings/womens/player-rankings/odi/bowling\" role=\"buttn\" tabindex=\"0\">\\n                    <svg class=\"icon\"><use xmlns:xlink=\"http://www.w3.org/1999/xlink\" xlink:href=\"/resources/prod/v8.20.1/i/svg-output/icons.svg#icn-facebook-messenger\"></use></svg>\\n                </li>\\n\\n                <li class=\"share__item share__item--whatsapp u-show-tablet js-social-option\" data-social-service=\"whatsapp\" data-share-url=\"https://www.icc-cricket.comhttps://www.icc-cricket.com/rankings/womens/player-rankings/odi/bowling\"  role=\"button\" tabindex=\"0\">\\n                    <svg class=\"icon\"><use xmlns:xlink=\"http://www.w3.org/1999/xlink\" xlink:href=\"/resources/prod/v8.20.1/i/svg-output/icons.svg#icn-whatsapp\"></use></svg>\\n                </li>\\n\\n                <li class=\"share__item share__item--url u-hide-tablet js-copy-button\" data-share-url=\"https://www.icc-cricket.comhttps://www.icc-cricket.com/rankings/womens/player-rankings/odi/bowling\" role=\"button\" tabindex=\"0\">\\n                    <svg class=\"icon\"><use xmlns:xlink=\"http://www.w3.org/1999/xlink\" xlink:href=\"/resources/prod/v8.20.1/i/svg-output/icons.svg#icn-url\"></use></svg>\\n                    <div class=\"share__copy-message js-copy-message\">URL Copied</div>\\n                </li>\\n\\n            </ul>\\n        </div>\\n    </div>\\n            </div>\\n\\n            <a class=\"rankings-block__banner-link\" href=\"/rankings/womens/player-rankings/468\">\\n\\n                <div class=\"rankings-block__top-player\">\\n                    <div class=\"rankings-block__banner--pos\">\\n                        1\\n        <span class=\"ranking-pos no-change\"></span>\\n                    </div>\\n\\n                    <div class=\"rankings-block__banner--player-info\">\\n                        <div class=\"rankings-block__banner--name\">Jess Jonassen</div>\\n                        <div class=\"rankings-block__banner--nationality\">\\n                            <div class=\"flag-15 AUS\"></div>\\n                            <span class=\"rankings-block__banner--nation\"></span>AUS</span>\\n                            <div class=\"rankings-block__banner--rating\">760</div>\\n                        </div>\\n                    </div>\\n\\n                    <div class=\"rankings-block__player-image-container\">\\n                        <img class=\"rankings-block__player-image image-missing\" src=\"//resources.pulse.icc-cricket.com/players/130x150/Photo-Missing.png\" alt=\"\" data-widget=\"player-image\" data-player=\"468\" data-size=\"130x150\" data-error=\"true\">\\n                    </div>\\n                </div>\\n            </a>\\n\\n            <span class=\"circle-branding circle-branding--top\"></span>\\n            <span class=\"circle-branding circle-branding--bottom\"></span>\\n\\n        </div>\\n\\n        <table class=\"table\">\\n            <thead>\\n                <tr class=\"table-head\">\\n                    <th class=\"table-head__cell u-text-right\">Pos</th>\\n                    <th class=\"table-head__cell\">Player</th>\\n                    <th class=\"table-head__cell\">Team</th>\\n                    <th class=\"table-head__cell u-text-right\">Rating</th>\\n                </tr>\\n            </thead>\\n\\n            <tbody>\\n                        <tr class=\"table-body\">\\n                            <td class=\"table-body__cell table-body__cell--position u-text-right\">\\n                                    2\\n        <span class=\"ranking-pos up\">\\n\\t<svg class=\"icon\">\\n\\t\\t<use xmlns:xlink=\"http://www.w3.org/1999/xlink\" xlink:href=\"/resources/prod/v8.20.1/i/svg-output/icons.svg#icn-chevron-up\"></use>\\n\\t</svg>\\n            <span class=\"ranking-pos__tooltip\">This player has moved up in the rankings since the previous rankings update</span>\\n        </span>\\n                            </td>\\n                            <td class=\"table-body__cell name\">\\n                                <a href=\"/rankings/womens/player-rankings/562\">Jhulan Goswami</a>\\n                            </td>\\n                            <td class=\"table-body__cell nationality-logo\">\\n                                <span class=\"flag-15 table-body_logo IND\"></span>\\n                                <span class=\"table-body__logo-text\">IND</span>\\n                            </td>\\n                            <td class=\"table-body__cell u-text-right rating\">727</td>\\n                        </tr>\\n                        <tr class=\"table-body\">\\n                            <td class=\"table-body__cell table-body__cell--position u-text-right\">\\n                                    3\\n        <span class=\"ranking-pos down\">\\n\\t<svg class=\"icon\">\\n\\t\\t<use xmlns:xlink=\"http://www.w3.org/1999/xlink\" xlink:href=\"/resources/prod/v8.20.1/i/svg-output/icons.svg#icn-chevron-down\"></use>\\n\\t</svg>\\n            <span class=\"ranking-pos__tooltip\">This player has moved down in the rankings since the previous rankings update</span>\\n        </span>\\n                            </td>\\n                            <td class=\"table-body__cell name\">\\n                                <a href=\"/rankings/womens/player-rankings/997\">Megan Schutt</a>\\n                            </td>\\n                            <td class=\"table-body__cell nationality-logo\">\\n                                <span class=\"flag-15 table-body_logo AUS\"></span>\\n                                <span class=\"table-body__logo-text\">AUS</span>\\n                            </td>\\n                            <td class=\"table-body__cell u-text-right rating\">717</td>\\n                        </tr>\\n                        <tr class=\"table-body\">\\n                            <td class=\"table-body__cell table-body__cell--position u-text-right\">\\n                                    4\\n        <span class=\"ranking-pos down\">\\n\\t<svg class=\"icon\">\\n\\t\\t<use xmlns:xlink=\"http://www.w3.org/1999/xlink\" xlink:href=\"/resources/prod/v8.20.1/i/svg-output/icons.svg#icn-chevron-down\"></use>\\n\\t</svg>\\n            <span class=\"ranking-pos__tooltip\">This player has moved down in the rankings since the previous rankings update</span>\\n        </span>\\n                            </td>\\n                            <td class=\"table-body__cell name\">\\n                                <a href=\"/rankings/womens/player-rankings/424\">Marizanne Kapp</a>\\n                            </td>\\n                            <td class=\"table-body__cell nationality-logo\">\\n                                <span class=\"flag-15 table-body_logo SA\"></span>\\n                                <span class=\"table-body__logo-text\">SA</span>\\n                            </td>\\n                            <td class=\"table-body__cell u-text-right rating\">715</td>\\n                        </tr>\\n                        <tr class=\"table-body\">\\n                            <td class=\"table-body__cell table-body__cell--position u-text-right\">\\n                                    5\\n        <span class=\"ranking-pos up\">\\n\\t<svg class=\"icon\">\\n\\t\\t<use xmlns:xlink=\"http://www.w3.org/1999/xlink\" xlink:href=\"/resources/prod/v8.20.1/i/svg-output/icons.svg#icn-chevron-up\"></use>\\n\\t</svg>\\n            <span class=\"ranking-pos__tooltip\">This player has moved up in the rankings since the previous rankings update</span>\\n        </span>\\n                            </td>\\n                            <td class=\"table-body__cell name\">\\n                                <a href=\"/rankings/womens/player-rankings/3337\">Sophie Ecclestone</a>\\n                            </td>\\n                            <td class=\"table-body__cell nationality-logo\">\\n                                <span class=\"flag-15 table-body_logo ENG\"></span>\\n                                <span class=\"table-body__logo-text\">ENG</span>\\n                            </td>\\n                            <td class=\"table-body__cell u-text-right rating\">701</td>\\n                        </tr>\\n                        <tr class=\"table-body\">\\n                            <td class=\"table-body__cell table-body__cell--position u-text-right\">\\n                                    6\\n        <span class=\"ranking-pos down\">\\n\\t<svg class=\"icon\">\\n\\t\\t<use xmlns:xlink=\"http://www.w3.org/1999/xlink\" xlink:href=\"/resources/prod/v8.20.1/i/svg-output/icons.svg#icn-chevron-down\"></use>\\n\\t</svg>\\n            <span class=\"ranking-pos__tooltip\">This player has moved down in the rankings since the previous rankings update</span>\\n        </span>\\n                            </td>\\n                            <td class=\"table-body__cell name\">\\n                                <a href=\"/rankings/womens/player-rankings/423\">Shabnim Ismail</a>\\n                            </td>\\n                            <td class=\"table-body__cell nationality-logo\">\\n                                <span class=\"flag-15 table-body_logo SA\"></span>\\n                                <span class=\"table-body__logo-text\">SA</span>\\n                            </td>\\n                            <td class=\"table-body__cell u-text-right rating\">688</td>\\n                        </tr>\\n                        <tr class=\"table-body\">\\n                            <td class=\"table-body__cell table-body__cell--position u-text-right\">\\n                                    7\\n        <span class=\"ranking-pos no-change\"></span>\\n                            </td>\\n                            <td class=\"table-body__cell name\">\\n                                <a href=\"/rankings/womens/player-rankings/547\">Katherine Brunt</a>\\n                            </td>\\n                            <td class=\"table-body__cell nationality-logo\">\\n                                <span class=\"flag-15 table-body_logo ENG\"></span>\\n                                <span class=\"table-body__logo-text\">ENG</span>\\n                            </td>\\n                            <td class=\"table-body__cell u-text-right rating\">666</td>\\n                        </tr>\\n                        <tr class=\"table-body\">\\n                            <td class=\"table-body__cell table-body__cell--position u-text-right\">\\n                                    8\\n        <span class=\"ranking-pos no-change\"></span>\\n                            </td>\\n                            <td class=\"table-body__cell name\">\\n                                <a href=\"/rankings/womens/player-rankings/425\">Ayabonga Khaka</a>\\n                            </td>\\n                            <td class=\"table-body__cell nationality-logo\">\\n                                <span class=\"flag-15 table-body_logo SA\"></span>\\n                                <span class=\"table-body__logo-text\">SA</span>\\n                            </td>\\n                            <td class=\"table-body__cell u-text-right rating\">643</td>\\n                        </tr>\\n                        <tr class=\"table-body\">\\n                            <td class=\"table-body__cell table-body__cell--position u-text-right\">\\n                                    9\\n        <span class=\"ranking-pos up\">\\n\\t<svg class=\"icon\">\\n\\t\\t<use xmlns:xlink=\"http://www.w3.org/1999/xlink\" xlink:href=\"/resources/prod/v8.20.1/i/svg-output/icons.svg#icn-chevron-up\"></use>\\n\\t</svg>\\n            <span class=\"ranking-pos__tooltip\">This player has moved up in the rankings since the previous rankings update</span>\\n        </span>\\n                            </td>\\n                            <td class=\"table-body__cell name\">\\n                                <a href=\"/rankings/womens/player-rankings/555\">Anya Shrubsole</a>\\n                            </td>\\n                            <td class=\"table-body__cell nationality-logo\">\\n                                <span class=\"flag-15 table-body_logo ENG\"></span>\\n                                <span class=\"table-body__logo-text\">ENG</span>\\n                            </td>\\n                            <td class=\"table-body__cell u-text-right rating\">598</td>\\n                        </tr>\\n                        <tr class=\"table-body\">\\n                            <td class=\"table-body__cell table-body__cell--position u-text-right\">\\n                                    10\\n        <span class=\"ranking-pos up\">\\n\\t<svg class=\"icon\">\\n\\t\\t<use xmlns:xlink=\"http://www.w3.org/1999/xlink\" xlink:href=\"/resources/prod/v8.20.1/i/svg-output/icons.svg#icn-chevron-up\"></use>\\n\\t</svg>\\n            <span class=\"ranking-pos__tooltip\">This player has moved up in the rankings since the previous rankings update</span>\\n        </span>\\n                            </td>\\n                            <td class=\"table-body__cell name\">\\n                                <a href=\"/rankings/womens/player-rankings/1798\">Kate Cross</a>\\n                            </td>\\n                            <td class=\"table-body__cell nationality-logo\">\\n                                <span class=\"flag-15 table-body_logo ENG\"></span>\\n                                <span class=\"table-body__logo-text\">ENG</span>\\n                            </td>\\n                            <td class=\"table-body__cell u-text-right rating\">589</td>\\n                        </tr>\\n            </tbody>\\n        </table>\\n\\n        <div class=\"btn-wrapper\">\\n            <a class=\"btn\" href=\"https://www.icc-cricket.com/rankings/womens/player-rankings/odi/bowling\">Full Table</a>\\n        </div>\\n    </div>\\n\\n    <span class=\"rankings-block__date\">Last updated: 26. September 2021</span>\\n\\n    \\t</div>\\n    \\t<div class=\"col-4 col-12-desk uniform-grid__section touch-scroll-list__element\">\\n    \\t\\t\\n\\n\\n\\n    <div class=\"rankings-block__container \"\\n        data-cricket-role=\"all_round\"\\n        data-cricket-scope=\"wodi\"\\n        data-page-size=\"10\"\\n        data-link-to=\"https://www.icc-cricket.com/rankings/womens/player-rankings/odi/all-rounder\"\\n        data-title=\"ODI All-Rounder Rankings\"\\n        data-player-rankings-card>\\n\\n        <div class=\"rankings-block__banner\">\\n\\n            <div class=\"rankings-block__title-container\">\\n                <div class=\"rankings-block__type t-wodi\">wodi</div>\\n                <h4>ODI All-Rounder Rankings</h4>\\n    <div class=\"share share--\\n        \\n        share--vertical\\n        share--small\\n        \"\\n        \\n        data-widget=\"share\">\\n        <div class=\"share__container\">\\n            <div class=\"share__btn js-share-btn\">\\n                <svg class=\"icon\"><use xmlns:xlink=\"http://www.w3.org/1999/xlink\" xlink:href=\"/resources/prod/v8.20.1/i/svg-output/icons.svg#icn-share\"></use></svg>\\n                <div class=\"share__title\">Share</div>\\n            </div>\\n            <ul class=\"share__list\">\\n\\n                <li class=\"share__item share__item--facebook js-social-option\" data-social-service=\"facebook\" data-share-url=\"https://www.icc-cricket.comhttps://www.icc-cricket.com/rankings/womens/player-rankings/odi/all-rounder\" role=\"button\" tabindex=\"0\">\\n                    <svg class=\"icon\"><use xmlns:xlink=\"http://www.w3.org/1999/xlink\" xlink:href=\"/resources/prod/v8.20.1/i/svg-output/icons.svg#icn-facebook\"></use></svg>\\n                </li>\\n\\n                <li class=\"share__item share__item--twitter js-social-option\" data-social-service=\"twitter\" data-share-url=\"https://www.icc-cricket.comhttps://www.icc-cricket.com/rankings/womens/player-rankings/odi/all-rounder\"  role=\"button\" tabindex=\"0\">\\n                    <svg class=\"icon\"><use xmlns:xlink=\"http://www.w3.org/1999/xlink\" xlink:href=\"/resources/prod/v8.20.1/i/svg-output/icons.svg#icn-twitter\"></use></svg>\\n                </li>\\n                <li class=\"share__item share__item--messenger u-show-tablet js-social-option\" data-social-service=\"facebookMessenger\" data-share-url=\"https://www.icc-cricket.comhttps://www.icc-cricket.com/rankings/womens/player-rankings/odi/all-rounder\" role=\"buttn\" tabindex=\"0\">\\n                    <svg class=\"icon\"><use xmlns:xlink=\"http://www.w3.org/1999/xlink\" xlink:href=\"/resources/prod/v8.20.1/i/svg-output/icons.svg#icn-facebook-messenger\"></use></svg>\\n                </li>\\n\\n                <li class=\"share__item share__item--whatsapp u-show-tablet js-social-option\" data-social-service=\"whatsapp\" data-share-url=\"https://www.icc-cricket.comhttps://www.icc-cricket.com/rankings/womens/player-rankings/odi/all-rounder\"  role=\"button\" tabindex=\"0\">\\n                    <svg class=\"icon\"><use xmlns:xlink=\"http://www.w3.org/1999/xlink\" xlink:href=\"/resources/prod/v8.20.1/i/svg-output/icons.svg#icn-whatsapp\"></use></svg>\\n                </li>\\n\\n                <li class=\"share__item share__item--url u-hide-tablet js-copy-button\" data-share-url=\"https://www.icc-cricket.comhttps://www.icc-cricket.com/rankings/womens/player-rankings/odi/all-rounder\" role=\"button\" tabindex=\"0\">\\n                    <svg class=\"icon\"><use xmlns:xlink=\"http://www.w3.org/1999/xlink\" xlink:href=\"/resources/prod/v8.20.1/i/svg-output/icons.svg#icn-url\"></use></svg>\\n                    <div class=\"share__copy-message js-copy-message\">URL Copied</div>\\n                </li>\\n\\n            </ul>\\n        </div>\\n    </div>\\n            </div>\\n\\n            <a class=\"rankings-block__banner-link\" href=\"/rankings/womens/player-rankings/424\">\\n\\n                <div class=\"rankings-block__top-player\">\\n                    <div class=\"rankings-block__banner--pos\">\\n                        1\\n        <span class=\"ranking-pos no-change\"></span>\\n                    </div>\\n\\n                    <div class=\"rankings-block__banner--player-info\">\\n                        <div class=\"rankings-block__banner--name\">Marizanne Kapp</div>\\n                        <div class=\"rankings-block__banner--nationality\">\\n                            <div class=\"flag-15 SA\"></div>\\n                            <span class=\"rankings-block__banner--nation\"></span>SA</span>\\n                            <div class=\"rankings-block__banner--rating\">384</div>\\n                        </div>\\n                    </div>\\n\\n                    <div class=\"rankings-block__player-image-container\">\\n                        <img class=\"rankings-block__player-image image-missing\" src=\"//resources.pulse.icc-cricket.com/players/130x150/Photo-Missing.png\" alt=\"\" data-widget=\"player-image\" data-player=\"424\" data-size=\"130x150\" data-error=\"true\">\\n                    </div>\\n                </div>\\n            </a>\\n\\n            <span class=\"circle-branding circle-branding--top\"></span>\\n            <span class=\"circle-branding circle-branding--bottom\"></span>\\n\\n        </div>\\n\\n        <table class=\"table\">\\n            <thead>\\n                <tr class=\"table-head\">\\n                    <th class=\"table-head__cell u-text-right\">Pos</th>\\n                    <th class=\"table-head__cell\">Player</th>\\n                    <th class=\"table-head__cell\">Team</th>\\n                    <th class=\"table-head__cell u-text-right\">Rating</th>\\n                </tr>\\n            </thead>\\n\\n            <tbody>\\n                        <tr class=\"table-body\">\\n                            <td class=\"table-body__cell table-body__cell--position u-text-right\">\\n                                    2\\n        <span class=\"ranking-pos up\">\\n\\t<svg class=\"icon\">\\n\\t\\t<use xmlns:xlink=\"http://www.w3.org/1999/xlink\" xlink:href=\"/resources/prod/v8.20.1/i/svg-output/icons.svg#icn-chevron-up\"></use>\\n\\t</svg>\\n            <span class=\"ranking-pos__tooltip\">This player has moved up in the rankings since the previous rankings update</span>\\n        </span>\\n                            </td>\\n                            <td class=\"table-body__cell name\">\\n                                <a href=\"/rankings/womens/player-rankings/1800\">Natalie Sciver</a>\\n                            </td>\\n                            <td class=\"table-body__cell nationality-logo\">\\n                                <span class=\"flag-15 table-body_logo ENG\"></span>\\n                                <span class=\"table-body__logo-text\">ENG</span>\\n                            </td>\\n                            <td class=\"table-body__cell u-text-right rating\">372</td>\\n                        </tr>\\n                        <tr class=\"table-body\">\\n                            <td class=\"table-body__cell table-body__cell--position u-text-right\">\\n                                    3\\n        <span class=\"ranking-pos down\">\\n\\t<svg class=\"icon\">\\n\\t\\t<use xmlns:xlink=\"http://www.w3.org/1999/xlink\" xlink:href=\"/resources/prod/v8.20.1/i/svg-output/icons.svg#icn-chevron-down\"></use>\\n\\t</svg>\\n            <span class=\"ranking-pos__tooltip\">This player has moved down in the rankings since the previous rankings update</span>\\n        </span>\\n                            </td>\\n                            <td class=\"table-body__cell name\">\\n                                <a href=\"/rankings/womens/player-rankings/471\">Ellyse Perry</a>\\n                            </td>\\n                            <td class=\"table-body__cell nationality-logo\">\\n                                <span class=\"flag-15 table-body_logo AUS\"></span>\\n                                <span class=\"table-body__logo-text\">AUS</span>\\n                            </td>\\n                            <td class=\"table-body__cell u-text-right rating\">365</td>\\n                        </tr>\\n                        <tr class=\"table-body\">\\n                            <td class=\"table-body__cell table-body__cell--position u-text-right\">\\n                                    4\\n        <span class=\"ranking-pos no-change\"></span>\\n                            </td>\\n                            <td class=\"table-body__cell name\">\\n                                <a href=\"/rankings/womens/player-rankings/573\">Stafanie Taylor</a>\\n                            </td>\\n                            <td class=\"table-body__cell nationality-logo\">\\n                                <span class=\"flag-15 table-body_logo WI\"></span>\\n                                <span class=\"table-body__logo-text\">WI</span>\\n                            </td>\\n                            <td class=\"table-body__cell u-text-right rating\">322</td>\\n                        </tr>\\n                        <tr class=\"table-body\">\\n                            <td class=\"table-body__cell table-body__cell--position u-text-right\">\\n                                    5\\n        <span class=\"ranking-pos no-change\"></span>\\n                            </td>\\n                            <td class=\"table-body__cell name\">\\n                                <a href=\"/rankings/womens/player-rankings/3192\">Deepti Sharma</a>\\n                            </td>\\n                            <td class=\"table-body__cell nationality-logo\">\\n                                <span class=\"flag-15 table-body_logo IND\"></span>\\n                                <span class=\"table-body__logo-text\">IND</span>\\n                            </td>\\n                            <td class=\"table-body__cell u-text-right rating\">299</td>\\n                        </tr>\\n                        <tr class=\"table-body\">\\n                            <td class=\"table-body__cell table-body__cell--position u-text-right\">\\n                                    6\\n        <span class=\"ranking-pos up\">\\n\\t<svg class=\"icon\">\\n\\t\\t<use xmlns:xlink=\"http://www.w3.org/1999/xlink\" xlink:href=\"/resources/prod/v8.20.1/i/svg-output/icons.svg#icn-chevron-up\"></use>\\n\\t</svg>\\n            <span class=\"ranking-pos__tooltip\">This player has moved up in the rankings since the previous rankings update</span>\\n        </span>\\n                            </td>\\n                            <td class=\"table-body__cell name\">\\n                                <a href=\"/rankings/womens/player-rankings/4128\">Ashleigh Gardner</a>\\n                            </td>\\n                            <td class=\"table-body__cell nationality-logo\">\\n                                <span class=\"flag-15 table-body_logo AUS\"></span>\\n                                <span class=\"table-body__logo-text\">AUS</span>\\n                            </td>\\n                            <td class=\"table-body__cell u-text-right rating\">275</td>\\n                        </tr>\\n                        <tr class=\"table-body\">\\n                            <td class=\"table-body__cell table-body__cell--position u-text-right\">\\n                                    7\\n        <span class=\"ranking-pos up\">\\n\\t<svg class=\"icon\">\\n\\t\\t<use xmlns:xlink=\"http://www.w3.org/1999/xlink\" xlink:href=\"/resources/prod/v8.20.1/i/svg-output/icons.svg#icn-chevron-up\"></use>\\n\\t</svg>\\n            <span class=\"ranking-pos__tooltip\">This player has moved up in the rankings since the previous rankings update</span>\\n        </span>\\n                            </td>\\n                            <td class=\"table-body__cell name\">\\n                                <a href=\"/rankings/womens/player-rankings/430\">Dane van Niekerk</a>\\n                            </td>\\n                            <td class=\"table-body__cell nationality-logo\">\\n                                <span class=\"flag-15 table-body_logo SA\"></span>\\n                                <span class=\"table-body__logo-text\">SA</span>\\n                            </td>\\n                            <td class=\"table-body__cell u-text-right rating\">274</td>\\n                        </tr>\\n                        <tr class=\"table-body\">\\n                            <td class=\"table-body__cell table-body__cell--position u-text-right\">\\n                                    8\\n        <span class=\"ranking-pos down\">\\n\\t<svg class=\"icon\">\\n\\t\\t<use xmlns:xlink=\"http://www.w3.org/1999/xlink\" xlink:href=\"/resources/prod/v8.20.1/i/svg-output/icons.svg#icn-chevron-down\"></use>\\n\\t</svg>\\n            <span class=\"ranking-pos__tooltip\">This player has moved down in the rankings since the previous rankings update</span>\\n        </span>\\n                            </td>\\n                            <td class=\"table-body__cell name\">\\n                                <a href=\"/rankings/womens/player-rankings/468\">Jess Jonassen</a>\\n                            </td>\\n                            <td class=\"table-body__cell nationality-logo\">\\n                                <span class=\"flag-15 table-body_logo AUS\"></span>\\n                                <span class=\"table-body__logo-text\">AUS</span>\\n                            </td>\\n                            <td class=\"table-body__cell u-text-right rating\">272</td>\\n                        </tr>\\n                        <tr class=\"table-body\">\\n                            <td class=\"table-body__cell table-body__cell--position u-text-right\">\\n                                    &nbsp;&nbsp;\\n        <span class=\"ranking-pos down\">\\n\\t<svg class=\"icon\">\\n\\t\\t<use xmlns:xlink=\"http://www.w3.org/1999/xlink\" xlink:href=\"/resources/prod/v8.20.1/i/svg-output/icons.svg#icn-chevron-down\"></use>\\n\\t</svg>\\n            <span class=\"ranking-pos__tooltip\">This player has moved down in the rankings since the previous rankings update</span>\\n        </span>\\n                            </td>\\n                            <td class=\"table-body__cell name\">\\n                                <a href=\"/rankings/womens/player-rankings/547\">Katherine Brunt</a>\\n                            </td>\\n                            <td class=\"table-body__cell nationality-logo\">\\n                                <span class=\"flag-15 table-body_logo ENG\"></span>\\n                                <span class=\"table-body__logo-text\">ENG</span>\\n                            </td>\\n                            <td class=\"table-body__cell u-text-right rating\">272</td>\\n                        </tr>\\n                        <tr class=\"table-body\">\\n                            <td class=\"table-body__cell table-body__cell--position u-text-right\">\\n                                    10\\n        <span class=\"ranking-pos up\">\\n\\t<svg class=\"icon\">\\n\\t\\t<use xmlns:xlink=\"http://www.w3.org/1999/xlink\" xlink:href=\"/resources/prod/v8.20.1/i/svg-output/icons.svg#icn-chevron-up\"></use>\\n\\t</svg>\\n            <span class=\"ranking-pos__tooltip\">This player has moved up in the rankings since the previous rankings update</span>\\n        </span>\\n                            </td>\\n                            <td class=\"table-body__cell name\">\\n                                <a href=\"/rankings/womens/player-rankings/562\">Jhulan Goswami</a>\\n                            </td>\\n                            <td class=\"table-body__cell nationality-logo\">\\n                                <span class=\"flag-15 table-body_logo IND\"></span>\\n                                <span class=\"table-body__logo-text\">IND</span>\\n                            </td>\\n                            <td class=\"table-body__cell u-text-right rating\">251</td>\\n                        </tr>\\n            </tbody>\\n        </table>\\n\\n        <div class=\"btn-wrapper\">\\n            <a class=\"btn\" href=\"https://www.icc-cricket.com/rankings/womens/player-rankings/odi/all-rounder\">Full Table</a>\\n        </div>\\n    </div>\\n\\n    <span class=\"rankings-block__date\">Last updated: 26. September 2021</span>\\n\\n    \\t</div>\\n    </div>\\n</div>\\n\\t\\t\\t</div>\\n\\t\\t</div>\\n\\t</div>\\n</div>\\n\\n</main>\\n\\n<footer class=\"footer\" role=\"contentinfo\">\\n   \\n<div class=\"wrapper\">\\n    <section class=\"footer-partners\">\\n\\n\\n    <div class=\"footer-partners__list u-show-desktop\">\\n        <section class=\"footer-partners__group\">\\n                <h5 class=\"footer-partners__subtitle\">Partners</h5>\\n            <div class=\"footer-partners__inline-list\">\\n                    <div class=\"footer-partners__item\">\\n\\n                            <a href=\"http://track.adform.net/C/?bn=18236015\" \\n                                class=\"footer-partners__link\" \\n                                aria-label=\"Oppo\" \\n                                target=\"_blank\" \\n                                title=\"Oppo\"\\n                                    data-widget=\"impression-tracker\"\\n                                    data-tracking-url=\"https://track.adform.net/adfserve/?bn=18236015;srctype=4;ord=%%ADFRND%%\"\\n                                >\\n\\n                        <img class=\"footer-partners__image\" src=\"https://resources.pulse.icc-cricket.com/photo-resources/2021/08/31/5c9ecb73-d29e-44ce-8857-8c25baebb487/Asset-25.png?width=135\" alt=\"Oppo\" />\\n\\n                            </a>\\n                    </div>\\n                    <div class=\"footer-partners__item\">\\n\\n                            <a href=\"http://track.adform.net/C/?bn=18235782\" \\n                                class=\"footer-partners__link\" \\n                                aria-label=\"MRF Tyres\" \\n                                target=\"_blank\" \\n                                title=\"MRF Tyres\"\\n                                    data-widget=\"impression-tracker\"\\n                                    data-tracking-url=\"https://track.adform.net/adfserve/?bn=18235782;srctype=4;ord=%%ADFRND%%\"\\n                                >\\n\\n                        <img class=\"footer-partners__image\" src=\"https://resources.pulse.icc-cricket.com/photo-resources/2021/08/31/b4ffb788-62cf-4d63-9f2c-faf38bf11c0d/Asset-22.png?width=135\" alt=\"MRF Tyres\" />\\n\\n                            </a>\\n                    </div>\\n                    <div class=\"footer-partners__item\">\\n\\n                            <a href=\"https://www.booking.com/\" \\n                                class=\"footer-partners__link\" \\n                                aria-label=\"Booking\" \\n                                target=\"_blank\" \\n                                title=\"Booking\"\\n                                >\\n\\n                        <img class=\"footer-partners__image\" src=\"https://resources.pulse.icc-cricket.com/photo-resources/2021/08/31/f5c5d674-4d32-49ad-903c-fa870a649c31/Asset-23.png?width=135\" alt=\"Booking\" />\\n\\n                            </a>\\n                    </div>\\n                    <div class=\"footer-partners__item\">\\n\\n                            <a href=\"https://byjus.com/\" \\n                                class=\"footer-partners__link\" \\n                                aria-label=\"BYJU\\'s\" \\n                                target=\"_blank\" \\n                                title=\"BYJU\\'s\"\\n                                >\\n\\n                        <img class=\"footer-partners__image\" src=\"https://resources.pulse.icc-cricket.com/photo-resources/2021/08/31/b37bde43-478a-40da-bf89-9de471dfa47f/Asset-24.png?width=135\" alt=\"BYJU\" />\\n\\n                            </a>\\n                    </div>\\n                    <div class=\"footer-partners__item\">\\n\\n                            <a href=\"https://postpe.app/\" \\n                                class=\"footer-partners__link\" \\n                                aria-label=\"PostPe\" \\n                                 \\n                                title=\"PostPe\"\\n                                >\\n\\n                        <img class=\"footer-partners__image\" src=\"https://resources.pulse.icc-cricket.com/photo-resources/2021/09/17/621cb55c-071a-47c6-a879-2b5e267730a9/postpe-logo.png?width=135\" alt=\"PostPe\" />\\n\\n                            </a>\\n                    </div>\\n                    <div class=\"footer-partners__item\">\\n\\n                            <a href=\"http://track.adform.net/C/?bn=18236184\" \\n                                class=\"footer-partners__link\" \\n                                aria-label=\"Emirates\" \\n                                target=\"_blank\" \\n                                title=\"Emirates\"\\n                                    data-widget=\"impression-tracker\"\\n                                    data-tracking-url=\"https://track.adform.net/adfserve/?bn=18236184;srctype=4;ord=%%ADFRND%%\"\\n                                >\\n\\n                        <img class=\"footer-partners__image\" src=\"https://resources.pulse.icc-cricket.com/photo-resources/2021/08/31/75e12e44-d076-47f7-81d9-7de8b924b4f1/Asset-21.png?width=135\" alt=\"Emirates\" />\\n\\n                            </a>\\n                    </div>\\n            </div>\\n        </section>\\n    </div>\\n                    <section class=\"footer-partners__list footer-partners__list--double u-hide-desktop\">\\n\\n    <div class=\"footer-partners__top-row-item\">\\n        <section class=\"footer-partners__group\">\\n                <h5 class=\"footer-partners__subtitle\">Partners</h5>\\n            <div class=\"footer-partners__inline-list\">\\n                    <div class=\"footer-partners__item\">\\n\\n                            <a href=\"http://track.adform.net/C/?bn=18236015\" \\n                                class=\"footer-partners__link\" \\n                                aria-label=\"Oppo\" \\n                                target=\"_blank\" \\n                                title=\"Oppo\"\\n                                    data-widget=\"impression-tracker\"\\n                                    data-tracking-url=\"https://track.adform.net/adfserve/?bn=18236015;srctype=4;ord=%%ADFRND%%\"\\n                                >\\n\\n                        <img class=\"footer-partners__image\" src=\"https://resources.pulse.icc-cricket.com/photo-resources/2021/08/31/5c9ecb73-d29e-44ce-8857-8c25baebb487/Asset-25.png?width=135\" alt=\"Oppo\" />\\n\\n                            </a>\\n                    </div>\\n                    <div class=\"footer-partners__item\">\\n\\n                            <a href=\"http://track.adform.net/C/?bn=18235782\" \\n                                class=\"footer-partners__link\" \\n                                aria-label=\"MRF Tyres\" \\n                                target=\"_blank\" \\n                                title=\"MRF Tyres\"\\n                                    data-widget=\"impression-tracker\"\\n                                    data-tracking-url=\"https://track.adform.net/adfserve/?bn=18235782;srctype=4;ord=%%ADFRND%%\"\\n                                >\\n\\n                        <img class=\"footer-partners__image\" src=\"https://resources.pulse.icc-cricket.com/photo-resources/2021/08/31/b4ffb788-62cf-4d63-9f2c-faf38bf11c0d/Asset-22.png?width=135\" alt=\"MRF Tyres\" />\\n\\n                            </a>\\n                    </div>\\n                    <div class=\"footer-partners__item\">\\n\\n                            <a href=\"https://www.booking.com/\" \\n                                class=\"footer-partners__link\" \\n                                aria-label=\"Booking\" \\n                                target=\"_blank\" \\n                                title=\"Booking\"\\n                                >\\n\\n                        <img class=\"footer-partners__image\" src=\"https://resources.pulse.icc-cricket.com/photo-resources/2021/08/31/f5c5d674-4d32-49ad-903c-fa870a649c31/Asset-23.png?width=135\" alt=\"Booking\" />\\n\\n                            </a>\\n                    </div>\\n                    <div class=\"footer-partners__item\">\\n\\n                            <a href=\"https://byjus.com/\" \\n                                class=\"footer-partners__link\" \\n                                aria-label=\"BYJU\\'s\" \\n                                target=\"_blank\" \\n                                title=\"BYJU\\'s\"\\n                                >\\n\\n                        <img class=\"footer-partners__image\" src=\"https://resources.pulse.icc-cricket.com/photo-resources/2021/08/31/b37bde43-478a-40da-bf89-9de471dfa47f/Asset-24.png?width=135\" alt=\"BYJU\" />\\n\\n                            </a>\\n                    </div>\\n                    <div class=\"footer-partners__item\">\\n\\n                            <a href=\"https://postpe.app/\" \\n                                class=\"footer-partners__link\" \\n                                aria-label=\"PostPe\" \\n                                 \\n                                title=\"PostPe\"\\n                                >\\n\\n                        <img class=\"footer-partners__image\" src=\"https://resources.pulse.icc-cricket.com/photo-resources/2021/09/17/621cb55c-071a-47c6-a879-2b5e267730a9/postpe-logo.png?width=135\" alt=\"PostPe\" />\\n\\n                            </a>\\n                    </div>\\n                    <div class=\"footer-partners__item\">\\n\\n                            <a href=\"http://track.adform.net/C/?bn=18236184\" \\n                                class=\"footer-partners__link\" \\n                                aria-label=\"Emirates\" \\n                                target=\"_blank\" \\n                                title=\"Emirates\"\\n                                    data-widget=\"impression-tracker\"\\n                                    data-tracking-url=\"https://track.adform.net/adfserve/?bn=18236184;srctype=4;ord=%%ADFRND%%\"\\n                                >\\n\\n                        <img class=\"footer-partners__image\" src=\"https://resources.pulse.icc-cricket.com/photo-resources/2021/08/31/75e12e44-d076-47f7-81d9-7de8b924b4f1/Asset-21.png?width=135\" alt=\"Emirates\" />\\n\\n                            </a>\\n                    </div>\\n            </div>\\n        </section>\\n    </div>\\n                \\n\\n\\n\\n\\n    <div class=\"footer-partners__top-row-item\">\\n        <section class=\"footer-partners__group\">\\n                <h5 class=\"footer-partners__subtitle\">Broadcast Partner</h5>\\n            <div class=\"footer-partners__inline-list\">\\n                    <div class=\"footer-partners__item\">\\n\\n                            <a href=\"http://track.adform.net/C/?bn=18238489\" \\n                                class=\"footer-partners__link\" \\n                                aria-label=\"Star Sports\" \\n                                target=\"_blank\" \\n                                title=\"Star Sports\"\\n                                    data-widget=\"impression-tracker\"\\n                                    data-tracking-url=\"https://track.adform.net/adfserve/?bn=18238489;srctype=4;ord=%%ADFRND%%\"\\n                                >\\n\\n                        <img class=\"footer-partners__image\" src=\"https://resources.pulse.icc-cricket.com/photo-resources/2021/08/31/a60ab29a-7a03-4d1d-8c2e-ee9bcf06b691/Asset-33.png?width=135\" alt=\"Star Sports\" />\\n\\n                            </a>\\n                    </div>\\n            </div>\\n        </section>\\n    </div>\\n                \\n                    </section>\\n    <div class=\"footer-partners__list footer-partners__list--broadcast u-show-desktop\">\\n        <section class=\"footer-partners__group\">\\n                <h5 class=\"footer-partners__subtitle\">Broadcast Partner</h5>\\n            <div class=\"footer-partners__inline-list\">\\n                    <div class=\"footer-partners__item\">\\n\\n                            <a href=\"http://track.adform.net/C/?bn=18238489\" \\n                                class=\"footer-partners__link\" \\n                                aria-label=\"Star Sports\" \\n                                target=\"_blank\" \\n                                title=\"Star Sports\"\\n                                    data-widget=\"impression-tracker\"\\n                                    data-tracking-url=\"https://track.adform.net/adfserve/?bn=18238489;srctype=4;ord=%%ADFRND%%\"\\n                                >\\n\\n                        <img class=\"footer-partners__image\" src=\"https://resources.pulse.icc-cricket.com/photo-resources/2021/08/31/a60ab29a-7a03-4d1d-8c2e-ee9bcf06b691/Asset-33.png?width=135\" alt=\"Star Sports\" />\\n\\n                            </a>\\n                    </div>\\n            </div>\\n        </section>\\n    </div>\\n\\n\\n\\n\\n    <div class=\"footer-partners__list\">\\n        <section class=\"footer-partners__group\">\\n            <div class=\"footer-partners__inline-list\">\\n                    <div class=\"footer-partners__item\">\\n\\n                            <a href=\"https://www.moneygram.com/\" \\n                                class=\"footer-partners__link\" \\n                                aria-label=\"MoneyGram\" \\n                                 \\n                                title=\"MoneyGram\"\\n                                >\\n\\n                        <img class=\"footer-partners__image\" src=\"https://resources.pulse.icc-cricket.com/photo-resources/2021/09/21/6aa2df63-67f4-4152-a92e-251431bce1ee/money-grab.png?width=120\" alt=\"MoneyGram\" />\\n\\n                            </a>\\n                    </div>\\n                    <div class=\"footer-partners__item\">\\n\\n                            <a href=\"https://www.bira91.com/\" \\n                                class=\"footer-partners__link\" \\n                                aria-label=\"Bira 91\" \\n                                target=\"_blank\" \\n                                title=\"Bira 91\"\\n                                >\\n\\n                        <img class=\"footer-partners__image\" src=\"https://resources.pulse.icc-cricket.com/photo-resources/2021/09/21/0e0d38a9-8316-4085-b441-c44d3b5fecf4/Asset-29.png?width=120\" alt=\"Bira 91\" />\\n\\n                            </a>\\n                    </div>\\n                    <div class=\"footer-partners__item\">\\n\\n                            <a href=\"http://track.adform.net/C/?bn=18238489\" \\n                                class=\"footer-partners__link\" \\n                                aria-label=\"Star Sports\" \\n                                 \\n                                title=\"Star Sports\"\\n                                >\\n\\n                        <img class=\"footer-partners__image\" src=\"https://resources.pulse.icc-cricket.com/photo-resources/2021/09/21/6e68fc8a-6c13-4c71-b2d9-09384c5e4b0c/star-sport.png?width=120\" alt=\"Star Sports\" />\\n\\n                            </a>\\n                    </div>\\n                    <div class=\"footer-partners__item\">\\n\\n                            <a href=\"https://www.coca-colaindia.com/\" \\n                                class=\"footer-partners__link\" \\n                                aria-label=\"Coca Cola\" \\n                                target=\"_blank\" \\n                                title=\"Coca Cola\"\\n                                >\\n\\n                        <img class=\"footer-partners__image\" src=\"https://resources.pulse.icc-cricket.com/photo-resources/2021/09/21/aacd9142-9986-4f76-9d3f-c62c30b1e22a/Asset-28.png?width=120\" alt=\"Coca Cola\" />\\n\\n                            </a>\\n                    </div>\\n                    <div class=\"footer-partners__item\">\\n\\n                            <a href=\"https://upstox.com/\" \\n                                class=\"footer-partners__link\" \\n                                aria-label=\"Upstox\" \\n                                target=\"_blank\" \\n                                title=\"Upstox\"\\n                                >\\n\\n                        <img class=\"footer-partners__image\" src=\"https://resources.pulse.icc-cricket.com/photo-resources/2021/09/21/9a7fe4f6-9192-45fb-aabf-26edc4e05967/Asset-31.png?width=120\" alt=\"Upstox\" />\\n\\n                            </a>\\n                    </div>\\n                    <div class=\"footer-partners__item\">\\n\\n                            <a href=\"http://track.adform.net/C/?bn=18235072\" \\n                                class=\"footer-partners__link\" \\n                                aria-label=\"Nissan\" \\n                                target=\"_blank\" \\n                                title=\"Nissan\"\\n                                    data-widget=\"impression-tracker\"\\n                                    data-tracking-url=\"https://track.adform.net/adfserve/?bn=18235072;srctype=4;ord=%%ADFRND%%\"\\n                                >\\n\\n                        <img class=\"footer-partners__image\" src=\"https://resources.pulse.icc-cricket.com/photo-resources/2021/09/21/da991c66-837c-4381-b49e-6b0a076c5ddd/Asset-30.png?width=120\" alt=\"Nissan\" />\\n\\n                            </a>\\n                    </div>\\n            </div>\\n        </section>\\n    </div>\\n                \\n\\n\\n\\n\\n    <div class=\"footer-partners__list\">\\n        <section class=\"footer-partners__group\">\\n            <div class=\"footer-partners__inline-list\">\\n                    <div class=\"footer-partners__item\">\\n\\n                            <a href=\"https://www.pernod-ricard.com/en/brands/our-brands/royal-stag/\" \\n                                class=\"footer-partners__link\" \\n                                aria-label=\"Royal Stag\" \\n                                target=\"_blank\" \\n                                title=\"Royal Stag\"\\n                                >\\n\\n                        <img class=\"footer-partners__image\" src=\"https://resources.pulse.icc-cricket.com/photo-resources/2021/09/21/5e565b74-7cf6-4fbd-9ea7-b216b4c1e073/Asset-27.png?width=105\" alt=\"Royal Stag\" />\\n\\n                            </a>\\n                    </div>\\n                    <div class=\"footer-partners__item\">\\n\\n                            <a href=\"https://www.dream11.com/\" \\n                                class=\"footer-partners__link\" \\n                                aria-label=\"Dream11\" \\n                                target=\"_blank\" \\n                                title=\"Dream11\"\\n                                >\\n\\n                        <img class=\"footer-partners__image\" src=\"https://resources.pulse.icc-cricket.com/photo-resources/2021/09/21/f7aa7dcb-99ec-4dd4-878b-56e00957c175/Asset-26.png?width=105\" alt=\"Dream11\" />\\n\\n                            </a>\\n                    </div>\\n                    <div class=\"footer-partners__item\">\\n\\n                            <a href=\"https://www.jacobscreek.com/en-gb\" \\n                                class=\"footer-partners__link\" \\n                                aria-label=\"Jacobs Creek\" \\n                                target=\"_blank\" \\n                                title=\"Jacobs Creek\"\\n                                >\\n\\n                        <img class=\"footer-partners__image\" src=\"https://resources.pulse.icc-cricket.com/photo-resources/2021/09/21/87d0cfad-9081-4664-b4dc-f68bdc41ddfc/Asset-20.png?width=105\" alt=\"Jacobs Creek\" />\\n\\n                            </a>\\n                    </div>\\n            </div>\\n        </section>\\n    </div>\\n                \\n\\n\\n\\n\\n    <div class=\"footer-partners__list\">\\n        <section class=\"footer-partners__group\">\\n                <h5 class=\"footer-partners__subtitle\">Social Responsibility</h5>\\n            <div class=\"footer-partners__inline-list\">\\n                    <div class=\"footer-partners__item\">\\n\\n                            <a href=\"https://www.icc-cricket.com/about/the-icc/cricket-for-good\" \\n                                class=\"footer-partners__link\" \\n                                aria-label=\"Cricket for Good\" \\n                                target=\"_blank\" \\n                                title=\"Cricket for Good\"\\n                                >\\n\\n                        <img class=\"footer-partners__image\" src=\"https://resources.pulse.icc-cricket.com/photo-resources/2021/08/31/0424a373-6075-4a2e-b4c0-7eafd21bf81c/partner-cricket4good.png?width=126\" alt=\"Cricket for Good\" />\\n\\n                            </a>\\n                    </div>\\n            </div>\\n        </section>\\n    </div>\\n                \\n\\n    </section>\\n</div>\\n<div class=\"global-footer \">\\n    <div class=\"wrapper\">\\n        \\n\\n<div class=\"col-12\">\\n    <div class=\"global-footer__social-container\">\\n        \\n    <ul class=\"social-follow-footer\">\\n        <h5 class=\"social-follow-footer__subtitle\">Follow <span class=\"u-italics\">ICC</span> On social</h5>\\n                <li class=\"social-follow-footer__item\">\\n                    <a href=\"https://www.facebook.com/icc/\" class=\"social-follow-footer__link facebook\" target=\"_blank\">\\n                        <span class=\"icn icn-facebook-circle u-hide-phablet\"></span>\\n                        <span class=\"icn icn-facebook-circle-small u-show-phablet\"></span>\\n                    </a>\\n                </li>\\n                <li class=\"social-follow-footer__item\">\\n                    <a href=\"https://twitter.com/ICC\" class=\"social-follow-footer__link twitter\" target=\"_blank\">\\n                        <span class=\"icn icn-twitter-circle u-hide-phablet\"></span>\\n                        <span class=\"icn icn-twitter-circle-small u-show-phablet\"></span>\\n                    </a>\\n                </li>\\n                <li class=\"social-follow-footer__item\">\\n                    <a href=\"https://www.instagram.com/icc/\" class=\"social-follow-footer__link instagram\" target=\"_blank\">\\n                        <span class=\"icn icn-instagram-circle u-hide-phablet\"></span>\\n                        <span class=\"icn icn-instagram-circle-small u-show-phablet\"></span>\\n                    </a>\\n                </li>\\n                <li class=\"social-follow-footer__item\">\\n                    <a href=\"https://www.youtube.com/user/CricketICC\" class=\"social-follow-footer__link youtube\" target=\"_blank\">\\n                        <span class=\"icn icn-youtube-circle u-hide-phablet\"></span>\\n                        <span class=\"icn icn-youtube-circle-small u-show-phablet\"></span>\\n                    </a>\\n                </li>\\n                <li class=\"social-follow-footer__item\">\\n                    <a href=\"https://www.tiktok.com/@icc\" class=\"social-follow-footer__link tiktok\" target=\"_blank\">\\n                        <span class=\"icn icn-tiktok-circle u-hide-phablet\"></span>\\n                        <span class=\"icn icn-tiktok-circle-small u-show-phablet\"></span>\\n                    </a>\\n                </li>\\n    </ul>\\n\\n    </div>\\n    <div class=\"global-footer__branding\">\\n        <a href=\"/\" class=\"global-footer__branding-link\"><div class=\"icn icn-logo-icc-footer\"></div></a>\\n    </div>\\n    <div class=\"global-footer__lists\">\\n                    <ul class=\"global-footer__list\">\\n\\t                   <h4 class=\"global-footer__title\">Cricket</h4>\\n                    <li class=\"global-footer__item\"><a class=\"global-footer__link\"href=\"http://www.icc-cricket.com/live-cricket/live\" >\\n                    \\tLive Scores Index\\n                \\t</a></li>\\n                    <li class=\"global-footer__item\"><a class=\"global-footer__link\"href=\"http://www.icc-cricket.com/live-cricket/mens-results\" >\\n                    \\tMen\\'s Results\\n                \\t</a></li>\\n                    <li class=\"global-footer__item\"><a class=\"global-footer__link\"href=\"http://www.icc-cricket.com/live-cricket/womens-results\" >\\n                    \\tWomen\\'s Results\\n                \\t</a></li>\\n\\t                </ul>\\n                    <ul class=\"global-footer__list\">\\n\\t                   <h4 class=\"global-footer__title\">ICC Events</h4>\\n                    <li class=\"global-footer__item\"><a class=\"global-footer__link\"href=\"https://www.t20worldcup.com\" >\\n                    \\tICC T20 World Cup\\n                \\t</a></li>\\n                    <li class=\"global-footer__item\"><a class=\"global-footer__link\"href=\"https://www.cricketworldcup.com/\" >\\n                    \\tICC Cricket World Cup\\n                \\t</a></li>\\n                    <li class=\"global-footer__item\"><a class=\"global-footer__link\"href=\"http://www.icc-cricket.com//world-test-championship\" >\\n                    \\tICC World Test Championship\\n                \\t</a></li>\\n                    <li class=\"global-footer__item\"><a class=\"global-footer__link\"href=\"http://www.icc-cricket.com/u19-world-cup/index.html\" >\\n                    \\tICC U19 Cricket World Cup\\n                \\t</a></li>\\n                    <li class=\"global-footer__item\"><a class=\"global-footer__link\"href=\"http://www.icc-cricket.com/champions-trophy\" >\\n                    \\tICC Champions Trophy\\n                \\t</a></li>\\n                    <li class=\"global-footer__item\"><a class=\"global-footer__link\"href=\"http://www.icc-cricket.com//cricket-world-cup-super-league/fixtures\" >\\n                    \\tICC Men\\'s Cricket World Cup Super League\\n                \\t</a></li>\\n                    <li class=\"global-footer__item\"><a class=\"global-footer__link\"href=\"http://www.icc-cricket.com/cricket-world-cup-challenge-league/news\" >\\n                    \\tICC Men\\'s Cricket World Cup Challenge League\\n                \\t</a></li>\\n                    <li class=\"global-footer__item\"><a class=\"global-footer__link\"href=\"http://www.icc-cricket.com/cricket-world-cup-league-two/news\" >\\n                    \\tICC Men\\'s Cricket World Cup League 2\\n                \\t</a></li>\\n                    <li class=\"global-footer__item\"><a class=\"global-footer__link\"href=\"http://www.icc-cricket.com/womens-championship\" >\\n                    \\tICC Women\\'s Championship\\n                \\t</a></li>\\n                    <li class=\"global-footer__item\"><a class=\"global-footer__link\"href=\"http://www.icc-cricket.com/event-status\" >\\n                    \\t2021 Event status\\n                \\t</a></li>\\n\\t                </ul>\\n                    <ul class=\"global-footer__list\">\\n\\t                   <h4 class=\"global-footer__title\">Rankings</h4>\\n                    <li class=\"global-footer__item\"><a class=\"global-footer__link\"href=\"http://www.icc-cricket.com/rankings/mens/overview\" >\\n                    \\tOverview\\n                \\t</a></li>\\n                    <li class=\"global-footer__item\"><a class=\"global-footer__link\"href=\"http://www.icc-cricket.com/rankings/mens/team-rankings/test\" >\\n                    \\tTeam Rankings\\n                \\t</a></li>\\n                    <li class=\"global-footer__item\"><a class=\"global-footer__link\"href=\"https://www.icc-cricket.com/rankings/mens/player-rankings/\" >\\n                    \\tPlayer Rankings\\n                \\t</a></li>\\n                    <li class=\"global-footer__item\"><a class=\"global-footer__link\"href=\"http://www.icc-cricket.com/rankings/mens/rankings-predictor/\" >\\n                    \\tRankings Predictor\\n                \\t</a></li>\\n                    <li class=\"global-footer__item\"><a class=\"global-footer__link\"href=\"http://www.icc-cricket.com/rankings/about\" >\\n                    \\tAbout the Rankings\\n                \\t</a></li>\\n                    <li class=\"global-footer__item\"><a class=\"global-footer__link\"href=\"http://www.icc-cricket.com/rankings/faqs\" >\\n                    \\tRankings FAQs\\n                \\t</a></li>\\n\\t                </ul>\\n                    <ul class=\"global-footer__list\">\\n\\t                   <h4 class=\"global-footer__title\">News and Video</h4>\\n                    <li class=\"global-footer__item\"><a class=\"global-footer__link\"href=\"http://www.icc-cricket.com/news\" >\\n                    \\tNews Index\\n                \\t</a></li>\\n                    <li class=\"global-footer__item\"><a class=\"global-footer__link\"href=\"http://www.icc-cricket.com/media-releases\" >\\n                    \\tMedia Releases\\n                \\t</a></li>\\n                    <li class=\"global-footer__item\"><a class=\"global-footer__link\"href=\"http://www.icc-cricket.com/video\" >\\n                    \\tVideo Home\\n                \\t</a></li>\\n                    <li class=\"global-footer__item\"><a class=\"global-footer__link\"href=\"http://www.icc-cricket.com/photos\" >\\n                    \\tPhotos\\n                \\t</a></li>\\n\\t                </ul>\\n                    <ul class=\"global-footer__list\">\\n\\t                   <h4 class=\"global-footer__title\">More</h4>\\n                    <li class=\"global-footer__item\"><a class=\"global-footer__link\"href=\"http://www.icc-cricket.com/social\" >\\n                    \\tICC on Social\\n                \\t</a></li>\\n                    <li class=\"global-footer__item\"><a class=\"global-footer__link\"href=\"http://www.icc-cricket.com/awards/overview\" >\\n                    \\tAwards\\n                \\t</a></li>\\n                    <li class=\"global-footer__item\"><a class=\"global-footer__link\"href=\"http://www.icc-cricket.com/hall-of-fame\" >\\n                    \\tHall of Fame\\n                \\t</a></li>\\n                    <li class=\"global-footer__item\"><a class=\"global-footer__link\"href=\"http://www.icc-cricket.com/mobile\" >\\n                    \\tICC on Mobile\\n                \\t</a></li>\\n                    <li class=\"global-footer__item\"><a class=\"global-footer__link\"href=\"http://www.icc-cricket.com/about\" target=\"_blank\">\\n                    \\t\\t<svg class=\"icon\"><use xmlns:xlink=\"http://www.w3.org/1999/xlink\" xlink:href=\"/resources/prod/v8.20.1/i/svg-output/icons.svg#icn-link-external\"></use></svg>\\n                    \\tAbout ICC\\n                \\t</a></li>\\n                    <li class=\"global-footer__item\"><a class=\"global-footer__link\"href=\"http://www.icc-cricket.com/media-zone/\" target=\"_blank\">\\n                    \\t\\t<svg class=\"icon\"><use xmlns:xlink=\"http://www.w3.org/1999/xlink\" xlink:href=\"/resources/prod/v8.20.1/i/svg-output/icons.svg#icn-link-external\"></use></svg>\\n                    \\tMediaZone\\n                \\t</a></li>\\n                    <li class=\"global-footer__item\"><a class=\"global-footer__link\"href=\"https://www.t20worldcupshop.com/\" target=\"_blank\">\\n                    \\t\\t<svg class=\"icon\"><use xmlns:xlink=\"http://www.w3.org/1999/xlink\" xlink:href=\"/resources/prod/v8.20.1/i/svg-output/icons.svg#icn-link-external\"></use></svg>\\n                    \\tT20 Shop\\n                \\t</a></li>\\n\\t                </ul>\\n    </div>\\n</div>\\n\\n    </div>\\n    \\n<nav class=\"global-footer-corporate\" role=\"navigation\" aria-label=\"footer policy links\">\\n\\n        <ul class=\"global-footer-corporate__list\">\\n                <li class=\"global-footer-corporate__item\" role=\"menuitem\">\\n                    <a class=\"global-footer-corporate__link\" href=\"http://www.icc-cricket.com/about/the-icc/legal-notices/website-terms-of-use\" >\\n                        Legal Notice\\n                    </a>\\n                </li>\\n                <li class=\"global-footer-corporate__item\" role=\"menuitem\">\\n                    <a class=\"global-footer-corporate__link\" href=\"http://www.icc-cricket.com/about/the-icc/legal-notices/privacy-policy\" >\\n                        Privacy Policy\\n                    </a>\\n                </li>\\n            <li class=\"global-footer-corporate__item\">2021 &copy; International Cricket Council FZ LLC</li>\\n        </ul>\\n\\n</nav>\\n\\n</div>\\n</body>\\n</html>\\n\\n\\n</footer>\\n\\n    \\n    \\n    \\n\\n    <script src=\"/resources/prod/v8.20.1/scripts/vendors.min.js\"></script>\\n    <script src=\"/resources/prod/v8.20.1/scripts/client.min.js\"></script>\\n\\n    <!--[if IE]> -->\\n    <script type=\"text/javascript\">\\n        svg4everybody();\\n    </script>\\n    <!-- <![endif]-->\\n</body>\\n</html>\\n'"
      ]
     },
     "execution_count": 21,
     "metadata": {},
     "output_type": "execute_result"
    }
   ],
   "source": [
    "from bs4 import BeautifulSoup\n",
    "import requests\n",
    "import pandas as pd\n",
    "\n",
    "# sending request to the web page to get the required information\n",
    "page=requests.get(\"https://www.icc-cricket.com/rankings/womens/player-rankings/odi\")                    \n",
    "page.content"
   ]
  },
  {
   "cell_type": "code",
   "execution_count": 22,
   "metadata": {},
   "outputs": [],
   "source": [
    "soup=BeautifulSoup(page.content)\n"
   ]
  },
  {
   "cell_type": "code",
   "execution_count": 23,
   "metadata": {},
   "outputs": [
    {
     "data": {
      "text/plain": [
       "[<td class=\"table-body__cell name\">\n",
       " <a href=\"/rankings/womens/player-rankings/466\">Alyssa Healy</a>\n",
       " </td>,\n",
       " <td class=\"table-body__cell name\">\n",
       " <a href=\"/rankings/womens/player-rankings/558\">Mithali Raj</a>\n",
       " </td>,\n",
       " <td class=\"table-body__cell name\">\n",
       " <a href=\"/rankings/womens/player-rankings/545\">Tammy Beaumont</a>\n",
       " </td>,\n",
       " <td class=\"table-body__cell name\">\n",
       " <a href=\"/rankings/womens/player-rankings/487\">Amy Satterthwaite</a>\n",
       " </td>,\n",
       " <td class=\"table-body__cell name\">\n",
       " <a href=\"/rankings/womens/player-rankings/1809\">Smriti Mandhana</a>\n",
       " </td>,\n",
       " <td class=\"table-body__cell name\">\n",
       " <a href=\"/rankings/womens/player-rankings/469\">Meg Lanning</a>\n",
       " </td>,\n",
       " <td class=\"table-body__cell name\">\n",
       " <a href=\"/rankings/womens/player-rankings/1817\">Beth Mooney</a>\n",
       " </td>,\n",
       " <td class=\"table-body__cell name\">\n",
       " <a href=\"/rankings/womens/player-rankings/552\">Heather Knight</a>\n",
       " </td>,\n",
       " <td class=\"table-body__cell name\">\n",
       " <a href=\"/rankings/womens/player-rankings/3176\">Laura Wolvaardt</a>\n",
       " </td>,\n",
       " <td class=\"table-body__cell name\">\n",
       " <a href=\"/rankings/womens/player-rankings/562\">Jhulan Goswami</a>\n",
       " </td>,\n",
       " <td class=\"table-body__cell name\">\n",
       " <a href=\"/rankings/womens/player-rankings/997\">Megan Schutt</a>\n",
       " </td>,\n",
       " <td class=\"table-body__cell name\">\n",
       " <a href=\"/rankings/womens/player-rankings/424\">Marizanne Kapp</a>\n",
       " </td>,\n",
       " <td class=\"table-body__cell name\">\n",
       " <a href=\"/rankings/womens/player-rankings/3337\">Sophie Ecclestone</a>\n",
       " </td>,\n",
       " <td class=\"table-body__cell name\">\n",
       " <a href=\"/rankings/womens/player-rankings/423\">Shabnim Ismail</a>\n",
       " </td>,\n",
       " <td class=\"table-body__cell name\">\n",
       " <a href=\"/rankings/womens/player-rankings/547\">Katherine Brunt</a>\n",
       " </td>,\n",
       " <td class=\"table-body__cell name\">\n",
       " <a href=\"/rankings/womens/player-rankings/425\">Ayabonga Khaka</a>\n",
       " </td>,\n",
       " <td class=\"table-body__cell name\">\n",
       " <a href=\"/rankings/womens/player-rankings/555\">Anya Shrubsole</a>\n",
       " </td>,\n",
       " <td class=\"table-body__cell name\">\n",
       " <a href=\"/rankings/womens/player-rankings/1798\">Kate Cross</a>\n",
       " </td>,\n",
       " <td class=\"table-body__cell name\">\n",
       " <a href=\"/rankings/womens/player-rankings/1800\">Natalie Sciver</a>\n",
       " </td>,\n",
       " <td class=\"table-body__cell name\">\n",
       " <a href=\"/rankings/womens/player-rankings/471\">Ellyse Perry</a>\n",
       " </td>,\n",
       " <td class=\"table-body__cell name\">\n",
       " <a href=\"/rankings/womens/player-rankings/573\">Stafanie Taylor</a>\n",
       " </td>,\n",
       " <td class=\"table-body__cell name\">\n",
       " <a href=\"/rankings/womens/player-rankings/3192\">Deepti Sharma</a>\n",
       " </td>,\n",
       " <td class=\"table-body__cell name\">\n",
       " <a href=\"/rankings/womens/player-rankings/4128\">Ashleigh Gardner</a>\n",
       " </td>,\n",
       " <td class=\"table-body__cell name\">\n",
       " <a href=\"/rankings/womens/player-rankings/430\">Dane van Niekerk</a>\n",
       " </td>,\n",
       " <td class=\"table-body__cell name\">\n",
       " <a href=\"/rankings/womens/player-rankings/468\">Jess Jonassen</a>\n",
       " </td>,\n",
       " <td class=\"table-body__cell name\">\n",
       " <a href=\"/rankings/womens/player-rankings/547\">Katherine Brunt</a>\n",
       " </td>,\n",
       " <td class=\"table-body__cell name\">\n",
       " <a href=\"/rankings/womens/player-rankings/562\">Jhulan Goswami</a>\n",
       " </td>]"
      ]
     },
     "execution_count": 23,
     "metadata": {},
     "output_type": "execute_result"
    }
   ],
   "source": [
    "# extracting all the header tags\n",
    "# fetching all the header tiles from the website\n",
    "player=soup.find_all('td',class_=\"table-body__cell name\")\n",
    "player"
   ]
  },
  {
   "cell_type": "code",
   "execution_count": 24,
   "metadata": {},
   "outputs": [
    {
     "data": {
      "text/plain": [
       "['Alyssa Healy',\n",
       " 'Mithali Raj',\n",
       " 'Tammy Beaumont',\n",
       " 'Amy Satterthwaite',\n",
       " 'Smriti Mandhana',\n",
       " 'Meg Lanning',\n",
       " 'Beth Mooney',\n",
       " 'Heather Knight',\n",
       " 'Laura Wolvaardt']"
      ]
     },
     "execution_count": 24,
     "metadata": {},
     "output_type": "execute_result"
    }
   ],
   "source": [
    "player_names=[]\n",
    "for i in player:\n",
    "    player_names.append(i.text.replace('\\n',''))\n",
    "player_names=player_names[0:9]\n",
    "player_names"
   ]
  },
  {
   "cell_type": "code",
   "execution_count": 25,
   "metadata": {},
   "outputs": [
    {
     "data": {
      "text/plain": [
       "[<div class=\"rankings-block__banner--name\">Lizelle Lee</div>,\n",
       " <div class=\"rankings-block__banner--name\">Jess Jonassen</div>,\n",
       " <div class=\"rankings-block__banner--name\">Marizanne Kapp</div>]"
      ]
     },
     "execution_count": 25,
     "metadata": {},
     "output_type": "execute_result"
    }
   ],
   "source": [
    "playertop=soup.find_all('div',class_=\"rankings-block__banner--name\")\n",
    "playertop"
   ]
  },
  {
   "cell_type": "code",
   "execution_count": 26,
   "metadata": {},
   "outputs": [
    {
     "data": {
      "text/plain": [
       "['Lizelle Lee']"
      ]
     },
     "execution_count": 26,
     "metadata": {},
     "output_type": "execute_result"
    }
   ],
   "source": [
    "player_top=[]\n",
    "for i in playertop:\n",
    "    player_top.append(i.text)\n",
    "player_top=player_top[:1]\n",
    "player_top"
   ]
  },
  {
   "cell_type": "code",
   "execution_count": 27,
   "metadata": {},
   "outputs": [
    {
     "data": {
      "text/plain": [
       "['Lizelle Lee',\n",
       " 'Alyssa Healy',\n",
       " 'Mithali Raj',\n",
       " 'Tammy Beaumont',\n",
       " 'Amy Satterthwaite',\n",
       " 'Smriti Mandhana',\n",
       " 'Meg Lanning',\n",
       " 'Beth Mooney',\n",
       " 'Heather Knight',\n",
       " 'Laura Wolvaardt']"
      ]
     },
     "execution_count": 27,
     "metadata": {},
     "output_type": "execute_result"
    }
   ],
   "source": [
    "total_player=player_top+player_names\n",
    "total_player"
   ]
  },
  {
   "cell_type": "code",
   "execution_count": 28,
   "metadata": {},
   "outputs": [
    {
     "data": {
      "text/plain": [
       "[<div class=\"rankings-block__banner--nationality\">\n",
       " <div class=\"flag-15 SA\"></div>\n",
       " <span class=\"rankings-block__banner--nation\"></span>SA\n",
       "                             <div class=\"rankings-block__banner--rating\">761</div>\n",
       " </div>,\n",
       " <div class=\"rankings-block__banner--nationality\">\n",
       " <div class=\"flag-15 AUS\"></div>\n",
       " <span class=\"rankings-block__banner--nation\"></span>AUS\n",
       "                             <div class=\"rankings-block__banner--rating\">760</div>\n",
       " </div>,\n",
       " <div class=\"rankings-block__banner--nationality\">\n",
       " <div class=\"flag-15 SA\"></div>\n",
       " <span class=\"rankings-block__banner--nation\"></span>SA\n",
       "                             <div class=\"rankings-block__banner--rating\">384</div>\n",
       " </div>]"
      ]
     },
     "execution_count": 28,
     "metadata": {},
     "output_type": "execute_result"
    }
   ],
   "source": [
    "topteam=soup.find_all('div',class_=\"rankings-block__banner--nationality\")   \n",
    "topteam"
   ]
  },
  {
   "cell_type": "code",
   "execution_count": 29,
   "metadata": {},
   "outputs": [
    {
     "data": {
      "text/plain": [
       "['SA                            761']"
      ]
     },
     "execution_count": 29,
     "metadata": {},
     "output_type": "execute_result"
    }
   ],
   "source": [
    "team_top=[]\n",
    "for i in topteam:\n",
    "    team_top.append(i.text.replace('\\n',''))\n",
    "team_top=team_top[:1]\n",
    "team_top"
   ]
  },
  {
   "cell_type": "code",
   "execution_count": 30,
   "metadata": {},
   "outputs": [
    {
     "data": {
      "text/plain": [
       "[<span class=\"table-body__logo-text\">AUS</span>,\n",
       " <span class=\"table-body__logo-text\">IND</span>,\n",
       " <span class=\"table-body__logo-text\">ENG</span>,\n",
       " <span class=\"table-body__logo-text\">NZ</span>,\n",
       " <span class=\"table-body__logo-text\">IND</span>,\n",
       " <span class=\"table-body__logo-text\">AUS</span>,\n",
       " <span class=\"table-body__logo-text\">AUS</span>,\n",
       " <span class=\"table-body__logo-text\">ENG</span>,\n",
       " <span class=\"table-body__logo-text\">SA</span>,\n",
       " <span class=\"table-body__logo-text\">IND</span>,\n",
       " <span class=\"table-body__logo-text\">AUS</span>,\n",
       " <span class=\"table-body__logo-text\">SA</span>,\n",
       " <span class=\"table-body__logo-text\">ENG</span>,\n",
       " <span class=\"table-body__logo-text\">SA</span>,\n",
       " <span class=\"table-body__logo-text\">ENG</span>,\n",
       " <span class=\"table-body__logo-text\">SA</span>,\n",
       " <span class=\"table-body__logo-text\">ENG</span>,\n",
       " <span class=\"table-body__logo-text\">ENG</span>,\n",
       " <span class=\"table-body__logo-text\">ENG</span>,\n",
       " <span class=\"table-body__logo-text\">AUS</span>,\n",
       " <span class=\"table-body__logo-text\">WI</span>,\n",
       " <span class=\"table-body__logo-text\">IND</span>,\n",
       " <span class=\"table-body__logo-text\">AUS</span>,\n",
       " <span class=\"table-body__logo-text\">SA</span>,\n",
       " <span class=\"table-body__logo-text\">AUS</span>,\n",
       " <span class=\"table-body__logo-text\">ENG</span>,\n",
       " <span class=\"table-body__logo-text\">IND</span>]"
      ]
     },
     "execution_count": 30,
     "metadata": {},
     "output_type": "execute_result"
    }
   ],
   "source": [
    "teams=soup.find_all('span',class_=\"table-body__logo-text\")\n",
    "teams"
   ]
  },
  {
   "cell_type": "code",
   "execution_count": 31,
   "metadata": {},
   "outputs": [
    {
     "data": {
      "text/plain": [
       "['AUS', 'IND', 'ENG', 'NZ', 'IND', 'AUS', 'AUS', 'ENG', 'SA']"
      ]
     },
     "execution_count": 31,
     "metadata": {},
     "output_type": "execute_result"
    }
   ],
   "source": [
    "teams_count=[]\n",
    "for i in teams:\n",
    "    teams_count.append(i.text)\n",
    "teams_count=teams_count[0:9]\n",
    "teams_count"
   ]
  },
  {
   "cell_type": "code",
   "execution_count": 32,
   "metadata": {},
   "outputs": [
    {
     "data": {
      "text/plain": [
       "['SA                            761',\n",
       " 'AUS',\n",
       " 'IND',\n",
       " 'ENG',\n",
       " 'NZ',\n",
       " 'IND',\n",
       " 'AUS',\n",
       " 'AUS',\n",
       " 'ENG',\n",
       " 'SA']"
      ]
     },
     "execution_count": 32,
     "metadata": {},
     "output_type": "execute_result"
    }
   ],
   "source": [
    "teams_total=team_top+teams_count\n",
    "teams_total"
   ]
  },
  {
   "cell_type": "code",
   "execution_count": 33,
   "metadata": {},
   "outputs": [
    {
     "data": {
      "text/plain": [
       "[<div class=\"rankings-block__banner--rating\">761</div>,\n",
       " <div class=\"rankings-block__banner--rating\">760</div>,\n",
       " <div class=\"rankings-block__banner--rating\">384</div>]"
      ]
     },
     "execution_count": 33,
     "metadata": {},
     "output_type": "execute_result"
    }
   ],
   "source": [
    "ratingstop=soup.find_all('div',class_=\"rankings-block__banner--rating\")\n",
    "ratingstop"
   ]
  },
  {
   "cell_type": "code",
   "execution_count": 34,
   "metadata": {},
   "outputs": [
    {
     "data": {
      "text/plain": [
       "['761']"
      ]
     },
     "execution_count": 34,
     "metadata": {},
     "output_type": "execute_result"
    }
   ],
   "source": [
    "ratings_top=[]\n",
    "for i in ratingstop:\n",
    "    ratings_top.append(i.text)\n",
    "ratings_top=ratings_top[:1]\n",
    "ratings_top"
   ]
  },
  {
   "cell_type": "code",
   "execution_count": 35,
   "metadata": {},
   "outputs": [
    {
     "data": {
      "text/plain": [
       "[<td class=\"table-body__cell u-text-right rating\">750</td>,\n",
       " <td class=\"table-body__cell u-text-right rating\">738</td>,\n",
       " <td class=\"table-body__cell u-text-right rating\">728</td>,\n",
       " <td class=\"table-body__cell u-text-right rating\">717</td>,\n",
       " <td class=\"table-body__cell u-text-right rating\">710</td>,\n",
       " <td class=\"table-body__cell u-text-right rating\">699</td>,\n",
       " <td class=\"table-body__cell u-text-right rating\">690</td>,\n",
       " <td class=\"table-body__cell u-text-right rating\">674</td>,\n",
       " <td class=\"table-body__cell u-text-right rating\">672</td>,\n",
       " <td class=\"table-body__cell u-text-right rating\">727</td>,\n",
       " <td class=\"table-body__cell u-text-right rating\">717</td>,\n",
       " <td class=\"table-body__cell u-text-right rating\">715</td>,\n",
       " <td class=\"table-body__cell u-text-right rating\">701</td>,\n",
       " <td class=\"table-body__cell u-text-right rating\">688</td>,\n",
       " <td class=\"table-body__cell u-text-right rating\">666</td>,\n",
       " <td class=\"table-body__cell u-text-right rating\">643</td>,\n",
       " <td class=\"table-body__cell u-text-right rating\">598</td>,\n",
       " <td class=\"table-body__cell u-text-right rating\">589</td>,\n",
       " <td class=\"table-body__cell u-text-right rating\">372</td>,\n",
       " <td class=\"table-body__cell u-text-right rating\">365</td>,\n",
       " <td class=\"table-body__cell u-text-right rating\">322</td>,\n",
       " <td class=\"table-body__cell u-text-right rating\">299</td>,\n",
       " <td class=\"table-body__cell u-text-right rating\">275</td>,\n",
       " <td class=\"table-body__cell u-text-right rating\">274</td>,\n",
       " <td class=\"table-body__cell u-text-right rating\">272</td>,\n",
       " <td class=\"table-body__cell u-text-right rating\">272</td>,\n",
       " <td class=\"table-body__cell u-text-right rating\">251</td>]"
      ]
     },
     "execution_count": 35,
     "metadata": {},
     "output_type": "execute_result"
    }
   ],
   "source": [
    "ratings=soup.find_all('td',class_=\"table-body__cell u-text-right rating\")\n",
    "ratings"
   ]
  },
  {
   "cell_type": "code",
   "execution_count": 36,
   "metadata": {},
   "outputs": [
    {
     "data": {
      "text/plain": [
       "['750', '738', '728', '717', '710', '699', '690', '674', '672']"
      ]
     },
     "execution_count": 36,
     "metadata": {},
     "output_type": "execute_result"
    }
   ],
   "source": [
    "ratings_count=[]\n",
    "for i in ratings:\n",
    "    ratings_count.append(i.text)\n",
    "ratings_count=ratings_count[:9]\n",
    "ratings_count"
   ]
  },
  {
   "cell_type": "code",
   "execution_count": 37,
   "metadata": {},
   "outputs": [
    {
     "data": {
      "text/plain": [
       "['761', '750', '738', '728', '717', '710', '699', '690', '674', '672']"
      ]
     },
     "execution_count": 37,
     "metadata": {},
     "output_type": "execute_result"
    }
   ],
   "source": [
    "ratings_total=ratings_top+ratings_count\n",
    "ratings_total"
   ]
  },
  {
   "cell_type": "code",
   "execution_count": 38,
   "metadata": {},
   "outputs": [
    {
     "name": "stdout",
     "output_type": "stream",
     "text": [
      "10 10 10\n"
     ]
    }
   ],
   "source": [
    "print(len(total_player),len(teams_total),len(ratings_total))"
   ]
  },
  {
   "cell_type": "code",
   "execution_count": 39,
   "metadata": {},
   "outputs": [
    {
     "data": {
      "text/html": [
       "<div>\n",
       "<style scoped>\n",
       "    .dataframe tbody tr th:only-of-type {\n",
       "        vertical-align: middle;\n",
       "    }\n",
       "\n",
       "    .dataframe tbody tr th {\n",
       "        vertical-align: top;\n",
       "    }\n",
       "\n",
       "    .dataframe thead th {\n",
       "        text-align: right;\n",
       "    }\n",
       "</style>\n",
       "<table border=\"1\" class=\"dataframe\">\n",
       "  <thead>\n",
       "    <tr style=\"text-align: right;\">\n",
       "      <th></th>\n",
       "      <th>Player Name</th>\n",
       "      <th>Team Name</th>\n",
       "      <th>Ratings</th>\n",
       "    </tr>\n",
       "  </thead>\n",
       "  <tbody>\n",
       "    <tr>\n",
       "      <th>0</th>\n",
       "      <td>Lizelle Lee</td>\n",
       "      <td>SA                            761</td>\n",
       "      <td>761</td>\n",
       "    </tr>\n",
       "    <tr>\n",
       "      <th>1</th>\n",
       "      <td>Alyssa Healy</td>\n",
       "      <td>AUS</td>\n",
       "      <td>750</td>\n",
       "    </tr>\n",
       "    <tr>\n",
       "      <th>2</th>\n",
       "      <td>Mithali Raj</td>\n",
       "      <td>IND</td>\n",
       "      <td>738</td>\n",
       "    </tr>\n",
       "    <tr>\n",
       "      <th>3</th>\n",
       "      <td>Tammy Beaumont</td>\n",
       "      <td>ENG</td>\n",
       "      <td>728</td>\n",
       "    </tr>\n",
       "    <tr>\n",
       "      <th>4</th>\n",
       "      <td>Amy Satterthwaite</td>\n",
       "      <td>NZ</td>\n",
       "      <td>717</td>\n",
       "    </tr>\n",
       "    <tr>\n",
       "      <th>5</th>\n",
       "      <td>Smriti Mandhana</td>\n",
       "      <td>IND</td>\n",
       "      <td>710</td>\n",
       "    </tr>\n",
       "    <tr>\n",
       "      <th>6</th>\n",
       "      <td>Meg Lanning</td>\n",
       "      <td>AUS</td>\n",
       "      <td>699</td>\n",
       "    </tr>\n",
       "    <tr>\n",
       "      <th>7</th>\n",
       "      <td>Beth Mooney</td>\n",
       "      <td>AUS</td>\n",
       "      <td>690</td>\n",
       "    </tr>\n",
       "    <tr>\n",
       "      <th>8</th>\n",
       "      <td>Heather Knight</td>\n",
       "      <td>ENG</td>\n",
       "      <td>674</td>\n",
       "    </tr>\n",
       "    <tr>\n",
       "      <th>9</th>\n",
       "      <td>Laura Wolvaardt</td>\n",
       "      <td>SA</td>\n",
       "      <td>672</td>\n",
       "    </tr>\n",
       "  </tbody>\n",
       "</table>\n",
       "</div>"
      ],
      "text/plain": [
       "         Player Name                          Team Name Ratings\n",
       "0        Lizelle Lee  SA                            761     761\n",
       "1       Alyssa Healy                                AUS     750\n",
       "2        Mithali Raj                                IND     738\n",
       "3     Tammy Beaumont                                ENG     728\n",
       "4  Amy Satterthwaite                                 NZ     717\n",
       "5    Smriti Mandhana                                IND     710\n",
       "6        Meg Lanning                                AUS     699\n",
       "7        Beth Mooney                                AUS     690\n",
       "8     Heather Knight                                ENG     674\n",
       "9    Laura Wolvaardt                                 SA     672"
      ]
     },
     "execution_count": 39,
     "metadata": {},
     "output_type": "execute_result"
    }
   ],
   "source": [
    "topbat=pd.DataFrame({})\n",
    "topbat['Player Name']=total_player\n",
    "topbat['Team Name']=teams_total\n",
    "topbat['Ratings']=ratings_total\n",
    "\n",
    "topbat"
   ]
  },
  {
   "cell_type": "markdown",
   "metadata": {},
   "source": [
    "# iii)Top 10 women’s ODI all-rounder along with the records of their team and rating."
   ]
  },
  {
   "cell_type": "code",
   "execution_count": 47,
   "metadata": {},
   "outputs": [
    {
     "data": {
      "text/plain": [
       "['Natalie Sciver',\n",
       " 'Ellyse Perry',\n",
       " 'Stafanie Taylor',\n",
       " 'Deepti Sharma',\n",
       " 'Ashleigh Gardner',\n",
       " 'Dane van Niekerk',\n",
       " 'Jess Jonassen',\n",
       " 'Katherine Brunt',\n",
       " 'Jhulan Goswami']"
      ]
     },
     "execution_count": 47,
     "metadata": {},
     "output_type": "execute_result"
    }
   ],
   "source": [
    "allrounder_names=[]\n",
    "for i in player:\n",
    "    allrounder_names.append(i.text.replace('\\n',''))\n",
    "allrounder_names=allrounder_names[18:27]\n",
    "allrounder_names"
   ]
  },
  {
   "cell_type": "code",
   "execution_count": 48,
   "metadata": {},
   "outputs": [
    {
     "data": {
      "text/plain": [
       "['Marizanne Kapp']"
      ]
     },
     "execution_count": 48,
     "metadata": {},
     "output_type": "execute_result"
    }
   ],
   "source": [
    "allrounder_top=[]\n",
    "for i in playertop:\n",
    "    allrounder_top.append(i.text)\n",
    "allrounder_top=allrounder_top[2:3]\n",
    "allrounder_top"
   ]
  },
  {
   "cell_type": "code",
   "execution_count": 49,
   "metadata": {},
   "outputs": [
    {
     "data": {
      "text/plain": [
       "['Marizanne Kapp',\n",
       " 'Natalie Sciver',\n",
       " 'Ellyse Perry',\n",
       " 'Stafanie Taylor',\n",
       " 'Deepti Sharma',\n",
       " 'Ashleigh Gardner',\n",
       " 'Dane van Niekerk',\n",
       " 'Jess Jonassen',\n",
       " 'Katherine Brunt',\n",
       " 'Jhulan Goswami']"
      ]
     },
     "execution_count": 49,
     "metadata": {},
     "output_type": "execute_result"
    }
   ],
   "source": [
    "total_allrounder=allrounder_top+allrounder_names\n",
    "total_allrounder"
   ]
  },
  {
   "cell_type": "code",
   "execution_count": 50,
   "metadata": {},
   "outputs": [
    {
     "data": {
      "text/plain": [
       "['SA                            384']"
      ]
     },
     "execution_count": 50,
     "metadata": {},
     "output_type": "execute_result"
    }
   ],
   "source": [
    "team_top_allrounder=[]\n",
    "for i in topteam:\n",
    "    team_top_allrounder.append(i.text.replace('\\n',''))\n",
    "team_top_allrounder=team_top_allrounder[2:3]\n",
    "team_top_allrounder"
   ]
  },
  {
   "cell_type": "code",
   "execution_count": 51,
   "metadata": {},
   "outputs": [
    {
     "data": {
      "text/plain": [
       "['ENG', 'AUS', 'WI', 'IND', 'AUS', 'SA', 'AUS', 'ENG', 'IND']"
      ]
     },
     "execution_count": 51,
     "metadata": {},
     "output_type": "execute_result"
    }
   ],
   "source": [
    "teams_allrounder=[]\n",
    "for i in teams:\n",
    "    teams_allrounder.append(i.text)\n",
    "teams_allrounder=teams_allrounder[18:27]\n",
    "teams_allrounder"
   ]
  },
  {
   "cell_type": "code",
   "execution_count": 52,
   "metadata": {},
   "outputs": [
    {
     "data": {
      "text/plain": [
       "['SA                            384',\n",
       " 'ENG',\n",
       " 'AUS',\n",
       " 'WI',\n",
       " 'IND',\n",
       " 'AUS',\n",
       " 'SA',\n",
       " 'AUS',\n",
       " 'ENG',\n",
       " 'IND']"
      ]
     },
     "execution_count": 52,
     "metadata": {},
     "output_type": "execute_result"
    }
   ],
   "source": [
    "top_allrounder_team=team_top_allrounder+teams_allrounder\n",
    "top_allrounder_team"
   ]
  },
  {
   "cell_type": "code",
   "execution_count": 54,
   "metadata": {},
   "outputs": [
    {
     "data": {
      "text/plain": [
       "['384']"
      ]
     },
     "execution_count": 54,
     "metadata": {},
     "output_type": "execute_result"
    }
   ],
   "source": [
    "ratings_top_allrounder=[]\n",
    "for i in ratingstop:\n",
    "    ratings_top_allrounder.append(i.text)\n",
    "ratings_top_allrounder=ratings_top_allrounder[2:3]\n",
    "ratings_top_allrounder"
   ]
  },
  {
   "cell_type": "code",
   "execution_count": 56,
   "metadata": {},
   "outputs": [
    {
     "data": {
      "text/plain": [
       "['372', '365', '322', '299', '275', '274', '272', '272', '251']"
      ]
     },
     "execution_count": 56,
     "metadata": {},
     "output_type": "execute_result"
    }
   ],
   "source": [
    "ratings_count_allrounder=[]\n",
    "for i in ratings:\n",
    "    ratings_count_allrounder.append(i.text)\n",
    "ratings_count_allrounder=ratings_count_allrounder[18:27]\n",
    "ratings_count_allrounder"
   ]
  },
  {
   "cell_type": "code",
   "execution_count": 57,
   "metadata": {},
   "outputs": [
    {
     "data": {
      "text/plain": [
       "['384', '372', '365', '322', '299', '275', '274', '272', '272', '251']"
      ]
     },
     "execution_count": 57,
     "metadata": {},
     "output_type": "execute_result"
    }
   ],
   "source": [
    "top_allrounder_ratings=ratings_top_allrounder+ratings_count_allrounder\n",
    "top_allrounder_ratings"
   ]
  },
  {
   "cell_type": "code",
   "execution_count": 58,
   "metadata": {},
   "outputs": [
    {
     "name": "stdout",
     "output_type": "stream",
     "text": [
      "10 10 10\n"
     ]
    }
   ],
   "source": [
    "print(len(total_allrounder),len(top_allrounder_team),len(top_allrounder_ratings))"
   ]
  },
  {
   "cell_type": "code",
   "execution_count": 60,
   "metadata": {},
   "outputs": [
    {
     "data": {
      "text/html": [
       "<div>\n",
       "<style scoped>\n",
       "    .dataframe tbody tr th:only-of-type {\n",
       "        vertical-align: middle;\n",
       "    }\n",
       "\n",
       "    .dataframe tbody tr th {\n",
       "        vertical-align: top;\n",
       "    }\n",
       "\n",
       "    .dataframe thead th {\n",
       "        text-align: right;\n",
       "    }\n",
       "</style>\n",
       "<table border=\"1\" class=\"dataframe\">\n",
       "  <thead>\n",
       "    <tr style=\"text-align: right;\">\n",
       "      <th></th>\n",
       "      <th>Player Name</th>\n",
       "      <th>Team Name</th>\n",
       "      <th>Ratings</th>\n",
       "    </tr>\n",
       "  </thead>\n",
       "  <tbody>\n",
       "    <tr>\n",
       "      <th>0</th>\n",
       "      <td>Marizanne Kapp</td>\n",
       "      <td>SA                            384</td>\n",
       "      <td>384</td>\n",
       "    </tr>\n",
       "    <tr>\n",
       "      <th>1</th>\n",
       "      <td>Natalie Sciver</td>\n",
       "      <td>ENG</td>\n",
       "      <td>372</td>\n",
       "    </tr>\n",
       "    <tr>\n",
       "      <th>2</th>\n",
       "      <td>Ellyse Perry</td>\n",
       "      <td>AUS</td>\n",
       "      <td>365</td>\n",
       "    </tr>\n",
       "    <tr>\n",
       "      <th>3</th>\n",
       "      <td>Stafanie Taylor</td>\n",
       "      <td>WI</td>\n",
       "      <td>322</td>\n",
       "    </tr>\n",
       "    <tr>\n",
       "      <th>4</th>\n",
       "      <td>Deepti Sharma</td>\n",
       "      <td>IND</td>\n",
       "      <td>299</td>\n",
       "    </tr>\n",
       "    <tr>\n",
       "      <th>5</th>\n",
       "      <td>Ashleigh Gardner</td>\n",
       "      <td>AUS</td>\n",
       "      <td>275</td>\n",
       "    </tr>\n",
       "    <tr>\n",
       "      <th>6</th>\n",
       "      <td>Dane van Niekerk</td>\n",
       "      <td>SA</td>\n",
       "      <td>274</td>\n",
       "    </tr>\n",
       "    <tr>\n",
       "      <th>7</th>\n",
       "      <td>Jess Jonassen</td>\n",
       "      <td>AUS</td>\n",
       "      <td>272</td>\n",
       "    </tr>\n",
       "    <tr>\n",
       "      <th>8</th>\n",
       "      <td>Katherine Brunt</td>\n",
       "      <td>ENG</td>\n",
       "      <td>272</td>\n",
       "    </tr>\n",
       "    <tr>\n",
       "      <th>9</th>\n",
       "      <td>Jhulan Goswami</td>\n",
       "      <td>IND</td>\n",
       "      <td>251</td>\n",
       "    </tr>\n",
       "  </tbody>\n",
       "</table>\n",
       "</div>"
      ],
      "text/plain": [
       "        Player Name                          Team Name Ratings\n",
       "0    Marizanne Kapp  SA                            384     384\n",
       "1    Natalie Sciver                                ENG     372\n",
       "2      Ellyse Perry                                AUS     365\n",
       "3   Stafanie Taylor                                 WI     322\n",
       "4     Deepti Sharma                                IND     299\n",
       "5  Ashleigh Gardner                                AUS     275\n",
       "6  Dane van Niekerk                                 SA     274\n",
       "7     Jess Jonassen                                AUS     272\n",
       "8   Katherine Brunt                                ENG     272\n",
       "9    Jhulan Goswami                                IND     251"
      ]
     },
     "execution_count": 60,
     "metadata": {},
     "output_type": "execute_result"
    }
   ],
   "source": [
    "topallrounder=pd.DataFrame({})\n",
    "topallrounder['Player Name']=total_allrounder\n",
    "topallrounder['Team Name']=top_allrounder_team\n",
    "topallrounder['Ratings']=top_allrounder_ratings\n",
    "\n",
    "topallrounder"
   ]
  },
  {
   "cell_type": "code",
   "execution_count": null,
   "metadata": {},
   "outputs": [],
   "source": []
  }
 ],
 "metadata": {
  "kernelspec": {
   "display_name": "Python 3",
   "language": "python",
   "name": "python3"
  },
  "language_info": {
   "codemirror_mode": {
    "name": "ipython",
    "version": 3
   },
   "file_extension": ".py",
   "mimetype": "text/x-python",
   "name": "python",
   "nbconvert_exporter": "python",
   "pygments_lexer": "ipython3",
   "version": "3.8.5"
  }
 },
 "nbformat": 4,
 "nbformat_minor": 4
}
